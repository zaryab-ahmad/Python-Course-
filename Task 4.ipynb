{
 "cells": [
  {
   "cell_type": "markdown",
   "id": "ab425864",
   "metadata": {},
   "source": [
    "# 1.\tWrite a Python program to remove unwanted characters from a given string.\n",
    "#### Hint: # Specify a list of unwanted characters\n",
    "### unwanted_chars = [\"#\", \"*\", \"!\", \"^\", \"%\"]\n",
    "\n",
    "### Sample Output:\n",
    "### Original String : Pyth*^on Exercis^es\n",
    "### After removing unwanted characters:\n",
    "##### Python Exercises\n",
    "##### Original String : A%^!B#*CD\n",
    "#### After removing unwanted characters:\n",
    "### ABCD\n"
   ]
  },
  {
   "cell_type": "code",
   "execution_count": 4,
   "id": "ebbc5a9f",
   "metadata": {},
   "outputs": [
    {
     "name": "stdout",
     "output_type": "stream",
     "text": [
      "Python Exercises\n",
      "ABCD\n"
     ]
    }
   ],
   "source": [
    "un_c_s1 , un_c_s2 = \"Pyth*^on Exercis^es\",\"A%^!B#*CD\"\n",
    " \n",
    "\n",
    "unwanted_chars = [\"#\", \"*\", \"!\", \"^\", \"%\"]\n",
    "new_str1 = \"\"\n",
    "for un in un_c_s1:\n",
    "    for char in un:\n",
    "        if char not in unwanted_chars:\n",
    "            new_str1 += char\n",
    "print(new_str1)\n",
    "new_str2 = \"\"\n",
    "for un in un_c_s2:\n",
    "    for char in un:\n",
    "        if char not in unwanted_chars:\n",
    "            new_str2 += char\n",
    "print(new_str2)\n"
   ]
  },
  {
   "cell_type": "markdown",
   "id": "915f315d",
   "metadata": {},
   "source": [
    "## 2. Write a Python program to remove duplicate words from a given string.\n",
    "### Sample Output:\n",
    "### Original String:\n",
    "### Java Examples Practice Solution Examples\n",
    "### After removing duplicate words from the said string:\n",
    "### Java Examples Practice Solution\n"
   ]
  },
  {
   "cell_type": "markdown",
   "id": "c674b50e",
   "metadata": {},
   "source": [
    "words = \"Java Examples Practice Solution Examples\"\n",
    "\n",
    "sub_words = words.s"
   ]
  },
  {
   "cell_type": "code",
   "execution_count": 15,
   "id": "cecd06cb",
   "metadata": {},
   "outputs": [
    {
     "name": "stdout",
     "output_type": "stream",
     "text": [
      "Original String:\n",
      "Java Examples Practice Solution Examples\n",
      "After removing duplicate words from the said string:\n",
      "['Java', 'Examples', 'Practice', 'Solution']\n"
     ]
    }
   ],
   "source": [
    "def remove_duplicate_words(input_string):\n",
    "    words = input_string.split()\n",
    "    unique_words = []\n",
    "    for word in words:\n",
    "        if word not in unique_words:\n",
    "            unique_words.append(word)\n",
    "    return (unique_words)\n",
    "\n",
    "original_string = \"Java Examples Practice Solution Examples\"\n",
    "\n",
    "result_string = remove_duplicate_words(original_string)\n",
    "\n",
    "print(\"Original String:\")\n",
    "print(original_string)\n",
    "print(\"After removing duplicate words from the said string:\")\n",
    "print(result_string)\n"
   ]
  },
  {
   "cell_type": "code",
   "execution_count": null,
   "id": "9e3d3e5e",
   "metadata": {},
   "outputs": [],
   "source": []
  }
 ],
 "metadata": {
  "kernelspec": {
   "display_name": "Python 3 (ipykernel)",
   "language": "python",
   "name": "python3"
  },
  "language_info": {
   "codemirror_mode": {
    "name": "ipython",
    "version": 3
   },
   "file_extension": ".py",
   "mimetype": "text/x-python",
   "name": "python",
   "nbconvert_exporter": "python",
   "pygments_lexer": "ipython3",
   "version": "3.11.3"
  }
 },
 "nbformat": 4,
 "nbformat_minor": 5
}
