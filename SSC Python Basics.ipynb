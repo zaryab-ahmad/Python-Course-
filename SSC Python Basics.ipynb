{
 "cells": [
  {
   "cell_type": "markdown",
   "id": "9a9dfe54",
   "metadata": {},
   "source": [
    "# SSC Python Course"
   ]
  },
  {
   "cell_type": "markdown",
   "id": "fa314287",
   "metadata": {},
   "source": [
    "First Program of this coures."
   ]
  },
  {
   "cell_type": "code",
   "execution_count": 23,
   "id": "f385018c",
   "metadata": {},
   "outputs": [
    {
     "name": "stdout",
     "output_type": "stream",
     "text": [
      "hello world\n",
      "Hello Student\n"
     ]
    }
   ],
   "source": [
    "print('hello world')\n",
    "print('Hello Student')\n",
    "\n"
   ]
  },
  {
   "cell_type": "markdown",
   "id": "5e92f77a",
   "metadata": {},
   "source": [
    "# Python Indentation"
   ]
  },
  {
   "cell_type": "markdown",
   "id": "f87917c6",
   "metadata": {},
   "source": [
    "Indentation refers to the spaces at the beginning of a code line.<br>\n",
    "Where in other programming languages the indentation in code is for readability only, <br> \n",
    "the indentation in Python is very important.<br>\n",
    "Python uses indentation to indicate a block of code.\n",
    "\n"
   ]
  },
  {
   "cell_type": "code",
   "execution_count": 24,
   "id": "972d2c8d",
   "metadata": {},
   "outputs": [
    {
     "name": "stdout",
     "output_type": "stream",
     "text": [
      "Five is greater than two!\n"
     ]
    }
   ],
   "source": [
    "if 5 > 2:\n",
    "    print(\"Five is greater than two!\")\n",
    "#Python will give you an error if you skip the indentation:\n"
   ]
  },
  {
   "cell_type": "code",
   "execution_count": 25,
   "id": "48d5cadc",
   "metadata": {},
   "outputs": [
    {
     "name": "stdout",
     "output_type": "stream",
     "text": [
      "error\n"
     ]
    }
   ],
   "source": [
    "#Example\n",
    "# Error:\n",
    "if 5 ==  2:\n",
    "    \n",
    "    print(\"Five is greater than two!\")\n",
    "    print(5)\n",
    "else:\n",
    "    print(\"error\")\n",
    "    "
   ]
  },
  {
   "cell_type": "markdown",
   "id": "43c761d3",
   "metadata": {},
   "source": [
    "# Comments\n"
   ]
  },
  {
   "cell_type": "markdown",
   "id": "3335a311",
   "metadata": {},
   "source": [
    "Python has commenting capability for the purpose of in-code documentation.\n",
    "Comments start with a #, and Python will render the rest of the line as a comment:\n"
   ]
  },
  {
   "cell_type": "code",
   "execution_count": 26,
   "id": "8965c21c",
   "metadata": {},
   "outputs": [
    {
     "name": "stdout",
     "output_type": "stream",
     "text": [
      "Hello, World!\n"
     ]
    }
   ],
   "source": [
    "#This is a comment.\n",
    "print(\"Hello, World!\")"
   ]
  },
  {
   "cell_type": "markdown",
   "id": "336f7a43",
   "metadata": {},
   "source": [
    "# Multi Line Comments"
   ]
  },
  {
   "cell_type": "raw",
   "id": "d83a331c",
   "metadata": {},
   "source": [
    "Python does not really have a syntax for multi line comments.\n",
    "To add a multiline comment you could insert a # for each line:\n"
   ]
  },
  {
   "cell_type": "code",
   "execution_count": 27,
   "id": "cf6289d8",
   "metadata": {},
   "outputs": [
    {
     "name": "stdout",
     "output_type": "stream",
     "text": [
      "Hello, World!\n"
     ]
    }
   ],
   "source": [
    "#This is a comment\n",
    "#written in\n",
    "#more than just one line\n",
    "print(\"Hello, World!\")\n"
   ]
  },
  {
   "cell_type": "raw",
   "id": "82c1eb25",
   "metadata": {},
   "source": [
    "Or, not quite as intended, you can use a multiline string.\n",
    "Since Python will ignore string literals that are not assigned to a variable, you can add \n",
    "a multiline string (triple quotes) in your code, and place your comment inside it:"
   ]
  },
  {
   "cell_type": "code",
   "execution_count": 28,
   "id": "3608e633",
   "metadata": {},
   "outputs": [
    {
     "name": "stdout",
     "output_type": "stream",
     "text": [
      "Hello, World!\n",
      "\n",
      "This is a comment\n",
      "written in\n",
      "more than just one line\n",
      "\n"
     ]
    }
   ],
   "source": [
    "a = \"\"\"\n",
    "This is a comment\n",
    "written in\n",
    "more than just one line\n",
    "\"\"\"\n",
    "print(\"Hello, World!\")\n",
    "print(a)\n"
   ]
  },
  {
   "cell_type": "markdown",
   "id": "548c63ac",
   "metadata": {},
   "source": [
    "# 1. Variables "
   ]
  },
  {
   "cell_type": "markdown",
   "id": "a2535aa6",
   "metadata": {},
   "source": [
    "A Python variable is a named location in computer memory that stores data values.\n",
    "It acts as a container to hold data that can be referenced and manipulated within a program.\n",
    "Variables can hold various types of data such as numbers, strings, lists, tuples,\n",
    "dictionaries, and more. In Python, variables are dynamically typed,\n",
    "meaning you do not need to declare the type of a variable explicitly;\n",
    "Python determines the data type based on the value assigned to it.\n",
    "Variables in Python are created using the assignment operator (=)."
   ]
  },
  {
   "cell_type": "code",
   "execution_count": 29,
   "id": "370b6a03",
   "metadata": {},
   "outputs": [
    {
     "data": {
      "text/plain": [
       "0"
      ]
     },
     "execution_count": 29,
     "metadata": {},
     "output_type": "execute_result"
    }
   ],
   "source": [
    "name = \"python\"\n",
    "age = 18\n",
    "hight = 5.6 \n",
    "any_name_you_wish = True\n",
    "0"
   ]
  },
  {
   "cell_type": "code",
   "execution_count": 30,
   "id": "edfe8f64",
   "metadata": {},
   "outputs": [
    {
     "name": "stdout",
     "output_type": "stream",
     "text": [
      "python 2\n"
     ]
    }
   ],
   "source": [
    "num = str() \n",
    "Name = 2\n",
    "print(name , Name)\n"
   ]
  },
  {
   "cell_type": "markdown",
   "id": "0e543a00",
   "metadata": {},
   "source": [
    "#       a.Rules for the variables in python"
   ]
  },
  {
   "cell_type": "markdown",
   "id": "e065ee46",
   "metadata": {},
   "source": [
    "Naming Rules:\n",
    "\n",
    "Variable names can contain letters (a-z, A-Z), digits (0-9), and underscores (_).\n",
    "Variable names cannot start with a digit.\n",
    "Variable names are case-sensitive (myVar is different from myvar).\n",
    "Variable names cannot be reserved words (keywords) used by Python for its syntax.\n",
    "Naming Conventions:\n",
    "\n",
    "Variable names should be descriptive and meaningful, making the code easier to understand.\n",
    "Use lowercase letters for variable names. For example: my_variable.\n",
    "Use underscores to separate words in variable names (snake_case).\n",
    "Avoid using single characters for variable names unless they represent a well-known convention\n",
    "(e.g., i for loop iterators).\n",
    "For constants (values that do not change), use all uppercase letters with underscores separating words (e.g., MAX_SIZE).\n",
    "Avoid using built-in names: It's good practice to avoid using names that are already used by Python\n",
    "    itself, such as built-in functions, keywords, or commonly used modules. This can lead to unexpected behavior or errors.\n",
    "\n",
    "Scope:\n",
    "\n",
    "Variables have a scope, which defines where they can be accessed or modified within a program.\n",
    "Variables defined within a function have local scope and are accessible only within that function.\n",
    "Variables defined outside of any function (at the module level) have global scope and can be accessed \n",
    "throughout the module.\n",
    "Global variables can be accessed within functions using the global keyword, but it's generally recommended\n",
    "to avoid extensive use of global variables as they can lead to code that is difficult to understand and maintain."
   ]
  },
  {
   "cell_type": "markdown",
   "id": "8de1ecef",
   "metadata": {},
   "source": [
    "# Assign Value to Multiple Variables\n"
   ]
  },
  {
   "cell_type": "code",
   "execution_count": 31,
   "id": "15d934d4",
   "metadata": {},
   "outputs": [
    {
     "name": "stdout",
     "output_type": "stream",
     "text": [
      "Orange Banana Cherry\n",
      "Banana\n",
      "Cherry\n"
     ]
    }
   ],
   "source": [
    "# Python allows you to assign values to multiple variables in one line:\n",
    "\n",
    "x, y, z = \"Orange\", \"Banana\", \"Cherry\"\n",
    "print(x , y , z)\n",
    "print(y)\n",
    "print(z)\n",
    "\n"
   ]
  },
  {
   "cell_type": "markdown",
   "id": "19f8e258",
   "metadata": {},
   "source": [
    "# Output Variables\n"
   ]
  },
  {
   "cell_type": "markdown",
   "id": "972d8d2b",
   "metadata": {},
   "source": [
    "The Python print statement is often used to output variables.\n",
    "To combine both text and a variable, Python uses the + character:"
   ]
  },
  {
   "cell_type": "code",
   "execution_count": 32,
   "id": "8f6a7039",
   "metadata": {},
   "outputs": [
    {
     "name": "stdout",
     "output_type": "stream",
     "text": [
      "Python is awesome\n"
     ]
    }
   ],
   "source": [
    "x = \"awesome\"\n",
    "print(\"Python is \" + x)"
   ]
  },
  {
   "cell_type": "markdown",
   "id": "a6b06ea8",
   "metadata": {},
   "source": [
    "For numbers, the + character works as a mathematical operator:"
   ]
  },
  {
   "cell_type": "code",
   "execution_count": 33,
   "id": "cccdaf02",
   "metadata": {},
   "outputs": [
    {
     "name": "stdout",
     "output_type": "stream",
     "text": [
      "15\n"
     ]
    }
   ],
   "source": [
    "x = 5\n",
    "y = 10\n",
    "print(x + y)"
   ]
  },
  {
   "cell_type": "markdown",
   "id": "9c64ba07",
   "metadata": {},
   "source": [
    "If you try to combine a string and a number, Python will give you an error:\n"
   ]
  },
  {
   "cell_type": "code",
   "execution_count": 34,
   "id": "3701d7a6",
   "metadata": {},
   "outputs": [
    {
     "name": "stdout",
     "output_type": "stream",
     "text": [
      "5John\n"
     ]
    }
   ],
   "source": [
    "x = 5\n",
    "y = \"John\"\n",
    "print(str(x)+ y)"
   ]
  },
  {
   "cell_type": "markdown",
   "id": "108dfe75",
   "metadata": {},
   "source": [
    "# Global Variables"
   ]
  },
  {
   "cell_type": "raw",
   "id": "7e0445d0",
   "metadata": {},
   "source": [
    "Variables that are created outside of a function (as in all of the examples above) are\n",
    "known as global variables.\n",
    "Global variables can be used by everyone, both inside of functions and outside."
   ]
  },
  {
   "cell_type": "code",
   "execution_count": 35,
   "id": "781cec73",
   "metadata": {},
   "outputs": [
    {
     "name": "stdout",
     "output_type": "stream",
     "text": [
      "Python is awesome\n"
     ]
    }
   ],
   "source": [
    "#Example\n",
    "#Create a variable outside of a function, and use it inside the function\n",
    "x = \"awesome\"\n",
    "y = \"Python is \"\n",
    "def myfunc():\n",
    " print(y + x)\n",
    "myfunc()\n"
   ]
  },
  {
   "cell_type": "markdown",
   "id": "82a61bf0",
   "metadata": {},
   "source": [
    "If you create a variable with the same name inside a function, this variable will be\n",
    "local, and can only be used inside the function. The global variable with the same\n",
    "name will remain as it was, global and with the original value.\n"
   ]
  },
  {
   "cell_type": "code",
   "execution_count": 36,
   "id": "b09d599f",
   "metadata": {},
   "outputs": [
    {
     "name": "stdout",
     "output_type": "stream",
     "text": [
      "Python is fantastic\n",
      "Python is awesome\n"
     ]
    }
   ],
   "source": [
    "#Example\n",
    "#Create a variable inside a function, with the same name as the global variable\n",
    "x = \"awesome\"\n",
    "def myfunc():\n",
    "    x = \"fantastic\"\n",
    "    print(\"Python is \" + x)\n",
    "myfunc()\n",
    "print(\"Python is \" + x)"
   ]
  },
  {
   "cell_type": "markdown",
   "id": "c16ca255",
   "metadata": {},
   "source": [
    "# The global Keyword"
   ]
  },
  {
   "cell_type": "markdown",
   "id": "0140658e",
   "metadata": {},
   "source": [
    "Normally, when you create a variable inside a function, that variable is local, and can\n",
    "only be used inside that function.\n",
    "To create a global variable inside a function, you can use the global keyword."
   ]
  },
  {
   "cell_type": "code",
   "execution_count": 37,
   "id": "f02a8e01",
   "metadata": {},
   "outputs": [
    {
     "name": "stdout",
     "output_type": "stream",
     "text": [
      "Python is fantastic\n"
     ]
    }
   ],
   "source": [
    "#Example\n",
    "#If you use the global keyword, the variable belongs to the global scope:\n",
    "def myfunc():\n",
    "     global x\n",
    "     x = \"fantastic\"\n",
    "      \n",
    "myfunc()\n",
    "print(\"Python is \" + x)"
   ]
  },
  {
   "cell_type": "markdown",
   "id": "daf4390e",
   "metadata": {},
   "source": [
    "# DataTypes:"
   ]
  },
  {
   "cell_type": "markdown",
   "id": "af3744e8",
   "metadata": {},
   "source": [
    "Built-in Data Types\n"
   ]
  },
  {
   "cell_type": "markdown",
   "id": "45404cf5",
   "metadata": {},
   "source": [
    "<h3> In programming, data type is an important concept.\n",
    "Variables can store data of different types, and different types can do different things.\n",
    "Python has the following data types built-in by default, in these categories:\n",
    "Text Type: str\n",
    "Numeric Types: int, float, complex\n",
    "Sequence Types: list, tuple, range\n",
    "Mapping Type: dict\n",
    "Set Types: set, frozenset\n",
    "Boolean Type: bool\n",
    "Binary Types: bytes, bytearray, memoryview"
   ]
  },
  {
   "cell_type": "markdown",
   "id": "83ac5287",
   "metadata": {},
   "source": [
    "# Getting the Data Type"
   ]
  },
  {
   "cell_type": "code",
   "execution_count": 38,
   "id": "40fb5303",
   "metadata": {},
   "outputs": [
    {
     "name": "stdout",
     "output_type": "stream",
     "text": [
      "<class 'int'>\n",
      "<class 'float'>\n",
      "<class 'complex'>\n",
      "<class 'str'>\n",
      "<class 'list'>\n",
      "<class 'range'>\n",
      "<class 'set'>\n",
      "<class 'tuple'>\n",
      "<class 'dict'>\n",
      "<class 'set'>\n"
     ]
    }
   ],
   "source": [
    "print(type(5))\n",
    "print(type(5.0))\n",
    "print(type(1j))\n",
    "print(type(\"abc\"))\n",
    "print(type([1,2,3,4,5]))\n",
    "print(type(range(20)))\n",
    "print(type({1,2,3,4,5}))\n",
    "print(type((1,2,3,4,5)))\n",
    "print(type({\"name\":[\"salman\" ,\"ali\"]}))\n",
    "print(type(({1,2,3,4,5})))"
   ]
  },
  {
   "cell_type": "code",
   "execution_count": 129,
   "id": "77eddba4",
   "metadata": {},
   "outputs": [
    {
     "name": "stdout",
     "output_type": "stream",
     "text": [
      "<class 'str'>\n",
      "enter you nameali\n"
     ]
    }
   ],
   "source": [
    "a = \"name\"\n",
    "print(type(a))\n",
    "name = input(\"enter you name\")"
   ]
  },
  {
   "cell_type": "markdown",
   "id": "6c11d3ad",
   "metadata": {},
   "source": [
    "# Setting the Specific Data Type"
   ]
  },
  {
   "cell_type": "code",
   "execution_count": 39,
   "id": "fd671f7f",
   "metadata": {},
   "outputs": [],
   "source": [
    "#If you want to specify the data type, you can use the following constructor functions:\n",
    "x = str(\"Hello World\")\n",
    "x = int(20)\n",
    "x = float(20.5)\n",
    "x = complex(1j)\n",
    "x = list((\"apple\", \"banana\", \"cherry\"))\n",
    "x = tuple((\"apple\", \"banana\", \"cherry\"))\n",
    "x = range(6)\n",
    "x = dict(name=\"John\", age=36)\n",
    "x = set((\"apple\", \"banana\", \"cherry\"))"
   ]
  },
  {
   "cell_type": "code",
   "execution_count": 128,
   "id": "044a5aca",
   "metadata": {},
   "outputs": [
    {
     "data": {
      "text/plain": [
       "str"
      ]
     },
     "execution_count": 128,
     "metadata": {},
     "output_type": "execute_result"
    }
   ],
   "source": [
    "sum_of_2_num = 0\n",
    "sum_of_2_num = \"str\"\n",
    "type(sum_of_2_num)\n"
   ]
  },
  {
   "cell_type": "markdown",
   "id": "1c3b0ce4",
   "metadata": {},
   "source": [
    "Numeric Types:"
   ]
  },
  {
   "cell_type": "raw",
   "id": "c609ac1b",
   "metadata": {},
   "source": [
    "There are three numeric types in Python:\n",
    "1 int\n",
    "2 float\n",
    "3 complex\n",
    "Variables of numeric types are created when you assign a value to them:\n"
   ]
  },
  {
   "cell_type": "code",
   "execution_count": 40,
   "id": "f0b9e4e0",
   "metadata": {},
   "outputs": [],
   "source": [
    "#Example\n",
    "x = 1 # int\n",
    "y = 2.8 # float\n",
    "z = 1j # complex"
   ]
  },
  {
   "cell_type": "raw",
   "id": "13c0cfef",
   "metadata": {},
   "source": [
    "To verify the type of any object in Python, use the type() function:\n"
   ]
  },
  {
   "cell_type": "code",
   "execution_count": 41,
   "id": "1ac11a5a",
   "metadata": {},
   "outputs": [
    {
     "name": "stdout",
     "output_type": "stream",
     "text": [
      "<class 'int'>\n",
      "<class 'float'>\n",
      "<class 'complex'>\n"
     ]
    }
   ],
   "source": [
    "#Example\n",
    "print(type(x))\n",
    "print(type(y))\n",
    "print(type(z))"
   ]
  },
  {
   "cell_type": "markdown",
   "id": "331b16ad",
   "metadata": {},
   "source": [
    "# Int"
   ]
  },
  {
   "cell_type": "markdown",
   "id": "2ecc5137",
   "metadata": {},
   "source": [
    "Int, or integer, is a whole number, positive or negative, without decimals, of unlimited\n",
    "length.\n",
    "Example\n",
    "Integers:\n"
   ]
  },
  {
   "cell_type": "code",
   "execution_count": 42,
   "id": "6b97cf02",
   "metadata": {},
   "outputs": [
    {
     "name": "stdout",
     "output_type": "stream",
     "text": [
      "<class 'int'>\n",
      "<class 'int'>\n",
      "<class 'int'>\n"
     ]
    }
   ],
   "source": [
    "x = 1\n",
    "y = 35656222554887711\n",
    "z = -3255522\n",
    "print(type(x))\n",
    "print(type(y))\n",
    "print(type(z))\n"
   ]
  },
  {
   "cell_type": "markdown",
   "id": "48f6fb22",
   "metadata": {},
   "source": [
    "# Float"
   ]
  },
  {
   "cell_type": "markdown",
   "id": "3bfebcd3",
   "metadata": {},
   "source": [
    "# Float, or \"floating point number\" is a number, positive or negative, containing one or\n",
    "more decimals.\n",
    "Example"
   ]
  },
  {
   "cell_type": "code",
   "execution_count": 144,
   "id": "a192da9b",
   "metadata": {},
   "outputs": [
    {
     "name": "stdout",
     "output_type": "stream",
     "text": [
      "<class 'float'>\n",
      "<class 'float'>\n",
      "<class 'float'>\n"
     ]
    }
   ],
   "source": [
    "x = 1.10\n",
    "y = 1.0\n",
    "z = -350.590000000099999900909\n",
    "print(type(x))\n",
    "print(type(y))\n",
    "print(type(z))"
   ]
  },
  {
   "cell_type": "markdown",
   "id": "5a55268c",
   "metadata": {},
   "source": [
    "# Complex"
   ]
  },
  {
   "cell_type": "markdown",
   "id": "3f212797",
   "metadata": {},
   "source": [
    "Complex numbers are written with a \"j\" as the imaginary part:\n",
    "Example\n",
    "Complex"
   ]
  },
  {
   "cell_type": "code",
   "execution_count": 131,
   "id": "f4852c64",
   "metadata": {},
   "outputs": [
    {
     "ename": "TypeError",
     "evalue": "int() argument must be a string, a bytes-like object or a real number, not 'complex'",
     "output_type": "error",
     "traceback": [
      "\u001b[1;31m---------------------------------------------------------------------------\u001b[0m",
      "\u001b[1;31mTypeError\u001b[0m                                 Traceback (most recent call last)",
      "Cell \u001b[1;32mIn[131], line 4\u001b[0m\n\u001b[0;32m      2\u001b[0m y \u001b[38;5;241m=\u001b[39m \u001b[38;5;241m5\u001b[39mj\n\u001b[0;32m      3\u001b[0m z \u001b[38;5;241m=\u001b[39m \u001b[38;5;241m-\u001b[39m\u001b[38;5;241m5\u001b[39mj\n\u001b[1;32m----> 4\u001b[0m a \u001b[38;5;241m=\u001b[39m \u001b[38;5;28mint\u001b[39m(z)\n\u001b[0;32m      5\u001b[0m \u001b[38;5;28mprint\u001b[39m(\u001b[38;5;28mtype\u001b[39m(x))\n\u001b[0;32m      6\u001b[0m \u001b[38;5;28mprint\u001b[39m(\u001b[38;5;28mtype\u001b[39m(y))\n",
      "\u001b[1;31mTypeError\u001b[0m: int() argument must be a string, a bytes-like object or a real number, not 'complex'"
     ]
    }
   ],
   "source": [
    "x = 3+5j\n",
    "y = 5j\n",
    "z = -5j\n",
    "a = int(z)\n",
    "print(type(x))\n",
    "print(type(y))\n",
    "print(type(z))"
   ]
  },
  {
   "cell_type": "markdown",
   "id": "46b24b70",
   "metadata": {},
   "source": [
    "# Type Conversion"
   ]
  },
  {
   "cell_type": "markdown",
   "id": "37012126",
   "metadata": {},
   "source": [
    "You can convert from one type to another with the int(), float(),\n",
    "and complex() methods:\n",
    "Example\n",
    "Convert from one type to another:\n"
   ]
  },
  {
   "cell_type": "code",
   "execution_count": 45,
   "id": "daa45dcf",
   "metadata": {},
   "outputs": [
    {
     "name": "stdout",
     "output_type": "stream",
     "text": [
      "1.0\n",
      "2\n",
      "(1+0j)\n",
      "<class 'float'>\n",
      "<class 'int'>\n",
      "<class 'complex'>\n"
     ]
    }
   ],
   "source": [
    "x = 1 # int\n",
    "y = 2.8 # float\n",
    "z = 1j # complex\n",
    "#convert from int to float:\n",
    "a = float(x)\n",
    "#convert from float to int:\n",
    "b = int(y)\n",
    "#convert from int to complex:\n",
    "c = complex(x)\n",
    "print(a)\n",
    "print(b)\n",
    "print(c)\n",
    "print(type(a))\n",
    "print(type(b))\n",
    "print(type(c))\n"
   ]
  },
  {
   "cell_type": "code",
   "execution_count": 135,
   "id": "8b4465be",
   "metadata": {},
   "outputs": [
    {
     "name": "stdout",
     "output_type": "stream",
     "text": [
      "<class 'complex'>\n"
     ]
    },
    {
     "data": {
      "text/plain": [
       "(10+0j)"
      ]
     },
     "execution_count": 135,
     "metadata": {},
     "output_type": "execute_result"
    }
   ],
   "source": [
    "a = 10\n",
    "b = 1j\n",
    "\n",
    "c = complex(a)\n",
    "print(type(c))\n",
    "c"
   ]
  },
  {
   "cell_type": "raw",
   "id": "333d7c0c",
   "metadata": {},
   "source": [
    "Note: You cannot convert complex numbers into another number type."
   ]
  },
  {
   "cell_type": "markdown",
   "id": "b962da8d",
   "metadata": {},
   "source": [
    "# Random Number"
   ]
  },
  {
   "cell_type": "markdown",
   "id": "88787ac9",
   "metadata": {},
   "source": [
    "Python does not have a random() function to make a random number, but Python has\n",
    "a built-in module called random that can be used to make random numbers:\n",
    "\n",
    "will learn more about the Random module."
   ]
  },
  {
   "cell_type": "code",
   "execution_count": 137,
   "id": "42fd43d0",
   "metadata": {},
   "outputs": [
    {
     "name": "stdout",
     "output_type": "stream",
     "text": [
      "4\n"
     ]
    }
   ],
   "source": [
    "#Example\n",
    "#Import the random module, and display a random number between 1 and 9:\n",
    "\n",
    "import random\n",
    "print(random.randrange(1,10))"
   ]
  },
  {
   "cell_type": "markdown",
   "id": "273dcff3",
   "metadata": {},
   "source": [
    "# Python Strings"
   ]
  },
  {
   "cell_type": "markdown",
   "id": "c4dc3f8e",
   "metadata": {},
   "source": [
    "String literals in python are surrounded by either single quotation marks, or double\n",
    "quotation marks.\n",
    "'hello' is the same as \"hello\".\n",
    "You can display a string literal with the print() function:"
   ]
  },
  {
   "cell_type": "code",
   "execution_count": 47,
   "id": "3740f7ad",
   "metadata": {},
   "outputs": [
    {
     "name": "stdout",
     "output_type": "stream",
     "text": [
      "Hello\n",
      "Hello\n"
     ]
    }
   ],
   "source": [
    "#Example\n",
    "print(\"Hello\")\n",
    "print('Hello')"
   ]
  },
  {
   "cell_type": "markdown",
   "id": "f9402feb",
   "metadata": {},
   "source": [
    "## Assign String to a Variable"
   ]
  },
  {
   "cell_type": "markdown",
   "id": "51e93898",
   "metadata": {},
   "source": [
    "Assigning a string to a variable is done with the variable name followed by an equal\n",
    "sign and the string:"
   ]
  },
  {
   "cell_type": "code",
   "execution_count": 48,
   "id": "1bcfc914",
   "metadata": {},
   "outputs": [
    {
     "name": "stdout",
     "output_type": "stream",
     "text": [
      "Hello\n"
     ]
    }
   ],
   "source": [
    "#Example\n",
    "a = \"Hello\"\n",
    "print(a)"
   ]
  },
  {
   "cell_type": "markdown",
   "id": "99eea7ff",
   "metadata": {},
   "source": [
    "### Multiline Strings"
   ]
  },
  {
   "cell_type": "markdown",
   "id": "19b5bdc2",
   "metadata": {},
   "source": [
    "You can assign a multiline string to a variable by using three quotes:"
   ]
  },
  {
   "cell_type": "code",
   "execution_count": 138,
   "id": "b8c8312f",
   "metadata": {},
   "outputs": [
    {
     "name": "stdout",
     "output_type": "stream",
     "text": [
      "Lorem ipsum dolor sit amet,\n",
      "consectetur adipiscing elit,\n",
      "\n",
      "sed do eiusmod tempor incididunt\n",
      "ut labore et dolore magna aliqua.\n"
     ]
    }
   ],
   "source": [
    "#Example\n",
    "#You can use three double quotes:\n",
    "a = \"\"\"Lorem ipsum dolor sit amet,\n",
    "consectetur adipiscing elit,\n",
    "\n",
    "sed do eiusmod tempor incididunt\n",
    "ut labore et dolore magna aliqua.\"\"\"\n",
    "print(a)"
   ]
  },
  {
   "cell_type": "code",
   "execution_count": 139,
   "id": "81c53e78",
   "metadata": {},
   "outputs": [
    {
     "name": "stdout",
     "output_type": "stream",
     "text": [
      " abc \n",
      "abc \n",
      "abc\n",
      "\n"
     ]
    }
   ],
   "source": [
    "b = ''' abc \n",
    "abc \n",
    "abc\n",
    "'''\n",
    "print(b)"
   ]
  },
  {
   "cell_type": "markdown",
   "id": "0a9041d7",
   "metadata": {},
   "source": [
    "Or three single quotes:"
   ]
  },
  {
   "cell_type": "code",
   "execution_count": 50,
   "id": "9c44b5fa",
   "metadata": {},
   "outputs": [
    {
     "name": "stdout",
     "output_type": "stream",
     "text": [
      "Lorem ipsum dolor sit amet,\n",
      "consectetur adipiscing elit,\n",
      "sed do eiusmod tempor incididunt\n",
      "ut labore et dolore magna aliqua.\n"
     ]
    }
   ],
   "source": [
    "#Example\n",
    "a = '''Lorem ipsum dolor sit amet,\n",
    "consectetur adipiscing elit,\n",
    "sed do eiusmod tempor incididunt\n",
    "ut labore et dolore magna aliqua.'''\n",
    "print(a)\n"
   ]
  },
  {
   "cell_type": "markdown",
   "id": "ad016bf7",
   "metadata": {},
   "source": [
    "Note: in the result, the line breaks are inserted at the same position as in the code."
   ]
  },
  {
   "cell_type": "markdown",
   "id": "481045b1",
   "metadata": {},
   "source": [
    "## Strings are Arrays"
   ]
  },
  {
   "cell_type": "markdown",
   "id": "2f150b13",
   "metadata": {},
   "source": [
    "Like many other popular programming languages, strings in Python are arrays of\n",
    "bytes representing unicode characters.\n",
    "However, Python does not have a character data type, a single character is simply a\n",
    "string with a length of 1.\n",
    "Square brackets can be used to access elements of the string."
   ]
  },
  {
   "cell_type": "raw",
   "id": "47bf9236",
   "metadata": {},
   "source": [
    "Example\n",
    "Get the character at position 1 (remember that the first character has the position 0):"
   ]
  },
  {
   "cell_type": "code",
   "execution_count": 51,
   "id": "4f95989d",
   "metadata": {},
   "outputs": [
    {
     "name": "stdout",
     "output_type": "stream",
     "text": [
      "e\n"
     ]
    }
   ],
   "source": [
    "a = \"Hello, World!\"\n",
    "print(a[1])"
   ]
  },
  {
   "cell_type": "code",
   "execution_count": 142,
   "id": "809f6836",
   "metadata": {},
   "outputs": [],
   "source": [
    "name = \"python\"\n"
   ]
  },
  {
   "cell_type": "code",
   "execution_count": 146,
   "id": "2a295e99",
   "metadata": {},
   "outputs": [
    {
     "name": "stdout",
     "output_type": "stream",
     "text": [
      "1.1\n"
     ]
    }
   ],
   "source": [
    "name[1]\n",
    "print(x)"
   ]
  },
  {
   "cell_type": "markdown",
   "id": "c4353fbf",
   "metadata": {},
   "source": [
    "### Slicing"
   ]
  },
  {
   "cell_type": "raw",
   "id": "99a04cd7",
   "metadata": {},
   "source": [
    "You can return a range of characters by using the slice syntax.\n",
    "Specify the start index and the end index, separated by a colon, to return a part of\n",
    "the string.\n"
   ]
  },
  {
   "cell_type": "markdown",
   "id": "63cc908c",
   "metadata": {},
   "source": []
  },
  {
   "cell_type": "code",
   "execution_count": 148,
   "id": "cb7713f1",
   "metadata": {},
   "outputs": [
    {
     "name": "stdout",
     "output_type": "stream",
     "text": [
      "Wor\n"
     ]
    }
   ],
   "source": [
    "#Example\n",
    "#Get the characters from position 2 to position 5 (not included):\n",
    "b = \"Hello, World!\"\n",
    "print(b[7:10])"
   ]
  },
  {
   "cell_type": "markdown",
   "id": "36fe4660",
   "metadata": {},
   "source": [
    "### Negative Indexing"
   ]
  },
  {
   "cell_type": "markdown",
   "id": "d75d0fce",
   "metadata": {},
   "source": [
    "Use negative indexes to start the slice from the end of the string:\n",
    "Example\n",
    "Get the characters from position 5 to position 1, starting the count from the end of\n",
    "the string:\n"
   ]
  },
  {
   "cell_type": "code",
   "execution_count": 152,
   "id": "2925d665",
   "metadata": {},
   "outputs": [
    {
     "name": "stdout",
     "output_type": "stream",
     "text": [
      "l\n",
      "string:\n"
     ]
    }
   ],
   "source": [
    "b = \"Hello, World!\"\n",
    "print(b[-3])\n",
    "c = \"\"\"Use negative indexes to start the slice from the end of the string:\n",
    "Example Get the characters from position 5 to position 1, starting the count from the end of the string:\"\"\"\n",
    "print(c[-7:])\n"
   ]
  },
  {
   "cell_type": "code",
   "execution_count": 153,
   "id": "33e503f3",
   "metadata": {},
   "outputs": [
    {
     "data": {
      "text/plain": [
       "'tring'"
      ]
     },
     "execution_count": 153,
     "metadata": {},
     "output_type": "execute_result"
    }
   ],
   "source": [
    "a = \"string\"\n",
    "a[1:]"
   ]
  },
  {
   "cell_type": "code",
   "execution_count": 194,
   "id": "6339c863",
   "metadata": {},
   "outputs": [
    {
     "name": "stdout",
     "output_type": "stream",
     "text": [
      "1 3 4 6 7\n",
      "(1+0j) (3+0j) (4+0j) (6+0j) (7+0j)\n",
      "(1+0j) (3+0j) (4+0j) (6+0j) (7+0j)\n",
      "(1+0j) (3+0j) (4+0j) (6+0j) (7+0j)\n"
     ]
    }
   ],
   "source": [
    "a =  1 \n",
    "b = 3 \n",
    "c = 4 \n",
    "d = 6 \n",
    "f = 7 \n",
    "print(a , b, c, d, f)\n",
    "a = complex(a)\n",
    "b = complex(b)\n",
    "c = complex(c)\n",
    "d = complex(d)\n",
    "f = complex(f)\n",
    "print(a , b, c, d, f)\n",
    "a = str(a)\n",
    "b = str(b)\n",
    "c = str(c)\n",
    "d = str(d)\n",
    "f = str(f)\n",
    "print(a , b, c, d, f)\n",
    "a.replace(\"0j\" , \"AB\")\n",
    "b.replace(\"0j\" , \"AB\")\n",
    "c.replace(\"0j\" , \"AB\")\n",
    "d.replace(\"0j\" , \"AB\")\n",
    "f.replace(\"0j\" , \"AB\")\n",
    "\n",
    "print(a , b, c, d, f)"
   ]
  },
  {
   "cell_type": "markdown",
   "id": "01585733",
   "metadata": {},
   "source": [
    "## String Length"
   ]
  },
  {
   "cell_type": "markdown",
   "id": "169580b0",
   "metadata": {},
   "source": [
    "To get the length of a string, use the len() function.\n",
    "Example\n",
    "The len() function returns the length of a string:"
   ]
  },
  {
   "cell_type": "code",
   "execution_count": 154,
   "id": "45c96046",
   "metadata": {},
   "outputs": [
    {
     "name": "stdout",
     "output_type": "stream",
     "text": [
      "13\n"
     ]
    }
   ],
   "source": [
    "a = \"Hello, World!\"\n",
    "print(len(a))"
   ]
  },
  {
   "cell_type": "code",
   "execution_count": 156,
   "id": "3bfdc389",
   "metadata": {},
   "outputs": [
    {
     "data": {
      "text/plain": [
       "3"
      ]
     },
     "execution_count": 156,
     "metadata": {},
     "output_type": "execute_result"
    }
   ],
   "source": [
    "name = \"ali\"\n",
    "len(name)"
   ]
  },
  {
   "cell_type": "markdown",
   "id": "15784a1a",
   "metadata": {},
   "source": [
    "## String Methods\n"
   ]
  },
  {
   "cell_type": "markdown",
   "id": "17d90e3c",
   "metadata": {},
   "source": [
    "Python has a set of built-in methods that you can use on strings.\n",
    "Example\n",
    "The strip() method removes any whitespace from the beginning or the end:"
   ]
  },
  {
   "cell_type": "code",
   "execution_count": 162,
   "id": "5111425c",
   "metadata": {},
   "outputs": [
    {
     "name": "stdout",
     "output_type": "stream",
     "text": [
      "Hello,   World!\n"
     ]
    }
   ],
   "source": [
    "a = \"      Hello,   World!        \"\n",
    "print(a.strip()) # returns \"Hello, World!\"\n"
   ]
  },
  {
   "cell_type": "code",
   "execution_count": 163,
   "id": "481ed5c7",
   "metadata": {},
   "outputs": [
    {
     "name": "stdout",
     "output_type": "stream",
     "text": [
      "hello, world!\n"
     ]
    }
   ],
   "source": [
    "#Example\n",
    "#The lower() method returns the string in lower case:\n",
    "a = \"HeLLo, World!\"\n",
    "print(a.lower())"
   ]
  },
  {
   "cell_type": "code",
   "execution_count": 57,
   "id": "5728fb2f",
   "metadata": {},
   "outputs": [
    {
     "name": "stdout",
     "output_type": "stream",
     "text": [
      "HELLO, WORLD!\n"
     ]
    }
   ],
   "source": [
    "#Example\n",
    "#The upper() method returns the string in upper case:\n",
    "a = \"Hello, World!\"\n",
    "print(a.upper())"
   ]
  },
  {
   "cell_type": "code",
   "execution_count": 192,
   "id": "6bf5ac45",
   "metadata": {},
   "outputs": [
    {
     "name": "stdout",
     "output_type": "stream",
     "text": [
      "Hello, 6ld!\n"
     ]
    }
   ],
   "source": [
    "#Example\n",
    "#The replace() method replaces a string with another string:\n",
    "a = \"Hello, World!\"\n",
    "print(a.replace(\"Wor\", \"6\"))"
   ]
  },
  {
   "cell_type": "code",
   "execution_count": 190,
   "id": "b291536a",
   "metadata": {},
   "outputs": [
    {
     "name": "stdout",
     "output_type": "stream",
     "text": [
      "153\n"
     ]
    }
   ],
   "source": [
    "a = \"123\"\n",
    "print(a.replace(\"2\", \"5\"))"
   ]
  },
  {
   "cell_type": "code",
   "execution_count": 59,
   "id": "f5b3077a",
   "metadata": {},
   "outputs": [
    {
     "name": "stdout",
     "output_type": "stream",
     "text": [
      "['Hello', ' World!']\n",
      "<class 'str'>\n"
     ]
    }
   ],
   "source": [
    "#Example\n",
    "#The split() method splits the string into substrings if it finds instances of the\n",
    "#separator:\n",
    "a = \"Hello, World!\"\n",
    "print(a.split(\",\"))\n",
    " # returns ['Hello', ' World!']\n",
    "print(type(a))"
   ]
  },
  {
   "cell_type": "markdown",
   "id": "a3a34148",
   "metadata": {},
   "source": [
    "## Check String"
   ]
  },
  {
   "cell_type": "markdown",
   "id": "608b17dc",
   "metadata": {},
   "source": [
    "To check if a certain phrase or character is present in a string, we can use the\n",
    "keywords in or not in."
   ]
  },
  {
   "cell_type": "code",
   "execution_count": 195,
   "id": "f5a38f6b",
   "metadata": {},
   "outputs": [
    {
     "name": "stdout",
     "output_type": "stream",
     "text": [
      "False\n"
     ]
    }
   ],
   "source": [
    "#Example\n",
    "#Check if the phrase \"ain\" is present in the following text:\n",
    "txt = \"islamia college peshawar\"\n",
    "x = \"abc\" in txt\n",
    "print(x)"
   ]
  },
  {
   "cell_type": "code",
   "execution_count": 197,
   "id": "a3aabb46",
   "metadata": {},
   "outputs": [
    {
     "name": "stdout",
     "output_type": "stream",
     "text": [
      "True\n"
     ]
    }
   ],
   "source": [
    "#Example\n",
    "#Check if the phrase \"ain\" is NOT present in the following text:\n",
    "txt = \"islamia college peshawar\"\n",
    "x = \"acb\" not in txt\n",
    "print(x)\n"
   ]
  },
  {
   "cell_type": "markdown",
   "id": "b453d8ac",
   "metadata": {},
   "source": [
    "## String Concatenation"
   ]
  },
  {
   "cell_type": "markdown",
   "id": "61c96bc7",
   "metadata": {},
   "source": [
    "To concatenate, or combine, two strings you can use the + operator."
   ]
  },
  {
   "cell_type": "code",
   "execution_count": 62,
   "id": "5de4d682",
   "metadata": {},
   "outputs": [
    {
     "name": "stdout",
     "output_type": "stream",
     "text": [
      "HelloWorld\n"
     ]
    }
   ],
   "source": [
    "#Example\n",
    "#Merge variable a with variable b into variable c:\n",
    "a = \"Hello\"\n",
    "b = \"World\"\n",
    "c = a + b\n",
    "print(c)"
   ]
  },
  {
   "cell_type": "code",
   "execution_count": 63,
   "id": "eac133bb",
   "metadata": {},
   "outputs": [
    {
     "name": "stdout",
     "output_type": "stream",
     "text": [
      "Hello World\n"
     ]
    }
   ],
   "source": [
    "#Example\n",
    "#To add a space between them, add a \" \":\n",
    "a = \"Hello\"\n",
    "b = \"World\"\n",
    "c = a + \" \" + b\n",
    "print(c)"
   ]
  },
  {
   "cell_type": "markdown",
   "id": "c46e5173",
   "metadata": {},
   "source": [
    "## String Format\n"
   ]
  },
  {
   "cell_type": "markdown",
   "id": "ef40289d",
   "metadata": {},
   "source": [
    "As we learned in the Python Variables chapter, we cannot combine strings and\n",
    "numbers like this:"
   ]
  },
  {
   "cell_type": "code",
   "execution_count": 64,
   "id": "4f8f6383",
   "metadata": {},
   "outputs": [
    {
     "ename": "TypeError",
     "evalue": "can only concatenate str (not \"int\") to str",
     "output_type": "error",
     "traceback": [
      "\u001b[1;31m---------------------------------------------------------------------------\u001b[0m",
      "\u001b[1;31mTypeError\u001b[0m                                 Traceback (most recent call last)",
      "Cell \u001b[1;32mIn[64], line 3\u001b[0m\n\u001b[0;32m      1\u001b[0m \u001b[38;5;66;03m#Example\u001b[39;00m\n\u001b[0;32m      2\u001b[0m age \u001b[38;5;241m=\u001b[39m \u001b[38;5;241m36\u001b[39m\n\u001b[1;32m----> 3\u001b[0m txt \u001b[38;5;241m=\u001b[39m \u001b[38;5;124;43m\"\u001b[39;49m\u001b[38;5;124;43mMy name is John, I am \u001b[39;49m\u001b[38;5;124;43m\"\u001b[39;49m\u001b[43m \u001b[49m\u001b[38;5;241;43m+\u001b[39;49m\u001b[43m \u001b[49m\u001b[43mage\u001b[49m\n\u001b[0;32m      4\u001b[0m \u001b[38;5;28mprint\u001b[39m(txt)\n",
      "\u001b[1;31mTypeError\u001b[0m: can only concatenate str (not \"int\") to str"
     ]
    }
   ],
   "source": [
    "#Example\n",
    "age = 36\n",
    "txt = \"My name is John, I am \" + age\n",
    "print(txt)"
   ]
  },
  {
   "cell_type": "markdown",
   "id": "83b09e7d",
   "metadata": {},
   "source": [
    "But we can combine strings and numbers by using the format() method!\n",
    "The format() method takes the passed arguments, formats them, and places them in\n",
    "the string where the placeholders {} are:"
   ]
  },
  {
   "cell_type": "code",
   "execution_count": 199,
   "id": "cd2ae896",
   "metadata": {},
   "outputs": [
    {
     "name": "stdout",
     "output_type": "stream",
     "text": [
      "My name is ahmad, is my age20  \n"
     ]
    }
   ],
   "source": [
    "#Example\n",
    "#Use the format() method to insert numbers into strings:\n",
    "age = 20\n",
    "txt = \"My name is ahmad, is my age{}  \"\n",
    "print(txt.format(age))\n"
   ]
  },
  {
   "cell_type": "markdown",
   "id": "85f07c0f",
   "metadata": {},
   "source": [
    "The format() method takes unlimited number of arguments, and are placed into the\n",
    "respective placeholders:"
   ]
  },
  {
   "cell_type": "code",
   "execution_count": 200,
   "id": "cf5fa51e",
   "metadata": {},
   "outputs": [
    {
     "name": "stdout",
     "output_type": "stream",
     "text": [
      "my class number is 21135, semeter 6 and cnic 123456\n"
     ]
    }
   ],
   "source": [
    "#Example\n",
    "semester = 6\n",
    "classno = 21135\n",
    "cnic = 123456\n",
    "stdinfo = \"my class number is {}, semeter {} and cnic {}\"\n",
    "print(stdinfo.format(classno , semester , cnic))"
   ]
  },
  {
   "cell_type": "markdown",
   "id": "56ffb7e1",
   "metadata": {},
   "source": [
    "You can use index numbers {0} to be sure the arguments are placed in the correct\n",
    "placeholders:\n"
   ]
  },
  {
   "cell_type": "code",
   "execution_count": 201,
   "id": "51a2811a",
   "metadata": {},
   "outputs": [
    {
     "name": "stdout",
     "output_type": "stream",
     "text": [
      "class number = 6 ,  cnic is 21135  and semester 123456\n"
     ]
    }
   ],
   "source": [
    "#Example\n",
    "semester = 6\n",
    "classno = 21135\n",
    "cnic = 123456\n",
    "stdinfo = \"class number = {2} ,  cnic is {1}  and semester {0}\"\n",
    "print(stdinfo.format( cnic ,semester, classno ))"
   ]
  },
  {
   "cell_type": "markdown",
   "id": "66f819af",
   "metadata": {},
   "source": [
    "## Escape Character"
   ]
  },
  {
   "cell_type": "markdown",
   "id": "06e148f5",
   "metadata": {},
   "source": [
    "To insert characters that are illegal in a string, use an escape character.\n",
    "An escape character is a backslash \\ followed by the character you want to insert.\n",
    "An example of an illegal character is a double quote inside a string that is surrounded\n",
    "by double quotes:"
   ]
  },
  {
   "cell_type": "code",
   "execution_count": null,
   "id": "fa430fa1",
   "metadata": {},
   "outputs": [
    {
     "ename": "SyntaxError",
     "evalue": "invalid syntax (580438777.py, line 4)",
     "output_type": "error",
     "traceback": [
      "\u001b[1;36m  Cell \u001b[1;32mIn[81], line 4\u001b[1;36m\u001b[0m\n\u001b[1;33m    txt = \"We are the so-called \"Vikings\" from the north.\"\u001b[0m\n\u001b[1;37m                                 ^\u001b[0m\n\u001b[1;31mSyntaxError\u001b[0m\u001b[1;31m:\u001b[0m invalid syntax\n"
     ]
    }
   ],
   "source": [
    "#Example\n",
    "#You will get an error if you use double quotes inside a string that is surrounded by\n",
    "#double quotes:\n",
    "txt = \"We are the so-called \"Vikings\" from the north.\""
   ]
  },
  {
   "cell_type": "markdown",
   "id": "bf12692b",
   "metadata": {},
   "source": [
    "To fix this problem, use the escape character \\\\\":"
   ]
  },
  {
   "cell_type": "code",
   "execution_count": 202,
   "id": "8fbf31c1",
   "metadata": {},
   "outputs": [
    {
     "name": "stdout",
     "output_type": "stream",
     "text": [
      "We are the so-called \"Vikings\" from the north.\n"
     ]
    }
   ],
   "source": [
    "#Example\n",
    "#The escape character allows you to use double quotes when you normally would not\n",
    "#be allowed:\n",
    "txt = \"We are the so-called \\\"Vikings\\\" from the north.\"\n",
    "print(txt)\n"
   ]
  },
  {
   "cell_type": "markdown",
   "id": "5a44a92c",
   "metadata": {},
   "source": [
    "###### Other escape characters used in Python:"
   ]
  },
  {
   "cell_type": "markdown",
   "id": "2ea1eabe",
   "metadata": {},
   "source": [
    "<h1> Try it "
   ]
  },
  {
   "cell_type": "raw",
   "id": "dc73e04f",
   "metadata": {},
   "source": [
    "\\' Single Quote      Try it »\n",
    "\\\\ Backslash         Try it »\n",
    "\\n New Line          Try it »\n",
    "\\r Carriage Return   Try it »\n",
    "\\t Tab               Try it »\n"
   ]
  },
  {
   "cell_type": "markdown",
   "id": "e263fbc5",
   "metadata": {},
   "source": [
    "## String Methods\n"
   ]
  },
  {
   "cell_type": "markdown",
   "id": "73f0736c",
   "metadata": {},
   "source": [
    "Python has a set of built-in methods that you can use on strings.\n"
   ]
  },
  {
   "cell_type": "markdown",
   "id": "9e837198",
   "metadata": {},
   "source": [
    "Note: All string methods returns new values. They do not change the original string."
   ]
  },
  {
   "cell_type": "markdown",
   "id": "8f17c914",
   "metadata": {},
   "source": [
    "<h1> String Methods <h1>"
   ]
  },
  {
   "cell_type": "raw",
   "id": "63396212",
   "metadata": {},
   "source": [
    "Method          Description\n",
    "capitalize()    Converts the first character to upper case\n",
    "casefold()      Converts string into lower case\n",
    "center()        Returns a centered string\n",
    "count()         Returns the number of times a specified value occurs in a string\n",
    "encode()        Returns an encoded version of the string\n",
    "endswith()      Returns true if the string ends with the specified value\n",
    "expandtabs()    Sets the tab size of the string\n",
    "find()          Searches the string for a specified value and returns the position of where it was found\n",
    "format()        Formats specified values in a string\n",
    "format_map()    Formats specified values in a string\n",
    "index()         Searches the string for a specified value and returns the position of where it was found\n",
    "isalnum()       Returns True if all characters in the string are alphanumeric\n",
    "isalpha()       Returns True if all characters in the string are in the alphabet\n",
    "isdecimal()     Returns True if all characters in the string are decimals\n",
    "isdigit()       Returns True if all characters in the string are digits\n",
    "isidentifier()  Returns True if the string is an identifier\n",
    "islower()       Returns True if all characters in the string are lower case\n",
    "isnumeric()     Returns True if all characters in the string are numeric\n",
    "isprintable()   Returns True if all characters in the string are printable\n",
    "isspace()       Returns True if all characters in the string are whitespaces\n",
    "istitle()       Returns True if the string follows the rules of a title\n",
    "isupper()       Returns True if all characters in the string are upper case\n",
    "join()          Joins the elements of an iterable to the end of the string\n",
    "ljust()         Returns a left justified version of the string\n",
    "lower()         Converts a string into lower case\n",
    "lstrip()        Returns a left trim version of the string\n",
    "maketrans()     Returns a translation table to be used in translations\n",
    "partition()     Returns a tuple where the string is parted into three parts\n",
    "replace()       Returns a string where a specified value is replaced with a specified value\n",
    "rfind()         Searches the string for a specified value and returns the last position of where it was\n",
    "found\n",
    "rindex()        Searches the string for a specified value and returns the last position of where it was\n",
    "found\n",
    "rjust()         Returns a right justified version of the string\n",
    "rpartition()    Returns a tuple where the string is parted into three parts\n",
    "rsplit()        Splits the string at the specified separator, and returns a list\n",
    "rstrip()        Returns a right trim version of the string\n",
    "split()         Splits the string at the specified separator, and returns a list\n",
    "splitlines()    Splits the string at line breaks and returns a list\n",
    "startswith()    Returns true if the string starts with the specified value\n",
    "strip()         Returns a trimmed version of the string\n",
    "swapcase()      Swaps cases, lower case becomes upper case and vice versa\n",
    "title()         Converts the first character of each word to upper case\n",
    "translate()     Returns a translated string\n",
    "upper()         Converts a string into upper case\n",
    "zfill()         Fills the string with a specified number of 0 values at the beginning\n"
   ]
  },
  {
   "cell_type": "markdown",
   "id": "033afb22",
   "metadata": {},
   "source": [
    "# Python Booleans\n"
   ]
  },
  {
   "cell_type": "markdown",
   "id": "b097828b",
   "metadata": {},
   "source": [
    "Booleans represent one of two values: True or False."
   ]
  },
  {
   "cell_type": "markdown",
   "id": "6bf599fa",
   "metadata": {},
   "source": [
    "## Boolean Values"
   ]
  },
  {
   "cell_type": "markdown",
   "id": "308ab231",
   "metadata": {},
   "source": [
    "In programming you often need to know if an expression is True or False.\n",
    "You can evaluate any expression in Python, and get one of two answers, True or False.\n",
    "When you compare two values, the expression is evaluated and Python returns the\n",
    "Boolean answer"
   ]
  },
  {
   "cell_type": "code",
   "execution_count": null,
   "id": "547344ba",
   "metadata": {},
   "outputs": [
    {
     "name": "stdout",
     "output_type": "stream",
     "text": [
      "True\n",
      "False\n",
      "False\n"
     ]
    }
   ],
   "source": [
    "#Example\n",
    "print(10 > 9)\n",
    "print(10 == 9)\n",
    "print(10 < 9)\n"
   ]
  },
  {
   "cell_type": "markdown",
   "id": "81ad4125",
   "metadata": {},
   "source": [
    "When you run a condition in an if statement, Python returns True or False:"
   ]
  },
  {
   "cell_type": "code",
   "execution_count": null,
   "id": "90de6675",
   "metadata": {},
   "outputs": [
    {
     "name": "stdout",
     "output_type": "stream",
     "text": [
      "b is not greater than a\n"
     ]
    }
   ],
   "source": [
    "#Example\n",
    "#Print a message based on whether the condition is True or False:\n",
    "a = 200\n",
    "b = 33\n",
    "if b > a:\n",
    "    print(\"b is greater than a\")\n",
    "else:\n",
    "    print(\"b is not greater than a\")"
   ]
  },
  {
   "cell_type": "markdown",
   "id": "1e5e0fa7",
   "metadata": {},
   "source": [
    "## Functions can Return a Boolean"
   ]
  },
  {
   "cell_type": "markdown",
   "id": "37a1e7b7",
   "metadata": {},
   "source": [
    "Python also has many built-in functions that returns a boolean value, like\n",
    "the isinstance() function, which can be used to determine if an object is of a certain\n",
    "data type:"
   ]
  },
  {
   "cell_type": "code",
   "execution_count": 204,
   "id": "9ac0f6a3",
   "metadata": {},
   "outputs": [
    {
     "name": "stdout",
     "output_type": "stream",
     "text": [
      "False\n"
     ]
    }
   ],
   "source": [
    "#Example\n",
    "#Check if an object is an integer or not:\n",
    "x = 200\n",
    "print(isinstance(x, int))"
   ]
  },
  {
   "cell_type": "code",
   "execution_count": 208,
   "id": "6123a4a8",
   "metadata": {},
   "outputs": [
    {
     "data": {
      "text/plain": [
       "True"
      ]
     },
     "execution_count": 208,
     "metadata": {},
     "output_type": "execute_result"
    }
   ],
   "source": [
    "bool(\" \")"
   ]
  },
  {
   "cell_type": "markdown",
   "id": "c8f463d7",
   "metadata": {},
   "source": [
    "<h1>Most Values are True\n"
   ]
  },
  {
   "cell_type": "markdown",
   "id": "ef8d7cff",
   "metadata": {},
   "source": [
    "Almost any value is evaluated to True if it has some sort of content.<br>\n",
    "Any string is True, except empty strings.<br>\n",
    "Any number is True, except 0.<br>\n",
    "Any list, tuple, set, and dictionary are True, except empty ones.<br>\n"
   ]
  },
  {
   "cell_type": "code",
   "execution_count": 1,
   "id": "31f47592",
   "metadata": {},
   "outputs": [
    {
     "data": {
      "text/plain": [
       "True"
      ]
     },
     "execution_count": 1,
     "metadata": {},
     "output_type": "execute_result"
    }
   ],
   "source": [
    "bool(\"abc\")\n",
    "bool(123)\n",
    "bool([\"apple\", \"cherry\", \"banana\"])"
   ]
  },
  {
   "cell_type": "markdown",
   "id": "121952f2",
   "metadata": {},
   "source": [
    "<h1>Some Values are False</h1>\n",
    "In fact, there are not many values that evaluates to False, except empty values, such\n",
    "as (), [], {}, \"\", the number 0, and the value None. And of course the\n",
    "value False evaluates to False."
   ]
  },
  {
   "cell_type": "code",
   "execution_count": 3,
   "id": "14a40894",
   "metadata": {},
   "outputs": [
    {
     "data": {
      "text/plain": [
       "False"
      ]
     },
     "execution_count": 3,
     "metadata": {},
     "output_type": "execute_result"
    }
   ],
   "source": [
    "#Example\n",
    "#The following will return False:\n",
    "bool(False)\n",
    "bool(None)\n",
    "bool(0)\n",
    "bool(\"\")\n",
    "bool(())\n",
    "bool([])\n",
    "bool({})"
   ]
  },
  {
   "cell_type": "code",
   "execution_count": null,
   "id": "34bdafc6",
   "metadata": {},
   "outputs": [],
   "source": []
  },
  {
   "cell_type": "markdown",
   "id": "8fbfd5c1",
   "metadata": {},
   "source": [
    "## Python Operators"
   ]
  },
  {
   "cell_type": "markdown",
   "id": "ba0ed67b",
   "metadata": {},
   "source": [
    "Operators are used to perform operations on variables and values.\n",
    "Python divides the operators in the following groups:"
   ]
  },
  {
   "cell_type": "markdown",
   "id": "3edb0c25",
   "metadata": {},
   "source": [
    "<h3> Arithmetic operators\n",
    " Assignment operators\n",
    " Comparison operators\n",
    " Logical operators\n",
    " Identity operators\n"
   ]
  },
  {
   "cell_type": "markdown",
   "id": "7775dbe6",
   "metadata": {},
   "source": [
    "### Python Arithmetic Operators"
   ]
  },
  {
   "cell_type": "markdown",
   "id": "fe91829a",
   "metadata": {},
   "source": [
    "Arithmetic operators are used with numeric values to perform common mathematical\n",
    "operations:"
   ]
  },
  {
   "cell_type": "code",
   "execution_count": 16,
   "id": "d2b75330",
   "metadata": {},
   "outputs": [
    {
     "name": "stdout",
     "output_type": "stream",
     "text": [
      "7\n"
     ]
    }
   ],
   "source": [
    "#Addition\n",
    "print(3+4)"
   ]
  },
  {
   "cell_type": "code",
   "execution_count": 17,
   "id": "d6802c47",
   "metadata": {},
   "outputs": [
    {
     "name": "stdout",
     "output_type": "stream",
     "text": [
      "-1\n"
     ]
    }
   ],
   "source": [
    "#Subtraction\n",
    "print(3-4)"
   ]
  },
  {
   "cell_type": "code",
   "execution_count": 18,
   "id": "e9c3458a",
   "metadata": {},
   "outputs": [
    {
     "name": "stdout",
     "output_type": "stream",
     "text": [
      "12\n"
     ]
    }
   ],
   "source": [
    "#Multiplication\n",
    "print(3 * 4)"
   ]
  },
  {
   "cell_type": "code",
   "execution_count": 19,
   "id": "fdbfd7da",
   "metadata": {},
   "outputs": [
    {
     "name": "stdout",
     "output_type": "stream",
     "text": [
      "3.0\n"
     ]
    }
   ],
   "source": [
    "#Division\n",
    "print( 3/1)\n"
   ]
  },
  {
   "cell_type": "code",
   "execution_count": 20,
   "id": "4b2abf70",
   "metadata": {},
   "outputs": [
    {
     "name": "stdout",
     "output_type": "stream",
     "text": [
      "1\n"
     ]
    }
   ],
   "source": [
    "#Modulus\n",
    "print(4 % 3)"
   ]
  },
  {
   "cell_type": "code",
   "execution_count": 21,
   "id": "99961e34",
   "metadata": {},
   "outputs": [
    {
     "name": "stdout",
     "output_type": "stream",
     "text": [
      "9\n"
     ]
    }
   ],
   "source": [
    "#power\n",
    "print(3 ** 2)"
   ]
  },
  {
   "cell_type": "code",
   "execution_count": 7,
   "id": "978b87e5",
   "metadata": {},
   "outputs": [
    {
     "name": "stdout",
     "output_type": "stream",
     "text": [
      "3\n"
     ]
    }
   ],
   "source": [
    "#Floor division\n",
    "print( 10 // 3)"
   ]
  },
  {
   "cell_type": "markdown",
   "id": "f4cc0f33",
   "metadata": {},
   "source": []
  },
  {
   "cell_type": "markdown",
   "id": "c35760c4",
   "metadata": {},
   "source": [
    "### Python Assignment Operators"
   ]
  },
  {
   "cell_type": "markdown",
   "id": "7abb5e61",
   "metadata": {},
   "source": [
    "Assignment operators are used to assign values to variables:"
   ]
  },
  {
   "cell_type": "code",
   "execution_count": 14,
   "id": "5e56fcd4",
   "metadata": {},
   "outputs": [
    {
     "name": "stdout",
     "output_type": "stream",
     "text": [
      "X =  5\n",
      "X =  8\n",
      "X =  7\n",
      "X =  7\n",
      "X =  3.5\n",
      "X =  3.5\n",
      "X =  42.875\n"
     ]
    }
   ],
   "source": [
    "x = 5 \n",
    "print(\"X = \", x)\n",
    "x += 3\n",
    "print(\"X = \", x)\n",
    "x -= 1\n",
    "print(\"X = \", x)\n",
    "x *= 1\n",
    "print(\"X = \", x)\n",
    "x /= 2\n",
    "print(\"X = \", x)\n",
    "x %= 4\n",
    "print(\"X = \" ,x)\n",
    "x **= 3\n",
    "print(\"X = \", x)\n",
    "\n"
   ]
  },
  {
   "cell_type": "markdown",
   "id": "d9387c31",
   "metadata": {},
   "source": [
    "<h3>\n",
    " Same As "
   ]
  },
  {
   "cell_type": "code",
   "execution_count": 12,
   "id": "e4207788",
   "metadata": {},
   "outputs": [
    {
     "name": "stdout",
     "output_type": "stream",
     "text": [
      "X =  5\n",
      "X =  8\n",
      "X =  7\n",
      "X =  7\n",
      "X =  3.5\n",
      "X =  3.5\n",
      "X =  42.875\n"
     ]
    }
   ],
   "source": [
    "x = 5 \n",
    "print(\"X = \", x)\n",
    "x = x + 3\n",
    "print(\"X = \", x)\n",
    "x= x - 1\n",
    "print(\"X = \", x)\n",
    "x= x * 1\n",
    "print(\"X = \", x)\n",
    "x= x / 2\n",
    "print(\"X = \", x)\n",
    "x= x % 4\n",
    "print(\"X = \" ,x)\n",
    "x = x ** 3\n",
    "print(\"X = \", x)\n"
   ]
  },
  {
   "cell_type": "markdown",
   "id": "4b3000d5",
   "metadata": {},
   "source": [
    "<h1>Python Comparison Operators</h1>\n",
    "Comparison operators are used to compare two values:\n"
   ]
  },
  {
   "cell_type": "code",
   "execution_count": 15,
   "id": "c6125a82",
   "metadata": {},
   "outputs": [
    {
     "data": {
      "text/plain": [
       "True"
      ]
     },
     "execution_count": 15,
     "metadata": {},
     "output_type": "execute_result"
    }
   ],
   "source": [
    "#Equal \n",
    "a = 4\n",
    "b = 4 \n",
    "a == b"
   ]
  },
  {
   "cell_type": "code",
   "execution_count": 16,
   "id": "6c5411c2",
   "metadata": {},
   "outputs": [
    {
     "data": {
      "text/plain": [
       "False"
      ]
     },
     "execution_count": 16,
     "metadata": {},
     "output_type": "execute_result"
    }
   ],
   "source": [
    "#Not equal \n",
    "a != b"
   ]
  },
  {
   "cell_type": "code",
   "execution_count": 18,
   "id": "748c8480",
   "metadata": {},
   "outputs": [
    {
     "data": {
      "text/plain": [
       "False"
      ]
     },
     "execution_count": 18,
     "metadata": {},
     "output_type": "execute_result"
    }
   ],
   "source": [
    "#Greater than \n",
    "a > b"
   ]
  },
  {
   "cell_type": "code",
   "execution_count": 20,
   "id": "0423f9fb",
   "metadata": {},
   "outputs": [
    {
     "data": {
      "text/plain": [
       "False"
      ]
     },
     "execution_count": 20,
     "metadata": {},
     "output_type": "execute_result"
    }
   ],
   "source": [
    "#Less than\n",
    "a < b"
   ]
  },
  {
   "cell_type": "code",
   "execution_count": 21,
   "id": "09988f56",
   "metadata": {},
   "outputs": [
    {
     "data": {
      "text/plain": [
       "True"
      ]
     },
     "execution_count": 21,
     "metadata": {},
     "output_type": "execute_result"
    }
   ],
   "source": [
    "#Greater than or equal to\n",
    "a >= b"
   ]
  },
  {
   "cell_type": "code",
   "execution_count": 22,
   "id": "1ab29261",
   "metadata": {},
   "outputs": [
    {
     "data": {
      "text/plain": [
       "True"
      ]
     },
     "execution_count": 22,
     "metadata": {},
     "output_type": "execute_result"
    }
   ],
   "source": [
    "#Less than or equal to\n",
    "a <= b"
   ]
  },
  {
   "cell_type": "markdown",
   "id": "7570e24e",
   "metadata": {},
   "source": [
    "<h1>Python Logical Operators</h1>\n",
    "\n",
    "Logical operators are used to combine conditional statements:"
   ]
  },
  {
   "cell_type": "code",
   "execution_count": 24,
   "id": "47d93b49",
   "metadata": {},
   "outputs": [
    {
     "name": "stdout",
     "output_type": "stream",
     "text": [
      "False\n"
     ]
    }
   ],
   "source": [
    "# and Operator \n",
    "#Returns True if both statements are\n",
    "#true\n",
    "\n",
    "print( a < 3 and a > 1)\n"
   ]
  },
  {
   "cell_type": "code",
   "execution_count": 26,
   "id": "6aad5e2d",
   "metadata": {},
   "outputs": [
    {
     "name": "stdout",
     "output_type": "stream",
     "text": [
      "True\n"
     ]
    }
   ],
   "source": [
    "#or \n",
    "#Returns True if one of the statements\n",
    "#is true\n",
    "\n",
    "print( a < 3 or  a > 1)\n"
   ]
  },
  {
   "cell_type": "code",
   "execution_count": 35,
   "id": "6a2de547",
   "metadata": {},
   "outputs": [
    {
     "name": "stdout",
     "output_type": "stream",
     "text": [
      "False\n"
     ]
    }
   ],
   "source": [
    "# not\n",
    "#Reverse the result, returns False if\n",
    "#the result is true\n",
    "\n",
    "print(not( a < 3 or  a > 1))\n"
   ]
  },
  {
   "cell_type": "markdown",
   "id": "7e30124b",
   "metadata": {},
   "source": [
    "<h1>Python Identity Operators</h1>\n",
    "Identity operators are used to compare the objects, not if they are equal, but if they\n",
    "are actually the same object, with the same memory location:"
   ]
  },
  {
   "cell_type": "markdown",
   "id": "e87f4d6f",
   "metadata": {},
   "source": [
    "<h3>is"
   ]
  },
  {
   "cell_type": "code",
   "execution_count": 262,
   "id": "adc6285b",
   "metadata": {},
   "outputs": [
    {
     "name": "stdout",
     "output_type": "stream",
     "text": [
      "False\n"
     ]
    },
    {
     "data": {
      "text/plain": [
       "float"
      ]
     },
     "execution_count": 262,
     "metadata": {},
     "output_type": "execute_result"
    }
   ],
   "source": [
    "#Returns true if both variables are the\n",
    "#same object\n",
    "a = 4.0\n",
    "b = 4.0\n",
    "print(a is b)\n",
    "type(b)\n",
    "\n"
   ]
  },
  {
   "cell_type": "code",
   "execution_count": 4,
   "id": "a1cb7118",
   "metadata": {},
   "outputs": [
    {
     "name": "stdout",
     "output_type": "stream",
     "text": [
      "False\n",
      "True\n"
     ]
    },
    {
     "data": {
      "text/plain": [
       "True"
      ]
     },
     "execution_count": 4,
     "metadata": {},
     "output_type": "execute_result"
    }
   ],
   "source": [
    "a = 5 \n",
    "b = 5.0\n",
    "\n",
    "print(a is b)\n",
    "print(a == b)\n",
    "c = 5\n",
    "a == c"
   ]
  },
  {
   "cell_type": "code",
   "execution_count": 270,
   "id": "2b9c7d96",
   "metadata": {},
   "outputs": [
    {
     "name": "stdout",
     "output_type": "stream",
     "text": [
      "False\n"
     ]
    }
   ],
   "source": [
    "num1 = 1.0\n",
    "num2 = 1.0\n",
    "print(num1 is num2)\n"
   ]
  },
  {
   "cell_type": "markdown",
   "id": "efa7a283",
   "metadata": {},
   "source": [
    "<h3>is not "
   ]
  },
  {
   "cell_type": "code",
   "execution_count": 242,
   "id": "eba010ef",
   "metadata": {},
   "outputs": [
    {
     "data": {
      "text/plain": [
       "True"
      ]
     },
     "execution_count": 242,
     "metadata": {},
     "output_type": "execute_result"
    }
   ],
   "source": [
    "#Returns true if both variables are not the\n",
    "#same object\n",
    "b = 4\n",
    "a \n",
    "a is not b"
   ]
  },
  {
   "cell_type": "markdown",
   "id": "40faef9d",
   "metadata": {},
   "source": [
    "<h1>Python Membership Operators</h1>\n",
    "    \n",
    "Membership operators are used to test if a sequence is presented in an object:\n"
   ]
  },
  {
   "cell_type": "markdown",
   "id": "3ee7a967",
   "metadata": {},
   "source": [
    "<h3>in</h3>\n",
    "Returns True if a sequence with\n",
    "the specified value is present in\n",
    "the object\n"
   ]
  },
  {
   "cell_type": "code",
   "execution_count": 268,
   "id": "d44dc923",
   "metadata": {},
   "outputs": [
    {
     "data": {
      "text/plain": [
       "False"
      ]
     },
     "execution_count": 268,
     "metadata": {},
     "output_type": "execute_result"
    }
   ],
   "source": [
    "name =  \"islamia\"\n",
    "\"ah\" in name"
   ]
  },
  {
   "cell_type": "markdown",
   "id": "06e7ed3d",
   "metadata": {},
   "source": [
    "<h1>not in</h1>\n",
    "Returns True if a sequence with\n",
    "the specified value is not present\n",
    "in the object\n"
   ]
  },
  {
   "cell_type": "code",
   "execution_count": 269,
   "id": "8693a3ad",
   "metadata": {},
   "outputs": [
    {
     "data": {
      "text/plain": [
       "True"
      ]
     },
     "execution_count": 269,
     "metadata": {},
     "output_type": "execute_result"
    }
   ],
   "source": [
    "name =  \"islamia\"\n",
    "\"as\" not in name"
   ]
  },
  {
   "cell_type": "markdown",
   "id": "dbc80b18",
   "metadata": {},
   "source": [
    "## Python Bitwise Operators\n"
   ]
  },
  {
   "cell_type": "markdown",
   "id": "5f69aff0",
   "metadata": {},
   "source": [
    "Python provides several bitwise operators for performing operations on individual bits of integer values. Here are the bitwise operators available in Python:\n",
    "\n",
    "<h3>Bitwise AND (&):</h3>\n",
    "Returns 1 for each bit position where both operands have a 1.\n",
    "<h3>Bitwise OR (|):</h3>\n",
    "Returns 1 for each bit position where at least one operand has a 1.\n",
    "<h3>Bitwise XOR (^):</h3>\n",
    "Returns 1 for each bit position where exactly one operand has a 1.\n",
    "<h3>Bitwise NOT (~):</h3>\n",
    "Inverts all the bits of the operand, turning 1s into 0s and vice versa.\n",
    "<h3>Left Shift (<<):</h3>\n",
    "Shifts the bits of the left operand to the left by the number of positions specified by the right operand.\n",
    "<h3>Right Shift (>>):</h3>\n",
    "Shifts the bits of the left operand to the right by the number of positions specified by the right operand."
   ]
  },
  {
   "cell_type": "code",
   "execution_count": 1,
   "id": "6122dd94",
   "metadata": {},
   "outputs": [
    {
     "name": "stdout",
     "output_type": "stream",
     "text": [
      "Bitwise AND: 1\n",
      "Bitwise OR: 7\n",
      "Bitwise XOR: 6\n",
      "Bitwise NOT: -6\n",
      "Left Shift: 10\n",
      "Right Shift: 2\n"
     ]
    }
   ],
   "source": [
    "# Bitwise AND\n",
    "result_and = 5 & 3  # 0101 & 0011 = 0001\n",
    "print(\"Bitwise AND:\", result_and)  # Output: 1\n",
    "\n",
    "# Bitwise OR\n",
    "result_or = 5 | 3  # 0101 | 0011 = 0111\n",
    "print(\"Bitwise OR:\", result_or)  # Output: 7\n",
    "\n",
    "# Bitwise XOR\n",
    "result_xor = 5 ^ 3  # 0101 ^ 0011 = 0110\n",
    "print(\"Bitwise XOR:\", result_xor)  # Output: 6\n",
    "\n",
    "# Bitwise NOT\n",
    "result_not = ~5  # ~0101 = 1010 (in two's complement)\n",
    "print(\"Bitwise NOT:\", result_not)  # Output: -6\n",
    "\n",
    "# Left Shift\n",
    "result_left_shift = 5 << 1  # 0101 << 1 = 1010\n",
    "print(\"Left Shift:\", result_left_shift)  # Output: 10\n",
    "\n",
    "# Right Shift\n",
    "result_right_shift = 5 >> 1  # 0101 >> 1 = 0010\n",
    "print(\"Right Shift:\", result_right_shift)  # Output: 2"
   ]
  },
  {
   "cell_type": "markdown",
   "id": "bc0652b1",
   "metadata": {},
   "source": [
    "# Python Lists"
   ]
  },
  {
   "cell_type": "markdown",
   "id": "ac6cea34",
   "metadata": {},
   "source": [
    "<h2>Python Collections (Arrays)</h2>\n",
    "There are four collection data types in the Python programming language:<br>\n",
    "\n",
    " <h3>  List</h3> is a collection which is ordered and changeable. Allows duplicate members.<br>\n",
    "    <h3> Tuple </h3>is a collection which is ordered and unchangeable. Allows duplicate\n",
    "members.<br>\n",
    "    <h3> Set</h3> is a collection which is unordered and unindexed. No duplicate members.<br>\n",
    "    <h3> Dictionary </h3>is a collection which is unordered, changeable and indexed. No\n",
    "duplicate members.<br>"
   ]
  },
  {
   "cell_type": "markdown",
   "id": "679a7a4a",
   "metadata": {},
   "source": [
    "When choosing a collection type, it is useful to understand the properties of that type.\n",
    "Choosing the right type for a particular data set could mean retention of meaning,\n",
    "and, it could mean an increase in efficiency or security."
   ]
  },
  {
   "cell_type": "markdown",
   "id": "be45e66b",
   "metadata": {},
   "source": [
    "<h1>List</h1>\n",
    "\n",
    "A list is a collection which is ordered and changeable. In Python lists are written with\n",
    "square brackets."
   ]
  },
  {
   "cell_type": "code",
   "execution_count": 59,
   "id": "57c3e3eb",
   "metadata": {},
   "outputs": [
    {
     "name": "stdout",
     "output_type": "stream",
     "text": [
      "['apple', 'banana', 'cherry']\n"
     ]
    }
   ],
   "source": [
    "#Example\n",
    "#Create a List:\n",
    "thislist = [\"apple\", \"banana\", \"cherry\"]\n",
    "print(thislist)"
   ]
  },
  {
   "cell_type": "code",
   "execution_count": 11,
   "id": "eb623b14",
   "metadata": {},
   "outputs": [
    {
     "data": {
      "text/plain": [
       "list"
      ]
     },
     "execution_count": 11,
     "metadata": {},
     "output_type": "execute_result"
    }
   ],
   "source": [
    "l1 = [1 , 2, 3, 4, 5 ,\"abc\" , 1.0 , 1j , 2+2]\n",
    "type(l1)"
   ]
  },
  {
   "cell_type": "markdown",
   "id": "2ec45378",
   "metadata": {},
   "source": [
    "<h1>Access Items</h1>\n",
    "You access the list items by referring to the index number:"
   ]
  },
  {
   "cell_type": "code",
   "execution_count": 12,
   "id": "8ce65927",
   "metadata": {},
   "outputs": [
    {
     "name": "stdout",
     "output_type": "stream",
     "text": [
      "banana\n",
      "cherry\n"
     ]
    }
   ],
   "source": [
    "#Example\n",
    "#Print the second item of the list:\n",
    "thislist = [\"apple\", \"banana\", \"cherry\"]\n",
    "print(thislist[1])\n",
    "print(thislist[2])"
   ]
  },
  {
   "cell_type": "markdown",
   "id": "1737a886",
   "metadata": {},
   "source": [
    "<h2>Negative Indexing</h2>\n",
    "Negative indexing means beginning from the end, -1 refers to the last item, -2 refers\n",
    "to the second last item etc.\n"
   ]
  },
  {
   "cell_type": "code",
   "execution_count": 14,
   "id": "411f54aa",
   "metadata": {},
   "outputs": [
    {
     "name": "stdout",
     "output_type": "stream",
     "text": [
      "['apple', 'banana']\n"
     ]
    }
   ],
   "source": [
    "#Example\n",
    "#Print the last item of the list:\n",
    "thislist = [\"apple\", \"banana\", \"cherry\"]\n",
    "print(thislist[0:2])\n"
   ]
  },
  {
   "cell_type": "markdown",
   "id": "1b9893f8",
   "metadata": {},
   "source": [
    "<h2>Range of Indexes</h2>\n",
    "You can specify a range of indexes by specifying where to start and where to end the\n",
    "range.\n",
    "When specifying a range, the return value will be a new list with the specified items.\n",
    "<h4>Example</h4>\n"
   ]
  },
  {
   "cell_type": "code",
   "execution_count": 15,
   "id": "675e8dfd",
   "metadata": {},
   "outputs": [
    {
     "name": "stdout",
     "output_type": "stream",
     "text": [
      "['cherry', 'orange', 'kiwi']\n"
     ]
    }
   ],
   "source": [
    "#Return the third, fourth, and fifth item:\n",
    "thislist = [\"apple\", \"banana\", \"cherry\", \"orange\", \"kiwi\", \"melon\", \"mango\"]\n",
    "print(thislist[2:5])"
   ]
  },
  {
   "cell_type": "markdown",
   "id": "4b622341",
   "metadata": {},
   "source": [
    "<h3>Note:</h3> The search will start at index 2 (included) and end at index 5 (not included).\n",
    "Remember that the first item has index 0."
   ]
  },
  {
   "cell_type": "code",
   "execution_count": 66,
   "id": "eccc2c83",
   "metadata": {},
   "outputs": [
    {
     "name": "stdout",
     "output_type": "stream",
     "text": [
      "['apple', 'banana', 'cherry', 'orange']\n"
     ]
    }
   ],
   "source": [
    "thislist = [\"apple\", \"banana\", \"cherry\", \"orange\", \"kiwi\", \"melon\", \"mango\"]\n",
    "print(thislist[:4])\n"
   ]
  },
  {
   "cell_type": "code",
   "execution_count": 67,
   "id": "1512d638",
   "metadata": {},
   "outputs": [
    {
     "name": "stdout",
     "output_type": "stream",
     "text": [
      "['cherry', 'orange', 'kiwi', 'melon', 'mango']\n"
     ]
    }
   ],
   "source": [
    "thislist = [\"apple\", \"banana\", \"cherry\", \"orange\", \"kiwi\", \"melon\", \"mango\"]\n",
    "print(thislist[2:])"
   ]
  },
  {
   "cell_type": "markdown",
   "id": "e386f225",
   "metadata": {},
   "source": [
    "<h3>Range of Negative Indexes</h3>\n",
    "Specify negative indexes if you want to start the search from the end of the list:\n",
    "<h4>Example</h4>"
   ]
  },
  {
   "cell_type": "code",
   "execution_count": 17,
   "id": "7ef7f99e",
   "metadata": {},
   "outputs": [
    {
     "name": "stdout",
     "output_type": "stream",
     "text": [
      "['orange', 'kiwi', 'melon', 'mango']\n",
      "mango\n"
     ]
    }
   ],
   "source": [
    "#This example returns the items from index -4 (included) to index -1 (excluded)\n",
    "thislist = [\"apple\", \"banana\", \"cherry\", \"orange\", \"kiwi\", \"melon\", \"mango\"]\n",
    "print(thislist[-4: -1])\n",
    "print(thislist[-1])\n"
   ]
  },
  {
   "cell_type": "markdown",
   "id": "57352fcf",
   "metadata": {},
   "source": [
    "# <h3>Change Item Value</h3>\n",
    "To change the value of a specific item, refer to the index number:\n",
    "<h4>Example</h4>\n",
    "Change the second item:"
   ]
  },
  {
   "cell_type": "code",
   "execution_count": 70,
   "id": "fad15e25",
   "metadata": {},
   "outputs": [
    {
     "name": "stdout",
     "output_type": "stream",
     "text": [
      "['apple', 'abc', 'cherry']\n"
     ]
    }
   ],
   "source": [
    "thislist = [\"apple\", \"banana\", \"cherry\"]\n",
    "thislist[1] = \"abc\"\n",
    "print(thislist)"
   ]
  },
  {
   "cell_type": "markdown",
   "id": "09252951",
   "metadata": {},
   "source": [
    "<h3>Loop Through a List</h3>\n",
    "You can loop through the list items by using a for loop:\n",
    "<h4>Example</h4>\n",
    "Print all items in the list, one by one:"
   ]
  },
  {
   "cell_type": "code",
   "execution_count": 21,
   "id": "8e3df644",
   "metadata": {},
   "outputs": [
    {
     "name": "stdout",
     "output_type": "stream",
     "text": [
      "['apple', 'banana', 'cherry']\n"
     ]
    }
   ],
   "source": [
    "thislist = [\"apple\", \"banana\", \"cherry\"]\n",
    "x = thislist\n",
    "if x is thislist:\n",
    "    print(x)"
   ]
  },
  {
   "cell_type": "markdown",
   "id": "0c9783be",
   "metadata": {},
   "source": [
    "<h3>Check if Item Exists</h3>\n",
    "To determine if a specified item is present in a list use the in keyword:\n",
    "<h4>Example</h4>\n",
    "Check if \"apple\" is present in the list:"
   ]
  },
  {
   "cell_type": "code",
   "execution_count": 26,
   "id": "4db234ed",
   "metadata": {},
   "outputs": [
    {
     "name": "stdout",
     "output_type": "stream",
     "text": [
      "Yes, 'banana' is in the fruits list\n"
     ]
    }
   ],
   "source": [
    "thislist = [\"apple\", \"banana\", \"cherry\"]\n",
    "if \"banana\" in thislist:\n",
    "    print(\"Yes, 'banana' is in the fruits list\")\n",
    "else:\n",
    "    print(\"no\")"
   ]
  },
  {
   "cell_type": "markdown",
   "id": "fb14e7eb",
   "metadata": {},
   "source": [
    "<h3>List Length</h3>\n",
    "To determine how many items a list has, use the len() function:\n",
    "<h4>Example</h4>\n",
    "Print the number of items in the list:"
   ]
  },
  {
   "cell_type": "code",
   "execution_count": 29,
   "id": "8864be81",
   "metadata": {},
   "outputs": [
    {
     "name": "stdout",
     "output_type": "stream",
     "text": [
      "5\n",
      "4\n"
     ]
    }
   ],
   "source": [
    "thislist = [\"apple\", \"banana\", \"cherry\" , 1 , 2]\n",
    "print(len(thislist))\n",
    "s = \"äbcd\"\n",
    "print(len(s))"
   ]
  },
  {
   "cell_type": "markdown",
   "id": "cb5462b9",
   "metadata": {},
   "source": [
    "<h3>Add Items</h3>\n",
    "To add an item to the end of the list, use the append() method:\n",
    "<h4>Example</h4>\n",
    "Using the append() method to append an item:"
   ]
  },
  {
   "cell_type": "code",
   "execution_count": 31,
   "id": "bedc12bf",
   "metadata": {},
   "outputs": [
    {
     "name": "stdout",
     "output_type": "stream",
     "text": [
      "['apple', 'banana', 'cherry', ['orange', 1, 2]]\n"
     ]
    }
   ],
   "source": [
    "thislist = [\"apple\", \"banana\", \"cherry\"]\n",
    "thislist.append([\"orange\", 1,2])\n",
    "print(thislist)\n"
   ]
  },
  {
   "cell_type": "markdown",
   "id": "278518f5",
   "metadata": {},
   "source": [
    "To add an item at the specified index, use the insert() method:"
   ]
  },
  {
   "cell_type": "code",
   "execution_count": 32,
   "id": "220c355e",
   "metadata": {},
   "outputs": [
    {
     "name": "stdout",
     "output_type": "stream",
     "text": [
      "['apple', 'orange', 'abc', 'banana', 'cherry']\n"
     ]
    }
   ],
   "source": [
    "#Example\n",
    "#Insert an item as the second position:\n",
    "thislist = [\"apple\", \"banana\", \"cherry\"]\n",
    "thislist.insert(1, \"orange\")\n",
    "thislist.insert(2, \"abc\")\n",
    "\n",
    "print(thislist)\n"
   ]
  },
  {
   "cell_type": "markdown",
   "id": "3ca7ded2",
   "metadata": {},
   "source": [
    "<h3>Remove Item</h3>\n",
    "There are several methods to remove items from a list:\n",
    "<h4>Example</h4>\n",
    "The remove() method removes the specified item:"
   ]
  },
  {
   "cell_type": "code",
   "execution_count": 33,
   "id": "54a920c2",
   "metadata": {},
   "outputs": [
    {
     "name": "stdout",
     "output_type": "stream",
     "text": [
      "['banana', 'cherry']\n"
     ]
    }
   ],
   "source": [
    "thislist = [\"apple\", \"banana\", \"cherry\"]\n",
    "thislist.remove(\"apple\")\n",
    "\n",
    "print(thislist)\n"
   ]
  },
  {
   "cell_type": "markdown",
   "id": "0348a647",
   "metadata": {},
   "source": [
    "<h4>Example</h4>\n",
    "The pop() method removes the specified index, (or the last item if index is not\n",
    "specified):"
   ]
  },
  {
   "cell_type": "code",
   "execution_count": 81,
   "id": "da0c1cc3",
   "metadata": {},
   "outputs": [
    {
     "name": "stdout",
     "output_type": "stream",
     "text": [
      "['apple', 'banana']\n"
     ]
    }
   ],
   "source": [
    "thislist = [\"apple\", \"banana\", \"cherry\"]\n",
    "thislist.pop()\n",
    "print(thislist)"
   ]
  },
  {
   "cell_type": "markdown",
   "id": "28bd274c",
   "metadata": {},
   "source": [
    "<h4>Example</h4>\n",
    "The del keyword removes the specified index:\n"
   ]
  },
  {
   "cell_type": "code",
   "execution_count": 82,
   "id": "6abcb04d",
   "metadata": {},
   "outputs": [
    {
     "name": "stdout",
     "output_type": "stream",
     "text": [
      "['banana', 'cherry']\n"
     ]
    }
   ],
   "source": [
    "thislist = [\"apple\", \"banana\", \"cherry\"]\n",
    "del thislist[0]\n",
    "print(thislist)\n"
   ]
  },
  {
   "cell_type": "markdown",
   "id": "aff04016",
   "metadata": {},
   "source": [
    "<h4>Example</h4>\n",
    "The del keyword can also delete the list completely:\n"
   ]
  },
  {
   "cell_type": "code",
   "execution_count": 36,
   "id": "c6a02de1",
   "metadata": {},
   "outputs": [
    {
     "name": "stdout",
     "output_type": "stream",
     "text": [
      "['apple', 'banana']\n"
     ]
    }
   ],
   "source": [
    "thislist = [\"apple\", \"banana\", \"cherry\"]\n",
    "del thislist[2]\n",
    "print(thislist)"
   ]
  },
  {
   "cell_type": "markdown",
   "id": "da486bfa",
   "metadata": {},
   "source": [
    "<h4>Example</h4>\n",
    "The clear() method empties the list:"
   ]
  },
  {
   "cell_type": "code",
   "execution_count": 37,
   "id": "bfabffdf",
   "metadata": {},
   "outputs": [
    {
     "name": "stdout",
     "output_type": "stream",
     "text": [
      "<class 'list'>\n"
     ]
    }
   ],
   "source": [
    "thislist = [\"apple\", \"banana\", \"cherry\"]\n",
    "thislist.clear()\n",
    "print(type(thislist))\n"
   ]
  },
  {
   "cell_type": "markdown",
   "id": "8fdc5045",
   "metadata": {},
   "source": [
    "<h3>Copy a List</h3>\n",
    "You cannot copy a list simply by typing list2 = list1, because: list2 will only be\n",
    "a reference to list1, and changes made in list1 will automatically also be made\n",
    "in list2.\n",
    "There are ways to make a copy, one way is to use the built-in List method copy().\n",
    "<h4>Example</h4>\n",
    "Make a copy of a list with the copy() method:"
   ]
  },
  {
   "cell_type": "code",
   "execution_count": 42,
   "id": "fdb99600",
   "metadata": {},
   "outputs": [
    {
     "name": "stdout",
     "output_type": "stream",
     "text": [
      "['apple', 'banana', 'cherry']\n",
      "[1, 2, 3]\n",
      "[1, 2, 3]\n"
     ]
    }
   ],
   "source": [
    "thislist = [\"apple\", \"banana\", \"cherry\"]\n",
    "\n",
    "mylist = thislist.copy()\n",
    "print(mylist)\n",
    "l1 = [ 1,2,3]\n",
    "l2 = list(l1)\n",
    "print(l1)\n",
    "print(l2)"
   ]
  },
  {
   "cell_type": "code",
   "execution_count": 90,
   "id": "7e8def69",
   "metadata": {},
   "outputs": [
    {
     "name": "stdout",
     "output_type": "stream",
     "text": [
      "['apple', 'banana', 'cherry']\n"
     ]
    }
   ],
   "source": [
    "#Make a copy of a list with the list() method:\n",
    "thislist = [\"apple\", \"banana\", \"cherry\"]\n",
    "mylist = list(thislist)\n",
    "print(mylist)\n"
   ]
  },
  {
   "cell_type": "markdown",
   "id": "84351c73",
   "metadata": {},
   "source": [
    "<h3>Join Two Lists</h3>\n",
    "There are several ways to join, or concatenate, two or more lists in Python.\n",
    "One of the easiest ways are by using the + operator.\n",
    "<h4>Example</h4>\n",
    "Join two list:\n"
   ]
  },
  {
   "cell_type": "code",
   "execution_count": 43,
   "id": "c3a7a1e0",
   "metadata": {},
   "outputs": [
    {
     "name": "stdout",
     "output_type": "stream",
     "text": [
      "['a', 'b', 'c', 1, 2, 3]\n",
      "['a', 'b', 'c', 1, 2, 3, 'a', 'b', 'c']\n"
     ]
    }
   ],
   "source": [
    "list1 = [\"a\", \"b\" , \"c\"]\n",
    "list2 = [1, 2, 3]\n",
    "list3 = list1 + list2\n",
    "list4 = list3 + list1\n",
    "print(list3)\n",
    "print(list4)\n"
   ]
  },
  {
   "cell_type": "code",
   "execution_count": 49,
   "id": "d35497fe",
   "metadata": {},
   "outputs": [
    {
     "name": "stdout",
     "output_type": "stream",
     "text": [
      "['a', 'b', 'c', 1, 4, 5, 1, 2, 3]\n"
     ]
    }
   ],
   "source": [
    "#Append list2 into list1:\n",
    "list1 = [\"a\", \"b\" , \"c\" , 1 ,4,5]\n",
    "list2 = [1, 2, 3]\n",
    "\n",
    "for i in list2:\n",
    "    list1.append(i)\n",
    "print(list1)"
   ]
  },
  {
   "cell_type": "code",
   "execution_count": 51,
   "id": "0c4422b0",
   "metadata": {},
   "outputs": [
    {
     "name": "stdout",
     "output_type": "stream",
     "text": [
      "['a', 1, 2, 3]\n"
     ]
    }
   ],
   "source": [
    "#Use the extend() method to add list2 at the end of list1:\n",
    "list1 = [\"a\", \"b\" , \"c\"]\n",
    "list2 = [1, 2, 3]\n",
    "list3 = list([\"a\"])\n",
    "list3.extend(list2)\n",
    "print(list3)\n"
   ]
  },
  {
   "cell_type": "markdown",
   "id": "3d1e74ca",
   "metadata": {},
   "source": [
    "<h3>The list() Constructor</h3>\n",
    "It is also possible to use the list() constructor to make a new list.\n",
    "<h4>Example</h4>\n",
    "Using the list() constructor to make a List:"
   ]
  },
  {
   "cell_type": "code",
   "execution_count": 53,
   "id": "4d6d4676",
   "metadata": {},
   "outputs": [
    {
     "name": "stdout",
     "output_type": "stream",
     "text": [
      "<class 'list'>\n"
     ]
    }
   ],
   "source": [
    "thislist = list((\"apple\", \"banana\", \"cherry\")) # note the double round-brackets\n",
    "print(type(thislist))\n"
   ]
  },
  {
   "cell_type": "markdown",
   "id": "fd66cd29",
   "metadata": {},
   "source": [
    "<h1>List Methods</h1>\n",
    "\n",
    "Python has a set of built-in methods that you can use on lists."
   ]
  },
  {
   "cell_type": "raw",
   "id": "be839ea6",
   "metadata": {},
   "source": [
    "Method      Description\n",
    "append()    Adds an element at the end of the list\n",
    "clear()     Removes all the elements from the list\n",
    "copy()      Returns a copy of the list\n",
    "count()     Returns the number of elements with the specified value\n",
    "extend()    Add the elements of a list (or any iterable), to the end of the current list\n",
    "index()     Returns the index of the first element with the specified value\n",
    "insert()    Adds an element at the specified position\n",
    "pop()       Removes the element at the specified position\n",
    "remove()    Removes the item with the specified value\n",
    "reverse()   Reverses the order of the list\n",
    "sort()      Sorts the list"
   ]
  },
  {
   "cell_type": "code",
   "execution_count": 64,
   "id": "17386805",
   "metadata": {},
   "outputs": [],
   "source": [
    "l1 = [1,4,2,5,6]\n",
    "for i in range(0,6):\n",
    "    print(l1[i])\n",
    " \n"
   ]
  },
  {
   "cell_type": "code",
   "execution_count": 77,
   "id": "96852853",
   "metadata": {},
   "outputs": [
    {
     "name": "stdout",
     "output_type": "stream",
     "text": [
      "6\n",
      "5\n",
      "2\n",
      "4\n"
     ]
    }
   ],
   "source": [
    "l1 = [1,4,2,5,6]\n",
    "for i in range(4,0,-1):\n",
    "    print(l1[i])"
   ]
  },
  {
   "cell_type": "markdown",
   "id": "4c4f67f0",
   "metadata": {},
   "source": [
    "# Python Tuples"
   ]
  },
  {
   "cell_type": "markdown",
   "id": "a2383e3c",
   "metadata": {},
   "source": [
    "<h2>Tuple</h2>\n",
    "A tuple is a collection which is ordered and unchangeable. In Python tuples are\n",
    "written with round brackets.\n",
    "<h4>Example</h4>\n",
    "Create a Tuple:"
   ]
  },
  {
   "cell_type": "code",
   "execution_count": 79,
   "id": "b30e301f",
   "metadata": {},
   "outputs": [
    {
     "name": "stdout",
     "output_type": "stream",
     "text": [
      "('apple', 'banana', 'cherry')\n"
     ]
    },
    {
     "ename": "AttributeError",
     "evalue": "'tuple' object has no attribute 'append'",
     "output_type": "error",
     "traceback": [
      "\u001b[1;31m---------------------------------------------------------------------------\u001b[0m",
      "\u001b[1;31mAttributeError\u001b[0m                            Traceback (most recent call last)",
      "Cell \u001b[1;32mIn[79], line 4\u001b[0m\n\u001b[0;32m      2\u001b[0m \u001b[38;5;28mprint\u001b[39m(thistuple)\n\u001b[0;32m      3\u001b[0m t \u001b[38;5;241m=\u001b[39m  (\u001b[38;5;241m1\u001b[39m,\u001b[38;5;241m3\u001b[39m,\u001b[38;5;241m3\u001b[39m,\u001b[38;5;124m\"\u001b[39m\u001b[38;5;124mb\u001b[39m\u001b[38;5;124m\"\u001b[39m)\n\u001b[1;32m----> 4\u001b[0m t\u001b[38;5;241m.\u001b[39mappend(\u001b[38;5;241m5\u001b[39m)\n\u001b[0;32m      5\u001b[0m \u001b[38;5;28mprint\u001b[39m(t)\n",
      "\u001b[1;31mAttributeError\u001b[0m: 'tuple' object has no attribute 'append'"
     ]
    }
   ],
   "source": [
    "thistuple = (\"apple\", \"banana\", \"cherry\")\n",
    "print(thistuple)\n",
    "t =  (1,3,3,\"b\")\n",
    "t.append(5)\n",
    "print(t)\n"
   ]
  },
  {
   "cell_type": "markdown",
   "id": "c1f9501f",
   "metadata": {},
   "source": [
    "## Access Tuple Items"
   ]
  },
  {
   "cell_type": "markdown",
   "id": "e8842804",
   "metadata": {},
   "source": [
    "same as list"
   ]
  },
  {
   "cell_type": "markdown",
   "id": "c6758267",
   "metadata": {},
   "source": [
    "1. Negative Indexing\n",
    "2. Range of Indexes\n",
    "3. Range of Negative Indexes\n"
   ]
  },
  {
   "cell_type": "code",
   "execution_count": 84,
   "id": "8d108a90",
   "metadata": {},
   "outputs": [
    {
     "data": {
      "text/plain": [
       "4"
      ]
     },
     "execution_count": 84,
     "metadata": {},
     "output_type": "execute_result"
    }
   ],
   "source": [
    "t = ( 1,2,4)\n",
    "t[-1]"
   ]
  },
  {
   "cell_type": "code",
   "execution_count": null,
   "id": "eb7e704c",
   "metadata": {},
   "outputs": [],
   "source": []
  },
  {
   "cell_type": "markdown",
   "id": "e6356fc4",
   "metadata": {},
   "source": [
    "### Change Tuple Values"
   ]
  },
  {
   "cell_type": "markdown",
   "id": "aab5feac",
   "metadata": {},
   "source": [
    "Once a tuple is created, you cannot change its values. Tuples are <h5>unchangeable,</h5>\n",
    "or immutable as it also is called.\n",
    "But there is a workaround. You can convert the tuple into a list, change the list, and\n",
    "convert the list back into a tuple.\n",
    "<h4>Example</h4>\n",
    "Convert the tuple into a list to be able to change it:\n"
   ]
  },
  {
   "cell_type": "code",
   "execution_count": 85,
   "id": "ded6cbe9",
   "metadata": {},
   "outputs": [
    {
     "ename": "TypeError",
     "evalue": "'tuple' object does not support item assignment",
     "output_type": "error",
     "traceback": [
      "\u001b[1;31m---------------------------------------------------------------------------\u001b[0m",
      "\u001b[1;31mTypeError\u001b[0m                                 Traceback (most recent call last)",
      "Cell \u001b[1;32mIn[85], line 2\u001b[0m\n\u001b[0;32m      1\u001b[0m x \u001b[38;5;241m=\u001b[39m (\u001b[38;5;124m\"\u001b[39m\u001b[38;5;124mapple\u001b[39m\u001b[38;5;124m\"\u001b[39m, \u001b[38;5;124m\"\u001b[39m\u001b[38;5;124mbanana\u001b[39m\u001b[38;5;124m\"\u001b[39m, \u001b[38;5;124m\"\u001b[39m\u001b[38;5;124mcherry\u001b[39m\u001b[38;5;124m\"\u001b[39m)\n\u001b[1;32m----> 2\u001b[0m x[\u001b[38;5;241m1\u001b[39m] \u001b[38;5;241m=\u001b[39m \u001b[38;5;124m\"\u001b[39m\u001b[38;5;124mabc\u001b[39m\u001b[38;5;124m\"\u001b[39m\n\u001b[0;32m      3\u001b[0m y \u001b[38;5;241m=\u001b[39m \u001b[38;5;28mlist\u001b[39m(x)\n\u001b[0;32m      4\u001b[0m y[\u001b[38;5;241m1\u001b[39m] \u001b[38;5;241m=\u001b[39m \u001b[38;5;124m\"\u001b[39m\u001b[38;5;124mabc\u001b[39m\u001b[38;5;124m\"\u001b[39m\n",
      "\u001b[1;31mTypeError\u001b[0m: 'tuple' object does not support item assignment"
     ]
    }
   ],
   "source": [
    "x = (\"apple\", \"banana\", \"cherry\")\n",
    "x[1] = \"abc\"\n",
    "y = list(x)\n",
    "y[1] = \"abc\"\n",
    "x = tuple(y)\n",
    "print(x)"
   ]
  },
  {
   "cell_type": "markdown",
   "id": "fec7de31",
   "metadata": {},
   "source": [
    "### Loop Through a Tuple\n",
    "\n",
    "same as list"
   ]
  },
  {
   "cell_type": "markdown",
   "id": "7e0807ff",
   "metadata": {},
   "source": [
    "### Check if Item Exists\n",
    "same as list"
   ]
  },
  {
   "cell_type": "markdown",
   "id": "02e121d1",
   "metadata": {},
   "source": [
    "<h3>Tuple Length</h3>\n",
    "To determine how many items a tuple has, use the len() method:\n",
    "<h4>Example</h4>\n",
    "Print the number of items in the tuple:"
   ]
  },
  {
   "cell_type": "code",
   "execution_count": 111,
   "id": "b03e8699",
   "metadata": {},
   "outputs": [
    {
     "name": "stdout",
     "output_type": "stream",
     "text": [
      "3\n"
     ]
    }
   ],
   "source": [
    "thistuple = (\"apple\", \"banana\", \"cherry\")\n",
    "print(len(thistuple))\n"
   ]
  },
  {
   "cell_type": "markdown",
   "id": "c404ccf4",
   "metadata": {},
   "source": [
    "Cannot add Item to tuple <br>\n",
    "Cannot create a tuple with 1 item<br>\n",
    "cannot remove any item\n"
   ]
  },
  {
   "cell_type": "code",
   "execution_count": 114,
   "id": "0d0757ff",
   "metadata": {},
   "outputs": [
    {
     "ename": "NameError",
     "evalue": "name 'thistuple' is not defined",
     "output_type": "error",
     "traceback": [
      "\u001b[1;31m---------------------------------------------------------------------------\u001b[0m",
      "\u001b[1;31mNameError\u001b[0m                                 Traceback (most recent call last)",
      "Cell \u001b[1;32mIn[114], line 4\u001b[0m\n\u001b[0;32m      2\u001b[0m thistuple \u001b[38;5;241m=\u001b[39m (\u001b[38;5;124m\"\u001b[39m\u001b[38;5;124mapple\u001b[39m\u001b[38;5;124m\"\u001b[39m, \u001b[38;5;124m\"\u001b[39m\u001b[38;5;124mbanana\u001b[39m\u001b[38;5;124m\"\u001b[39m, \u001b[38;5;124m\"\u001b[39m\u001b[38;5;124mcherry\u001b[39m\u001b[38;5;124m\"\u001b[39m)\n\u001b[0;32m      3\u001b[0m \u001b[38;5;28;01mdel\u001b[39;00m thistuple\n\u001b[1;32m----> 4\u001b[0m \u001b[38;5;28mprint\u001b[39m(thistuple)\n",
      "\u001b[1;31mNameError\u001b[0m: name 'thistuple' is not defined"
     ]
    }
   ],
   "source": [
    "#The del keyword can delete the tuple completely:\n",
    "thistuple = (\"apple\", \"banana\", \"cherry\")\n",
    "del thistuple\n",
    "print(thistuple) #this will raise an error because the tuple no longer exists"
   ]
  },
  {
   "cell_type": "markdown",
   "id": "46a3a213",
   "metadata": {},
   "source": [
    "<h3>Join Two Tuples</h3>\n",
    "To join two or more tuples you can use the + operator:\n",
    "<h4>Example</h4>\n",
    "Join two tuples:"
   ]
  },
  {
   "cell_type": "code",
   "execution_count": 86,
   "id": "0d9e3b08",
   "metadata": {},
   "outputs": [
    {
     "name": "stdout",
     "output_type": "stream",
     "text": [
      "('a', 'b', 'c', 1, 2, 4)\n"
     ]
    }
   ],
   "source": [
    "tuple1 = (\"a\", \"b\" , \"c\")\n",
    "tuple2 = (1, 2, 3+1)\n",
    "tuple3 = tuple1 + tuple2\n",
    "print(tuple3)"
   ]
  },
  {
   "cell_type": "markdown",
   "id": "e3d02b3e",
   "metadata": {},
   "source": [
    "<h3>The tuple() Constructor</h3>\n",
    "It is also possible to use the tuple() constructor to make a tuple.\n",
    "<h4>Example</h4>\n",
    "Using the tuple() method to make a tuple:"
   ]
  },
  {
   "cell_type": "code",
   "execution_count": 88,
   "id": "a876bce8",
   "metadata": {},
   "outputs": [
    {
     "name": "stdout",
     "output_type": "stream",
     "text": [
      "<class 'tuple'>\n"
     ]
    }
   ],
   "source": [
    "thistuple = tuple([\"apple\", \"banana\", \"cherry\"]) \n",
    "# note the double roundbrackets\n",
    "print(type(thistuple))\n"
   ]
  },
  {
   "cell_type": "markdown",
   "id": "e1092343",
   "metadata": {},
   "source": [
    "# Python Sets"
   ]
  },
  {
   "cell_type": "markdown",
   "id": "1a768895",
   "metadata": {},
   "source": [
    "<h3>Set</h3>\n",
    "A set is a collection which is unordered and unindexed. In Python sets are written with \n",
    "curly brackets.\n",
    "<h4>Example</h4>\n",
    "Create a Set:"
   ]
  },
  {
   "cell_type": "code",
   "execution_count": 92,
   "id": "0c399fa6",
   "metadata": {},
   "outputs": [
    {
     "name": "stdout",
     "output_type": "stream",
     "text": [
      "{'cherry', 'banana', 'apple'}\n"
     ]
    }
   ],
   "source": [
    "thisset = {\"apple\", \"banana\", \"cherry\"}\n",
    "print(thisset)"
   ]
  },
  {
   "cell_type": "markdown",
   "id": "30b4fa64",
   "metadata": {},
   "source": [
    "<h3>Note:</h3> Sets are unordered, so you cannot be sure in which order the items will appear.\n"
   ]
  },
  {
   "cell_type": "markdown",
   "id": "737a2be0",
   "metadata": {},
   "source": [
    "<h3>Access Items</h3>\n",
    "You cannot access items in a set by referring to an index, since sets are unordered \n",
    "the items has no index.\n",
    "But you can loop through the set items using a for loop, or ask if a specified value is \n",
    "present in a set, by using the in keyword.\n",
    "<h4>Example</h4>\n",
    "Loop through the set, and print the values:"
   ]
  },
  {
   "cell_type": "code",
   "execution_count": 94,
   "id": "ffbd5e9b",
   "metadata": {},
   "outputs": [
    {
     "name": "stdout",
     "output_type": "stream",
     "text": [
      "cherry\n",
      "banana\n",
      "apple\n"
     ]
    },
    {
     "ename": "TypeError",
     "evalue": "'set' object is not subscriptable",
     "output_type": "error",
     "traceback": [
      "\u001b[1;31m---------------------------------------------------------------------------\u001b[0m",
      "\u001b[1;31mTypeError\u001b[0m                                 Traceback (most recent call last)",
      "Cell \u001b[1;32mIn[94], line 4\u001b[0m\n\u001b[0;32m      2\u001b[0m \u001b[38;5;28;01mfor\u001b[39;00m x \u001b[38;5;129;01min\u001b[39;00m thisset:\n\u001b[0;32m      3\u001b[0m     \u001b[38;5;28mprint\u001b[39m(x)\n\u001b[1;32m----> 4\u001b[0m \u001b[38;5;28mprint\u001b[39m(thisset[\u001b[38;5;241m1\u001b[39m])\n",
      "\u001b[1;31mTypeError\u001b[0m: 'set' object is not subscriptable"
     ]
    }
   ],
   "source": [
    "thisset = {\"apple\", \"banana\", \"cherry\"}\n",
    "for x in thisset:\n",
    "    print(x)"
   ]
  },
  {
   "cell_type": "markdown",
   "id": "12d78271",
   "metadata": {},
   "source": [
    "<h4>Example</h4>\n",
    "Check if \"banana\" is present in the set:"
   ]
  },
  {
   "cell_type": "code",
   "execution_count": 5,
   "id": "8f59d245",
   "metadata": {},
   "outputs": [
    {
     "name": "stdout",
     "output_type": "stream",
     "text": [
      "True\n"
     ]
    }
   ],
   "source": [
    "thisset = {\"apple\", \"banana\", \"cherry\"}\n",
    "print(\"banana\" in thisset)"
   ]
  },
  {
   "cell_type": "markdown",
   "id": "3090bf73",
   "metadata": {},
   "source": [
    "<h3>Change Items</h3>\n",
    "Once a set is created, you cannot change its items, but you can add new items.\n",
    "<h3>Add Items</h3>\n",
    "To add one item to a set use the add() method.\n",
    "To add more than one item to a set use the update() method.\n",
    "<h4>Example</h4>\n",
    "Add an item to a set, using the add() method:"
   ]
  },
  {
   "cell_type": "code",
   "execution_count": 101,
   "id": "4dff86d6",
   "metadata": {},
   "outputs": [
    {
     "name": "stdout",
     "output_type": "stream",
     "text": [
      "{'cherry', 'banana', 'apple', 'orange'}\n",
      "{1, 2, 3, 4, 5, 6}\n",
      "{1, 2, 3, 4, 5, 6}\n"
     ]
    }
   ],
   "source": [
    "thisset = {\"apple\", \"banana\", \"cherry\"}\n",
    "thisset.add(\"orange\")\n",
    "print(thisset)\n",
    "set1 = {1,2,3,4, 4,5,6}\n",
    "print(set1)\n",
    "set1.add(5)\n",
    "print(set1)\n"
   ]
  },
  {
   "cell_type": "markdown",
   "id": "cf27bf11",
   "metadata": {},
   "source": [
    "<h4>Example</h4>\n",
    "Add multiple items to a set, using the update() method:"
   ]
  },
  {
   "cell_type": "code",
   "execution_count": 14,
   "id": "c0310888",
   "metadata": {},
   "outputs": [
    {
     "name": "stdout",
     "output_type": "stream",
     "text": [
      "{'orange', 'banana', 'apple', 'cherry', 'grapes', 'mango'}\n"
     ]
    }
   ],
   "source": [
    "thisset = {\"apple\", \"banana\", \"cherry\"}\n",
    "thisset.update([\"orange\", \"mango\", \"grapes\"])\n",
    "print(thisset)\n"
   ]
  },
  {
   "cell_type": "markdown",
   "id": "f23a98b8",
   "metadata": {},
   "source": [
    "<h3>Get the Length of a Set</h3>\n",
    "To determine how many items a set has, use the len() method.\n",
    "<h4>Example</h4>\n",
    "Get the number of items in a set:"
   ]
  },
  {
   "cell_type": "code",
   "execution_count": 15,
   "id": "0d2fda03",
   "metadata": {},
   "outputs": [
    {
     "name": "stdout",
     "output_type": "stream",
     "text": [
      "3\n"
     ]
    }
   ],
   "source": [
    "thisset = {\"apple\", \"banana\", \"cherry\"}\n",
    "print(len(thisset))\n"
   ]
  },
  {
   "cell_type": "markdown",
   "id": "93f4b9cd",
   "metadata": {},
   "source": [
    "<h3>Remove Item</h3>\n",
    "To remove an item in a set, use the remove(), or the discard() method.\n",
    "<h4>Example</h4>\n",
    "Remove \"banana\" by using the remove() method:"
   ]
  },
  {
   "cell_type": "code",
   "execution_count": 105,
   "id": "928a9bbe",
   "metadata": {},
   "outputs": [
    {
     "name": "stdout",
     "output_type": "stream",
     "text": [
      "{'cherry', 'apple'}\n"
     ]
    },
    {
     "ename": "ZeroDivisionError",
     "evalue": "division by zero",
     "output_type": "error",
     "traceback": [
      "\u001b[1;31m---------------------------------------------------------------------------\u001b[0m",
      "\u001b[1;31mZeroDivisionError\u001b[0m                         Traceback (most recent call last)",
      "Cell \u001b[1;32mIn[105], line 4\u001b[0m\n\u001b[0;32m      2\u001b[0m thisset\u001b[38;5;241m.\u001b[39mremove(\u001b[38;5;124m\"\u001b[39m\u001b[38;5;124mbanana\u001b[39m\u001b[38;5;124m\"\u001b[39m)\n\u001b[0;32m      3\u001b[0m \u001b[38;5;28mprint\u001b[39m(thisset)\n\u001b[1;32m----> 4\u001b[0m \u001b[38;5;241m4\u001b[39m \u001b[38;5;241m/\u001b[39m \u001b[38;5;241m0\u001b[39m\n",
      "\u001b[1;31mZeroDivisionError\u001b[0m: division by zero"
     ]
    }
   ],
   "source": [
    "thisset = {\"apple\", \"banana\", \"cherry\"}\n",
    "thisset.remove(\"banana\")\n",
    "print(thisset)"
   ]
  },
  {
   "cell_type": "markdown",
   "id": "884f80e5",
   "metadata": {},
   "source": [
    "<h3>Note:</h3> If the item to remove does not exist, remove() will raise an error.\n",
    "<h4>Example</h4>\n",
    "Remove \"banana\" by using the discard() method:\n"
   ]
  },
  {
   "cell_type": "code",
   "execution_count": 106,
   "id": "746c6891",
   "metadata": {},
   "outputs": [
    {
     "name": "stdout",
     "output_type": "stream",
     "text": [
      "{'cherry', 'apple'}\n"
     ]
    }
   ],
   "source": [
    "thisset = {\"apple\", \"banana\", \"cherry\"}\n",
    "thisset.discard(\"banana\")\n",
    "print(thisset)"
   ]
  },
  {
   "cell_type": "markdown",
   "id": "f76504b1",
   "metadata": {},
   "source": [
    "<h3>Note:</h3> If the item to remove does not exist, discard() will NOT raise an error.\n",
    "You can also use the pop(), method to remove an item, but this method will remove \n",
    "the last item. Remember that sets are unordered, so you will not know what item that \n",
    "gets removed.\n",
    "The return value of the pop() method is the removed item.\n",
    "<h4>Example</h4>"
   ]
  },
  {
   "cell_type": "code",
   "execution_count": 121,
   "id": "864200e2",
   "metadata": {},
   "outputs": [
    {
     "name": "stdout",
     "output_type": "stream",
     "text": [
      "sdf\n",
      "{'cherry', 'apple', 'abc', 'sddd', 'banana', 'asjhdh'}\n"
     ]
    }
   ],
   "source": [
    "#Remove the last item by using the pop() method:\n",
    "thisset = {\"apple\", \"banana\", \"cherry\",\"abc\",\"sdf\",\"sddd\",\"asjhdh\"}\n",
    "x = thisset.pop()\n",
    "print(x)\n",
    "print(thisset)"
   ]
  },
  {
   "cell_type": "markdown",
   "id": "235b494f",
   "metadata": {},
   "source": [
    "<h3>Note:</h3> Sets are unordered, so when using the pop() method, you will not know which \n",
    "item that gets removed.\n",
    "<h4>Example</h4>\n",
    "The clear() method empties the set:\n"
   ]
  },
  {
   "cell_type": "code",
   "execution_count": 23,
   "id": "c9452095",
   "metadata": {},
   "outputs": [
    {
     "name": "stdout",
     "output_type": "stream",
     "text": [
      "set()\n"
     ]
    }
   ],
   "source": [
    "thisset = {\"apple\", \"banana\", \"cherry\"}\n",
    "thisset.clear()\n",
    "print(thisset)\n"
   ]
  },
  {
   "cell_type": "markdown",
   "id": "3e82b74a",
   "metadata": {},
   "source": [
    "<h4>Example</h4>\n",
    "The del keyword will delete the set completely:\n"
   ]
  },
  {
   "cell_type": "code",
   "execution_count": 24,
   "id": "b45a8abe",
   "metadata": {},
   "outputs": [
    {
     "ename": "NameError",
     "evalue": "name 'thisset' is not defined",
     "output_type": "error",
     "traceback": [
      "\u001b[1;31m---------------------------------------------------------------------------\u001b[0m",
      "\u001b[1;31mNameError\u001b[0m                                 Traceback (most recent call last)",
      "Cell \u001b[1;32mIn[24], line 3\u001b[0m\n\u001b[0;32m      1\u001b[0m thisset \u001b[38;5;241m=\u001b[39m {\u001b[38;5;124m\"\u001b[39m\u001b[38;5;124mapple\u001b[39m\u001b[38;5;124m\"\u001b[39m, \u001b[38;5;124m\"\u001b[39m\u001b[38;5;124mbanana\u001b[39m\u001b[38;5;124m\"\u001b[39m, \u001b[38;5;124m\"\u001b[39m\u001b[38;5;124mcherry\u001b[39m\u001b[38;5;124m\"\u001b[39m}\n\u001b[0;32m      2\u001b[0m \u001b[38;5;28;01mdel\u001b[39;00m thisset\n\u001b[1;32m----> 3\u001b[0m \u001b[38;5;28mprint\u001b[39m(thisset)\n",
      "\u001b[1;31mNameError\u001b[0m: name 'thisset' is not defined"
     ]
    }
   ],
   "source": [
    "thisset = {\"apple\", \"banana\", \"cherry\"}\n",
    "del thisset\n",
    "print(thisset)"
   ]
  },
  {
   "cell_type": "markdown",
   "id": "65d1d9ac",
   "metadata": {},
   "source": [
    "<h3>Join Two Sets</h3>\n",
    "There are several ways to join two or more sets in Python.\n",
    "You can use the <h5>union()</h5> method that returns a new set containing all items from both \n",
    "sets, or the update() method that inserts all the items from one set into another:\n",
    "<h4>Example</h4>\n",
    "The union() method returns a new set with all items from both sets:"
   ]
  },
  {
   "cell_type": "code",
   "execution_count": 29,
   "id": "edfba04e",
   "metadata": {},
   "outputs": [
    {
     "name": "stdout",
     "output_type": "stream",
     "text": [
      "{'c', 1, 2, 3, 'a'}\n"
     ]
    }
   ],
   "source": [
    "set1 = {\"a\", 2 , \"c\"}\n",
    "set2 = {1, 2, 3}\n",
    "set3 = set1.union(set2)\n",
    "print(set3)\n"
   ]
  },
  {
   "cell_type": "code",
   "execution_count": 30,
   "id": "da1d5863",
   "metadata": {},
   "outputs": [
    {
     "name": "stdout",
     "output_type": "stream",
     "text": [
      "{'c', 1, 2, 3, 'a'}\n"
     ]
    }
   ],
   "source": [
    "# or update()\n",
    "set1.update(set2)\n",
    "print(set1)"
   ]
  },
  {
   "cell_type": "markdown",
   "id": "f533c1fa",
   "metadata": {},
   "source": [
    "<h3>Note:</h3> Both union() and update() will exclude any duplicate items.\n",
    "There are other methods that joins two sets and keeps ONLY the duplicates, or NEVER \n",
    "the duplicates, check the full list of set methods"
   ]
  },
  {
   "cell_type": "markdown",
   "id": "d3ea789e",
   "metadata": {},
   "source": [
    "<h3>The set() Constructor</h3>\n",
    "It is also possible to use the set() constructor to make a set.\n",
    "<h4>Example</h4>\n",
    "Using the set() constructor to make a set:"
   ]
  },
  {
   "cell_type": "code",
   "execution_count": 123,
   "id": "9cba658a",
   "metadata": {},
   "outputs": [
    {
     "name": "stdout",
     "output_type": "stream",
     "text": [
      "<class 'set'>\n"
     ]
    }
   ],
   "source": [
    "thisset = set((\"apple\", \"banana\", \"cherry\")) # note the double round-brackets\n",
    "print(type(thisset))\n"
   ]
  },
  {
   "cell_type": "markdown",
   "id": "f2bfa53d",
   "metadata": {},
   "source": [
    "<h2>Set Methods</h2>\n",
    "Python has a set of built-in methods that you can use on sets.\n",
    "<h3>Method</h3>       <h3> Description</h3>\n",
    "<h5>add()</h5> Adds an element to the set\n",
    "<h5>clear()</h5> Removes all the elements from the set\n",
    "<h5>copy() </h5>Returns a copy of the set\n",
    "<h5>difference()</h5> Returns a set containing the difference between two or more sets\n",
    "<h5>difference_update()</h5> Removes the items in this set that are also included in another, specified \n",
    "set\n",
    "<h5>discard()</h5> Remove the specified item\n",
    "<h5>intersection()</h5> Returns a set, that is the intersection of two other sets\n",
    "<h5>intersection_update()</h5> Removes the items in this set that are not present in other, specified \n",
    "<h5>set(s)</h5>\n",
    "<h5>isdisjoint() </h5>Returns whether two sets have a intersection or not\n",
    "<h5>issubset()</h5> Returns whether another set contains this set or not\n",
    "<h5>issuperset()</h5> Returns whether this set contains another set or not\n",
    "<h5>pop()</h5> Removes an element from the set\n",
    "<h5>remove()</h5> Removes the specified element\n",
    "<h5>symmetric_difference()</h5> Returns a set with the symmetric differences of two sets\n",
    "<h5>symmetric_difference_update()</h5> inserts the symmetric differences from this set and another\n",
    "<h5>union()</h5> Return a set containing the union of sets\n",
    "<h5>update() </h5>Update the set with the union of this set and others\n"
   ]
  },
  {
   "cell_type": "markdown",
   "id": "4bbefd04",
   "metadata": {},
   "source": [
    "<h1>Python Dictionaries</h1>\n",
    "<h2>Dictionary</h2>\n",
    "A dictionary is a collection which is unordered, changeable and indexed. In Python \n",
    "dictionaries are written with curly brackets, and they have keys and values.\n",
    "<h4>Example</h4>\n",
    "Create and print a dictionary:"
   ]
  },
  {
   "cell_type": "code",
   "execution_count": 128,
   "id": "14e47267",
   "metadata": {},
   "outputs": [
    {
     "ename": "SyntaxError",
     "evalue": "':' expected after dictionary key (787690337.py, line 9)",
     "output_type": "error",
     "traceback": [
      "\u001b[1;36m  Cell \u001b[1;32mIn[128], line 9\u001b[1;36m\u001b[0m\n\u001b[1;33m    , \"hsdjhh\": 2, 3\u001b[0m\n\u001b[1;37m                   ^\u001b[0m\n\u001b[1;31mSyntaxError\u001b[0m\u001b[1;31m:\u001b[0m ':' expected after dictionary key\n"
     ]
    }
   ],
   "source": [
    "thisdict = {\n",
    " \"brand\": \"Ford\",\n",
    " \"model\": \"Mustang\",\n",
    " \"year\": 1964\n",
    "}\n",
    "d1 = {\n",
    "    \"name\": [\"ali\",\"khan\"]\n",
    "    ,\"classno\": [11111,33334]\n",
    "    , \"hsdjhh\": 2, 3\n",
    "}\n",
    "print(d1)\n",
    "print(thisdict)\n"
   ]
  },
  {
   "cell_type": "markdown",
   "id": "d6e5896e",
   "metadata": {},
   "source": [
    "<h3>Accessing Items</h3>\n",
    "You can access the items of a dictionary by referring to its key name, inside square \n",
    "brackets:\n",
    "<h4>Example</h4>\n",
    "Get the value of the \"model\" key:"
   ]
  },
  {
   "cell_type": "code",
   "execution_count": 36,
   "id": "4cd89959",
   "metadata": {},
   "outputs": [
    {
     "name": "stdout",
     "output_type": "stream",
     "text": [
      "Mustang\n"
     ]
    }
   ],
   "source": [
    "x = thisdict[\"model\"]\n",
    "print(x)"
   ]
  },
  {
   "cell_type": "markdown",
   "id": "520e222f",
   "metadata": {},
   "source": [
    "There is also a method called get() that will give you the same result:\n",
    "<h4>Example</h4>\n",
    "Get the value of the \"model\" key:"
   ]
  },
  {
   "cell_type": "code",
   "execution_count": 37,
   "id": "6768f0b9",
   "metadata": {},
   "outputs": [
    {
     "name": "stdout",
     "output_type": "stream",
     "text": [
      "Mustang\n"
     ]
    }
   ],
   "source": [
    "x = thisdict.get(\"model\")\n",
    "print(x)"
   ]
  },
  {
   "cell_type": "markdown",
   "id": "7f468fda",
   "metadata": {},
   "source": [
    "<h3>Change Values</h3>\n",
    "You can change the value of a specific item by referring to its key name:\n",
    "<h4>Example</h4>\n",
    "Change the \"year\" to 2018:\n"
   ]
  },
  {
   "cell_type": "code",
   "execution_count": 39,
   "id": "c128d709",
   "metadata": {},
   "outputs": [
    {
     "name": "stdout",
     "output_type": "stream",
     "text": [
      "{'brand': 'Ford', 'model': 'Mustang', 'year': 2018}\n"
     ]
    }
   ],
   "source": [
    "thisdict = {\n",
    " \"brand\": \"Ford\",\n",
    " \"model\": \"Mustang\",\n",
    " \"year\": 1964\n",
    "}\n",
    "thisdict[\"year\"] = 2018\n",
    "print(thisdict)"
   ]
  },
  {
   "cell_type": "markdown",
   "id": "850cf524",
   "metadata": {},
   "source": [
    "<h3>Loop Through a Dictionary</h3>\n",
    "You can loop through a dictionary by using a for loop.\n",
    "When looping through a dictionary, the return value are the keys of the dictionary, \n",
    "but there are methods to return the values as well.\n",
    "<h4>Example</h4>\n",
    "Print all key names in the dictionary, one by one:"
   ]
  },
  {
   "cell_type": "code",
   "execution_count": 40,
   "id": "a540cccf",
   "metadata": {},
   "outputs": [
    {
     "name": "stdout",
     "output_type": "stream",
     "text": [
      "brand\n",
      "model\n",
      "year\n"
     ]
    }
   ],
   "source": [
    "for x in thisdict:\n",
    " print(x)\n"
   ]
  },
  {
   "cell_type": "code",
   "execution_count": 41,
   "id": "d27b5f55",
   "metadata": {},
   "outputs": [
    {
     "name": "stdout",
     "output_type": "stream",
     "text": [
      "Ford\n",
      "Mustang\n",
      "2018\n"
     ]
    }
   ],
   "source": [
    "#Example\n",
    "#Print all values in the dictionary, one by one:\n",
    "for x in thisdict:\n",
    "     print(thisdict[x])"
   ]
  },
  {
   "cell_type": "code",
   "execution_count": 44,
   "id": "947a4f88",
   "metadata": {},
   "outputs": [
    {
     "name": "stdout",
     "output_type": "stream",
     "text": [
      "brand Ford\n",
      "model Mustang\n",
      "year 2018\n"
     ]
    }
   ],
   "source": [
    "# print both key and values \n",
    "for x in thisdict:\n",
    "    print(x , thisdict[x])"
   ]
  },
  {
   "cell_type": "code",
   "execution_count": 46,
   "id": "906c3cd6",
   "metadata": {},
   "outputs": [
    {
     "name": "stdout",
     "output_type": "stream",
     "text": [
      "Ford\n",
      "Mustang\n",
      "2018\n"
     ]
    }
   ],
   "source": [
    "#Example\n",
    "#You can also use the values() function to return values of a dictionary:\n",
    "for x in thisdict.values():\n",
    "     print(x)\n"
   ]
  },
  {
   "cell_type": "code",
   "execution_count": 130,
   "id": "c9517c81",
   "metadata": {},
   "outputs": [
    {
     "name": "stdout",
     "output_type": "stream",
     "text": [
      "[1, 2, 3, 4, 5, 6]\n"
     ]
    }
   ],
   "source": [
    "l1 = [1,2,3,4,5,6,7]\n",
    "print(l1[0:6])"
   ]
  },
  {
   "cell_type": "code",
   "execution_count": 48,
   "id": "4d9f0568",
   "metadata": {},
   "outputs": [
    {
     "name": "stdout",
     "output_type": "stream",
     "text": [
      "brand Ford\n",
      "model Mustang\n",
      "year 2018\n"
     ]
    }
   ],
   "source": [
    "#Example\n",
    "#Loop through both keys and values, by using the items() function:\n",
    "for x, y in thisdict.items():\n",
    "    print(x, y)"
   ]
  },
  {
   "cell_type": "markdown",
   "id": "d63cc48d",
   "metadata": {},
   "source": [
    "<h3>Check if Key Exists</h3>\n",
    "To determine if a specified key is present in a dictionary use the in keyword:\n",
    "<h4>Example</h4>\n",
    "Check if \"model\" is present in the dictionary:"
   ]
  },
  {
   "cell_type": "code",
   "execution_count": 133,
   "id": "f21dbb3b",
   "metadata": {},
   "outputs": [
    {
     "name": "stdout",
     "output_type": "stream",
     "text": [
      "Yes, 'model' is one of the keys in the thisdict dictionary\n"
     ]
    }
   ],
   "source": [
    "thisdict = {\n",
    " \"brand\": \"Ford\",\n",
    " \"model\": \"Mustang\",\n",
    " \"year\": 1964\n",
    "}\n",
    "if \"model\" in thisdict:\n",
    "    print(\"Yes, 'model' is one of the keys in the thisdict dictionary\")\n",
    "else:\n",
    "    print(\"no\")\n"
   ]
  },
  {
   "cell_type": "markdown",
   "id": "4d4b7438",
   "metadata": {},
   "source": [
    "<h3>Dictionary Length</h3>\n",
    "To determine how many items (key-value pairs) a dictionary has, use \n",
    "the len() method.\n",
    "<h4>Example</h4>\n",
    "Print the number of items in the dictionary:"
   ]
  },
  {
   "cell_type": "code",
   "execution_count": 51,
   "id": "1974e25f",
   "metadata": {},
   "outputs": [
    {
     "name": "stdout",
     "output_type": "stream",
     "text": [
      "3\n"
     ]
    }
   ],
   "source": [
    "print(len(thisdict))"
   ]
  },
  {
   "cell_type": "markdown",
   "id": "aa453f8e",
   "metadata": {},
   "source": [
    "<h3>Adding Items</h3>\n",
    "Adding an item to the dictionary is done by using a new index key and assigning a \n",
    "value to it:\n",
    "<h4>Example"
   ]
  },
  {
   "cell_type": "code",
   "execution_count": 143,
   "id": "4e220c2c",
   "metadata": {},
   "outputs": [
    {
     "name": "stdout",
     "output_type": "stream",
     "text": [
      "{2: 2, 3: 3, 4: 4, 'abc': 5}\n"
     ]
    }
   ],
   "source": [
    "thisdict = {\n",
    " \"brand\": \"Ford\",\n",
    " \"model\": \"Mustang\",\n",
    " \"year\": 1964\n",
    "}\n",
    "d1 = {\n",
    "    \"1\": [1,3],\n",
    "    2: 2,\n",
    "    3: 3,\n",
    "    4: 4\n",
    "}\n",
    "d1.pop(\"1\")\n",
    "d1[\"abc\"] = 5\n",
    "print(d1)\n",
    "\n"
   ]
  },
  {
   "cell_type": "markdown",
   "id": "6ad99303",
   "metadata": {},
   "source": [
    "<h3>Removing Items</h3>\n",
    "There are several methods to remove items from a dictionary:\n",
    "<h4>Example</h4>\n",
    "The pop() method removes the item with the specified key name:\n"
   ]
  },
  {
   "cell_type": "code",
   "execution_count": 55,
   "id": "e813a700",
   "metadata": {},
   "outputs": [
    {
     "name": "stdout",
     "output_type": "stream",
     "text": [
      "{'brand': 'Ford', 'year': 1964}\n"
     ]
    }
   ],
   "source": [
    "thisdict = {\n",
    " \"brand\": \"Ford\",\n",
    " \"model\": \"Mustang\",\n",
    " \"year\": 1964\n",
    "}\n",
    "thisdict.pop(\"model\")\n",
    "print(thisdict)"
   ]
  },
  {
   "cell_type": "markdown",
   "id": "ac3e186a",
   "metadata": {},
   "source": [
    "<h4>Example</h4>\n",
    "The popitem() method removes the last inserted item (in versions before 3.7, a \n",
    "random item is removed instead):\n"
   ]
  },
  {
   "cell_type": "code",
   "execution_count": 56,
   "id": "5349f1cc",
   "metadata": {},
   "outputs": [
    {
     "name": "stdout",
     "output_type": "stream",
     "text": [
      "{'brand': 'Ford', 'model': 'Mustang'}\n"
     ]
    }
   ],
   "source": [
    "thisdict = {\n",
    " \"brand\": \"Ford\",\n",
    " \"model\": \"Mustang\",\n",
    " \"year\": 1964\n",
    "}\n",
    "thisdict.popitem()\n",
    "print(thisdict)"
   ]
  },
  {
   "cell_type": "code",
   "execution_count": 58,
   "id": "1bbb9125",
   "metadata": {},
   "outputs": [
    {
     "name": "stdout",
     "output_type": "stream",
     "text": [
      "{'brand': 'Ford', 'year': 1964}\n"
     ]
    }
   ],
   "source": [
    "#Example\n",
    "#The del keyword removes the item with the specified key name:\n",
    "thisdict = {\n",
    " \"brand\": \"Ford\",\n",
    " \"model\": \"Mustang\",\n",
    " \"year\": 1964\n",
    "}\n",
    "del thisdict[\"model\"]\n",
    "print(thisdict)\n"
   ]
  },
  {
   "cell_type": "code",
   "execution_count": 59,
   "id": "aa55a72a",
   "metadata": {},
   "outputs": [
    {
     "ename": "NameError",
     "evalue": "name 'thisdict' is not defined",
     "output_type": "error",
     "traceback": [
      "\u001b[1;31m---------------------------------------------------------------------------\u001b[0m",
      "\u001b[1;31mNameError\u001b[0m                                 Traceback (most recent call last)",
      "Cell \u001b[1;32mIn[59], line 9\u001b[0m\n\u001b[0;32m      3\u001b[0m thisdict \u001b[38;5;241m=\u001b[39m {\n\u001b[0;32m      4\u001b[0m  \u001b[38;5;124m\"\u001b[39m\u001b[38;5;124mbrand\u001b[39m\u001b[38;5;124m\"\u001b[39m: \u001b[38;5;124m\"\u001b[39m\u001b[38;5;124mFord\u001b[39m\u001b[38;5;124m\"\u001b[39m,\n\u001b[0;32m      5\u001b[0m  \u001b[38;5;124m\"\u001b[39m\u001b[38;5;124mmodel\u001b[39m\u001b[38;5;124m\"\u001b[39m: \u001b[38;5;124m\"\u001b[39m\u001b[38;5;124mMustang\u001b[39m\u001b[38;5;124m\"\u001b[39m,\n\u001b[0;32m      6\u001b[0m  \u001b[38;5;124m\"\u001b[39m\u001b[38;5;124myear\u001b[39m\u001b[38;5;124m\"\u001b[39m: \u001b[38;5;241m1964\u001b[39m\n\u001b[0;32m      7\u001b[0m }\n\u001b[0;32m      8\u001b[0m \u001b[38;5;28;01mdel\u001b[39;00m thisdict\n\u001b[1;32m----> 9\u001b[0m \u001b[38;5;28mprint\u001b[39m(thisdict)\n",
      "\u001b[1;31mNameError\u001b[0m: name 'thisdict' is not defined"
     ]
    }
   ],
   "source": [
    "#Example\n",
    "#The del keyword can also delete the dictionary completely:\n",
    "thisdict = {\n",
    " \"brand\": \"Ford\",\n",
    " \"model\": \"Mustang\",\n",
    " \"year\": 1964\n",
    "}\n",
    "del thisdict\n",
    "print(thisdict) #this will cause an error because \"thisdict\" no longer exists."
   ]
  },
  {
   "cell_type": "code",
   "execution_count": 60,
   "id": "8c07f51e",
   "metadata": {},
   "outputs": [
    {
     "name": "stdout",
     "output_type": "stream",
     "text": [
      "{}\n"
     ]
    }
   ],
   "source": [
    "#Example\n",
    "#The clear() keyword empties the dictionary:\n",
    "thisdict = {\n",
    " \"brand\": \"Ford\",\n",
    " \"model\": \"Mustang\",\n",
    " \"year\": 1964\n",
    "}\n",
    "thisdict.clear()\n",
    "print(thisdict)\n"
   ]
  },
  {
   "cell_type": "markdown",
   "id": "39b229bf",
   "metadata": {},
   "source": [
    "<h2>Copy a Dictionary</h2>\n",
    "You cannot copy a dictionary simply by typing dict2 = dict1, because: dict2 will \n",
    "only be a reference to dict1, and changes made in dict1 will automatically also be \n",
    "made in dict2.\n",
    "There are ways to make a copy, one way is to use the built-in Dictionary \n",
    "<h3>method copy().</h3>\n",
    "<h4>Example</h4>\n",
    "Make a copy of a dictionary with the copy() method:\n"
   ]
  },
  {
   "cell_type": "code",
   "execution_count": 61,
   "id": "caa35893",
   "metadata": {},
   "outputs": [
    {
     "name": "stdout",
     "output_type": "stream",
     "text": [
      "{'brand': 'Ford', 'model': 'Mustang', 'year': 1964}\n"
     ]
    }
   ],
   "source": [
    "thisdict = {\n",
    " \"brand\": \"Ford\",\n",
    " \"model\": \"Mustang\",\n",
    " \"year\": 1964\n",
    "}\n",
    "mydict = thisdict.copy()\n",
    "print(mydict)\n"
   ]
  },
  {
   "cell_type": "code",
   "execution_count": 149,
   "id": "0b2e66ff",
   "metadata": {},
   "outputs": [
    {
     "data": {
      "text/plain": [
       "{'a': {1: 1}, 'b': {2: 2}, 'c': {3: 3}}"
      ]
     },
     "execution_count": 149,
     "metadata": {},
     "output_type": "execute_result"
    }
   ],
   "source": [
    "d1 = {\"a\":{1:1}, \"b\":{2:2} , \"c\":{3:3}}\n",
    "d1\n"
   ]
  },
  {
   "cell_type": "code",
   "execution_count": null,
   "id": "76d08148",
   "metadata": {},
   "outputs": [],
   "source": []
  },
  {
   "cell_type": "markdown",
   "id": "98573285",
   "metadata": {},
   "source": [
    "Another way to make a copy is to use the built-in method dict().\n",
    "<h4>Example</h4>\n",
    "Make a copy of a dictionary with the dict() method:\n"
   ]
  },
  {
   "cell_type": "code",
   "execution_count": 62,
   "id": "f6fa024c",
   "metadata": {},
   "outputs": [
    {
     "name": "stdout",
     "output_type": "stream",
     "text": [
      "{'brand': 'Ford', 'model': 'Mustang', 'year': 1964}\n"
     ]
    }
   ],
   "source": [
    "thisdict = {\n",
    " \"brand\": \"Ford\",\n",
    " \"model\": \"Mustang\",\n",
    " \"year\": 1964\n",
    "}\n",
    "mydict = dict(thisdict)\n",
    "print(mydict)"
   ]
  },
  {
   "cell_type": "markdown",
   "id": "bbe6ca00",
   "metadata": {},
   "source": [
    "<h3>Nested Dictionaries</h3>\n",
    "A dictionary can also contain many dictionaries, this is called nested dictionaries.\n",
    "<h4>Example</h4>\n",
    "Create a dictionary that contain three dictionaries:\n"
   ]
  },
  {
   "cell_type": "code",
   "execution_count": 64,
   "id": "c19edd03",
   "metadata": {},
   "outputs": [
    {
     "name": "stdout",
     "output_type": "stream",
     "text": [
      "{'child1': {'name': 'ali', 'year': 2004}, 'child2': {'name': 'ahmad', 'year': 2007}, 'child3': {'name': 'khan', 'year': 2011}}\n"
     ]
    }
   ],
   "source": [
    "myfamily = {\n",
    " \"child1\" : {\n",
    " \"name\" : \"ali\",\n",
    " \"year\" : 2004\n",
    "},\n",
    " \"child2\" : {\n",
    " \"name\" : \"ahmad\",\n",
    " \"year\" : 2007\n",
    "},\n",
    " \"child3\" : {\n",
    " \"name\" : \"khan\",\n",
    " \"year\" : 2011\n",
    "}\n",
    "}\n",
    "print(myfamily)\n"
   ]
  },
  {
   "cell_type": "code",
   "execution_count": 150,
   "id": "a05a7aac",
   "metadata": {},
   "outputs": [
    {
     "name": "stdout",
     "output_type": "stream",
     "text": [
      "{'1': {1: 1}, '2': {2: 3}}\n"
     ]
    }
   ],
   "source": [
    "a = {1:1}\n",
    "b = {2:3}\n",
    "c = {\n",
    "    \"1\" : a,\n",
    "    \"2\": b\n",
    "}\n",
    "print(c)"
   ]
  },
  {
   "cell_type": "markdown",
   "id": "c528807e",
   "metadata": {},
   "source": [
    "Or, if you want to nest three dictionaries that already exists as dictionaries:\n",
    "<h4>Example</h4>\n",
    "Create three dictionaries, than create one dictionary that will contain the other three \n",
    "dictionaries:\n"
   ]
  },
  {
   "cell_type": "code",
   "execution_count": 65,
   "id": "939a4a2d",
   "metadata": {},
   "outputs": [
    {
     "name": "stdout",
     "output_type": "stream",
     "text": [
      "{'ch1': {'name': 'ali', 'year': 2004}, 'ch2': {'name': 'ahmad', 'year': 2007}, 'ch3': {'name': 'khan', 'year': 2011}}\n"
     ]
    }
   ],
   "source": [
    "\n",
    "child1 = {\n",
    " \"name\" : \"ali\",\n",
    " \"year\" : 2004\n",
    "}\n",
    "child2 = {\n",
    " \"name\" : \"ahmad\",\n",
    " \"year\" : 2007\n",
    "}\n",
    "child3 = {\n",
    " \"name\" : \"khan\",\n",
    " \"year\" : 2011\n",
    "}\n",
    "\n",
    "myfamily = {\n",
    "    \"ch1\" : child1,\n",
    "    \"ch2\" : child2,\n",
    "    \"ch3\" : child3\n",
    "    \n",
    "}\n",
    "print(myfamily)"
   ]
  },
  {
   "cell_type": "markdown",
   "id": "ba5de6d0",
   "metadata": {},
   "source": [
    "<h3>The dict() Constructor</h3>\n",
    "It is also possible to use the dict() constructor to make a new dictionary:\n",
    "<h4>Example</h4>"
   ]
  },
  {
   "cell_type": "code",
   "execution_count": 67,
   "id": "66f0f544",
   "metadata": {},
   "outputs": [
    {
     "name": "stdout",
     "output_type": "stream",
     "text": [
      "{'brand': 'Ford', 'model': 'Mustang', 'year': 1964}\n"
     ]
    }
   ],
   "source": [
    "thisdict = dict(brand=\"Ford\", model=\"Mustang\", year=1964)\n",
    "# note that keywords are not string literals\n",
    "# note the use of equals rather than colon for the assignment\n",
    "print(thisdict)"
   ]
  },
  {
   "cell_type": "markdown",
   "id": "11cef7d1",
   "metadata": {},
   "source": [
    "<h2>Dictionary Methods</h2>\n",
    "Python has a set of built-in methods that you can use on dictionaries.\n",
    "<h4>Method</h4><h4> Description</h4>\n",
    "<h5>clear()</h5> Removes all the elements from the dictionary\n",
    "<h5>copy()</h5> Returns a copy of the dictionary\n",
    "<h5>fromkeys() </h5>Returns a dictionary with the specified keys and values\n",
    "<h5>get() </h5>Returns the value of the specified key\n",
    "<h5>items() </h5>Returns a list containing a tuple for each key value pair\n",
    "<h5>keys() </h5>Returns a list containing the dictionary's keys\n",
    "<h5>pop() </h5>Removes the element with the specified key\n",
    "<h5>popitem()</h5> Removes the last inserted key-value pair\n",
    "<h5>setdefault()</h5> Returns the value of the specified key. If the key does not exist: insert the key, with the \n",
    "specified value\n",
    "<h5>update()</h5> Updates the dictionary with the specified key-value pairs\n",
    "<h5>values()</h5> Returns a list of all the values in the dictionary"
   ]
  },
  {
   "cell_type": "markdown",
   "id": "a5ab6375",
   "metadata": {},
   "source": [
    "# Quiz Time:"
   ]
  },
  {
   "cell_type": "markdown",
   "id": "212d46df",
   "metadata": {},
   "source": [
    "<h1>Python If ... Else</h1>\n",
    "<h2>Python Conditions and If statements</h2>\n",
    "Python supports the usual logical conditions from mathematics:\n",
    "<h4> Equals: a == b\n",
    " Not Equals: a != b\n",
    " Less than: a < b\n",
    " Less than or equal to: a <= b\n",
    " Greater than: a > b\n",
    " Greater than or equal to: a >= b\n",
    "    </h4>\n",
    "These conditions can be used in several ways, most commonly in \"if statements\" and \n",
    "loops.\n",
    "An \"if statement\" is written by using the if keyword.\n",
    "<h4>Example</h4>"
   ]
  },
  {
   "cell_type": "code",
   "execution_count": 29,
   "id": "8e0d6ca1",
   "metadata": {},
   "outputs": [
    {
     "name": "stdout",
     "output_type": "stream",
     "text": [
      "b is greater than a\n"
     ]
    }
   ],
   "source": [
    "#If statement:\n",
    "a = 33\n",
    "b = 200\n",
    "if b > a:\n",
    "    print(\"b is greater than a\")"
   ]
  },
  {
   "cell_type": "markdown",
   "id": "44b03493",
   "metadata": {},
   "source": [
    "In this example we use two variables, a and b, which are used as part of the if \n",
    "statement to test whether b is greater than a. As a is 33, and b is 200, we know that \n",
    "200 is greater than 33, and so we print to screen that \"b is greater than a\".\n",
    "<h3>Indentation</h3>\n",
    "Python relies on indentation (whitespace at the beginning of a line) to define scope in \n",
    "the code. Other programming languages often use curly-brackets for this purpose.\n",
    "<h4>Example</h4>\n",
    "If statement, without indentation (will raise an error):\n"
   ]
  },
  {
   "cell_type": "code",
   "execution_count": 31,
   "id": "732ffaa0",
   "metadata": {},
   "outputs": [
    {
     "name": "stdout",
     "output_type": "stream",
     "text": [
      "b is greater than a\n"
     ]
    }
   ],
   "source": [
    "a = 33\n",
    "b = 200\n",
    "if b > a:\n",
    "    print(\"b is greater than a\") # you will get an erro"
   ]
  },
  {
   "cell_type": "markdown",
   "id": "4ef55f4d",
   "metadata": {},
   "source": [
    "<h2>Elif</h2>\n",
    "The elif keyword is pythons way of saying \"if the previous conditions were not true, \n",
    "then try this condition\".\n",
    "<h4>Example"
   ]
  },
  {
   "cell_type": "code",
   "execution_count": 7,
   "id": "830db84c",
   "metadata": {},
   "outputs": [
    {
     "name": "stdout",
     "output_type": "stream",
     "text": [
      "a and b are equal\n"
     ]
    }
   ],
   "source": [
    "a = 33\n",
    "b = 33\n",
    "if b > a:\n",
    "    print(\"b is greater than a\")\n",
    "elif a == b:\n",
    "    print(\"a and b are equal\")\n"
   ]
  },
  {
   "cell_type": "markdown",
   "id": "a86a6c00",
   "metadata": {},
   "source": [
    "In this example a is equal to b, so the first condition is not true, but the elif condition \n",
    "is true, so we print to screen that \"a and b are equal\".\n",
    "<h2>Else</h2>\n",
    "The else keyword catches anything which isn't caught by the preceding conditions.\n",
    "<h4>Example</h4>"
   ]
  },
  {
   "cell_type": "code",
   "execution_count": 9,
   "id": "7ffb56ff",
   "metadata": {},
   "outputs": [
    {
     "name": "stdout",
     "output_type": "stream",
     "text": [
      "a is greater than b\n"
     ]
    }
   ],
   "source": [
    "a = 200\n",
    "b = 33\n",
    "if b > a:\n",
    "    print(\"b is greater than a\")\n",
    "elif a == b:\n",
    "    print(\"a and b are equal\")\n",
    "else:\n",
    "    print(\"a is greater than b\")\n"
   ]
  },
  {
   "cell_type": "markdown",
   "id": "5a99215f",
   "metadata": {},
   "source": [
    "In this example a is greater than b, so the first condition is not true, also \n",
    "the elif condition is not true, so we go to the else condition and print to screen that \n",
    "\"a is greater than b\".\n",
    "<h4>You can also have an else without the elif: <br>\n",
    "Example"
   ]
  },
  {
   "cell_type": "code",
   "execution_count": 10,
   "id": "f9ef2559",
   "metadata": {},
   "outputs": [
    {
     "name": "stdout",
     "output_type": "stream",
     "text": [
      "b is not greater than a\n"
     ]
    }
   ],
   "source": [
    "a = 200\n",
    "b = 33\n",
    "if b > a:\n",
    "    print(\"b is greater than a\")\n",
    "else:\n",
    "    print(\"b is not greater than a\")"
   ]
  },
  {
   "cell_type": "markdown",
   "id": "8fc7f5e6",
   "metadata": {},
   "source": [
    "<h2>Short Hand If</h2>\n",
    "If you have only one statement to execute, you can put it on the same line as the if \n",
    "statement.\n",
    "<h4>Example</h4>\n",
    "One line if statement:\n"
   ]
  },
  {
   "cell_type": "code",
   "execution_count": 12,
   "id": "c8712c35",
   "metadata": {},
   "outputs": [
    {
     "name": "stdout",
     "output_type": "stream",
     "text": [
      "a is greater than b\n"
     ]
    }
   ],
   "source": [
    "if a > b: print(\"a is greater than b\")"
   ]
  },
  {
   "cell_type": "markdown",
   "id": "b2aa84e3",
   "metadata": {},
   "source": [
    "<h3>Short Hand If ... Else</h3>\n",
    "If you have only one statement to execute, one for if, and one for else, you can put it \n",
    "all on the same line:\n",
    "<h4>Example</h4>\n",
    "One line if else statement:"
   ]
  },
  {
   "cell_type": "code",
   "execution_count": 15,
   "id": "1d2de18c",
   "metadata": {},
   "outputs": [
    {
     "name": "stdout",
     "output_type": "stream",
     "text": [
      "B\n"
     ]
    }
   ],
   "source": [
    "a = 2\n",
    "b = 330\n",
    "print(\"A\") if a > b else print(\"B\")\n"
   ]
  },
  {
   "cell_type": "markdown",
   "id": "8648e384",
   "metadata": {},
   "source": [
    "You can also have multiple else statements on the same line:\n",
    "<h4>Example</h4>\n",
    "One line if else statement, with 3 conditions:"
   ]
  },
  {
   "cell_type": "code",
   "execution_count": 16,
   "id": "68e816ef",
   "metadata": {},
   "outputs": [
    {
     "name": "stdout",
     "output_type": "stream",
     "text": [
      "=\n"
     ]
    }
   ],
   "source": [
    "a = 330\n",
    "b = 330\n",
    "print(\"A\") if a > b else print(\"=\") if a == b else print(\"B\")"
   ]
  },
  {
   "cell_type": "markdown",
   "id": "babf0bfc",
   "metadata": {},
   "source": [
    "<h3>And</h3>\n",
    "The and keyword is a logical operator, and is used to combine conditional statements:\n",
    "<h4>Example</h4>\n",
    "Test if a is greater than b, AND if c is greater than a:"
   ]
  },
  {
   "cell_type": "code",
   "execution_count": 18,
   "id": "133b49ad",
   "metadata": {},
   "outputs": [
    {
     "name": "stdout",
     "output_type": "stream",
     "text": [
      "Both conditions are True\n"
     ]
    }
   ],
   "source": [
    "a = 200\n",
    "b = 33\n",
    "c = 500\n",
    "if a > b and c > a:\n",
    "    print(\"Both conditions are True\")\n"
   ]
  },
  {
   "cell_type": "markdown",
   "id": "ea8ac8e1",
   "metadata": {},
   "source": [
    "<h3>Or</h3>\n",
    "The or keyword is a logical operator, and is used to combine conditional statements:\n",
    "<h4>Example</h4>\n",
    "Test if a is greater than b, OR if a is greater than c:"
   ]
  },
  {
   "cell_type": "code",
   "execution_count": 19,
   "id": "2b6d2ad6",
   "metadata": {},
   "outputs": [
    {
     "name": "stdout",
     "output_type": "stream",
     "text": [
      "At least one of the conditions is True\n"
     ]
    }
   ],
   "source": [
    "a = 200\n",
    "b = 33\n",
    "c = 500\n",
    "if a > b or a > c:\n",
    "    print(\"At least one of the conditions is True\")\n"
   ]
  },
  {
   "cell_type": "markdown",
   "id": "653f17dd",
   "metadata": {},
   "source": [
    "<h3>Nested If<h3>\n",
    "You can have if statements inside if statements, this is called nested if statements.\n",
    "<h4>Example"
   ]
  },
  {
   "cell_type": "code",
   "execution_count": 20,
   "id": "2580ba81",
   "metadata": {},
   "outputs": [
    {
     "name": "stdout",
     "output_type": "stream",
     "text": [
      "Above ten,\n",
      "and also above 20!\n"
     ]
    }
   ],
   "source": [
    "x = 41\n",
    "if x > 10:\n",
    "    print(\"Above ten,\")\n",
    "    if x > 20:\n",
    "        print(\"and also above 20!\")\n",
    "    else:\n",
    "        print(\"but not above 20.\")"
   ]
  },
  {
   "cell_type": "markdown",
   "id": "c14f1f73",
   "metadata": {},
   "source": [
    "<h3>The pass Statement</h3>\n",
    "if statements cannot be empty, but if you for some reason have an if statement \n",
    "with no content, put in the pass statement to avoid getting an error.\n",
    "<h4>Example"
   ]
  },
  {
   "cell_type": "code",
   "execution_count": 21,
   "id": "b4e803fa",
   "metadata": {},
   "outputs": [],
   "source": [
    "a = 33\n",
    "b = 200\n",
    "if b > a:\n",
    "    pass\n"
   ]
  },
  {
   "cell_type": "markdown",
   "id": "f4202722",
   "metadata": {},
   "source": [
    "# let try some examples of condition statments"
   ]
  },
  {
   "cell_type": "markdown",
   "id": "040a0fe7",
   "metadata": {},
   "source": [
    "<h1>Python While Loops</h1>\n",
    "<h2>Python Loops</h2>\n",
    "Python has two primitive loop commands:\n",
    "<h3> while loops<br>\n",
    " for loops<br>\n",
    "The while Loop</h3>\n",
    "With the while loop we can execute a set of statements as long as a condition is true.\n",
    "<h4>Example</h4>\n",
    "Print i as long as i is less than 6:\n"
   ]
  },
  {
   "cell_type": "code",
   "execution_count": 23,
   "id": "f8f89bba",
   "metadata": {},
   "outputs": [
    {
     "name": "stdout",
     "output_type": "stream",
     "text": [
      "1\n",
      "2\n",
      "3\n",
      "4\n",
      "5\n"
     ]
    }
   ],
   "source": [
    "i = 1\n",
    "while i < 6:\n",
    "    print(i)\n",
    "    i += 1"
   ]
  },
  {
   "cell_type": "markdown",
   "id": "fdc4b6c9",
   "metadata": {},
   "source": [
    "<h5>Note:</h5> remember to increment i, or else the loop will continue forever.\n",
    "The while loop requires relevant variables to be ready, in this example we need to \n",
    "define an indexing variable, i, which we set to 1.\n",
    "The break Statement\n",
    "With the break statement we can stop the loop even if the while condition is true:\n",
    "<h4>Example</h4>\n",
    "Exit the loop when i is 3:"
   ]
  },
  {
   "cell_type": "markdown",
   "id": "f76977cf",
   "metadata": {},
   "source": [
    "##### The break statment:"
   ]
  },
  {
   "cell_type": "code",
   "execution_count": 27,
   "id": "84d6b1d2",
   "metadata": {},
   "outputs": [
    {
     "name": "stdout",
     "output_type": "stream",
     "text": [
      "1\n",
      "2\n",
      "3\n"
     ]
    }
   ],
   "source": [
    "i = 1\n",
    "while i < 6:\n",
    "    print(i)\n",
    "    if i == 3:\n",
    "        break\n",
    "    i += 1"
   ]
  },
  {
   "cell_type": "code",
   "execution_count": 27,
   "id": "b7f0dd35",
   "metadata": {},
   "outputs": [
    {
     "name": "stdout",
     "output_type": "stream",
     "text": [
      "\n"
     ]
    }
   ],
   "source": [
    "name = \"siraat ali\"\n",
    "print(name[-1:-4])"
   ]
  },
  {
   "cell_type": "markdown",
   "id": "09d09313",
   "metadata": {},
   "source": [
    "<h3>The continue Statement</h3>\n",
    "With the continue statement we can stop the current iteration, and continue with the \n",
    "next:\n",
    "<h4>Example</h4>\n",
    "Continue to the next iteration if i is 3:\n"
   ]
  },
  {
   "cell_type": "code",
   "execution_count": 33,
   "id": "4faa9644",
   "metadata": {},
   "outputs": [
    {
     "name": "stdout",
     "output_type": "stream",
     "text": [
      "1\n",
      "2\n",
      "4\n",
      "5\n",
      "6\n"
     ]
    }
   ],
   "source": [
    "i = 0\n",
    "while i < 6:\n",
    "    i += 1\n",
    "    if i == 3:\n",
    "        continue\n",
    "    print(i)"
   ]
  },
  {
   "cell_type": "markdown",
   "id": "480284de",
   "metadata": {},
   "source": [
    "<h3>The else Statement</h3>\n",
    "With the else statement we can run a block of code once when the condition no \n",
    "longer is true:\n",
    "<h4>Example</h4>\n",
    "Print a message once the condition is false:\n"
   ]
  },
  {
   "cell_type": "code",
   "execution_count": 35,
   "id": "04294486",
   "metadata": {},
   "outputs": [
    {
     "name": "stdout",
     "output_type": "stream",
     "text": [
      "1\n",
      "2\n",
      "3\n",
      "4\n",
      "5\n",
      "i is no longer less than 6\n"
     ]
    }
   ],
   "source": [
    "i = 1\n",
    "while i < 6:\n",
    "    print(i)\n",
    "    i += 1\n",
    "else:\n",
    "    print(\"i is no longer less than 6\")"
   ]
  },
  {
   "cell_type": "markdown",
   "id": "7e3a669b",
   "metadata": {},
   "source": [
    "<h1>Python For Loops</h1>\n",
    "<h2>Python For Loops</h2>\n",
    "A for loop is used for iterating over a sequence (that is either a list, a tuple, a \n",
    "dictionary, a set, or a string).\n",
    "This is less like the for keyword in other programming languages, and works more \n",
    "like an iterator method as found in other object-orientated programming languages.\n",
    "With the for loop we can execute a set of statements, once for each item in a list, \n",
    "tuple, set etc.\n",
    "<h4>Example</h4>\n",
    "Print each fruit in a fruit list:"
   ]
  },
  {
   "cell_type": "code",
   "execution_count": 36,
   "id": "ab18be1e",
   "metadata": {},
   "outputs": [
    {
     "name": "stdout",
     "output_type": "stream",
     "text": [
      "apple\n",
      "banana\n",
      "cherry\n"
     ]
    }
   ],
   "source": [
    "fruits = [\"apple\", \"banana\", \"cherry\"]\n",
    "for x in fruits:\n",
    "    print(x)\n"
   ]
  },
  {
   "cell_type": "markdown",
   "id": "0fdb33ae",
   "metadata": {},
   "source": [
    "The for loop does not require an indexing variable to set beforehand.\n",
    "<h3>Looping Through a String</h3>\n",
    "Even strings are iterable objects, they contain a sequence of characters:\n",
    "<h4>Example</h4>\n",
    "Loop through the letters in the word \"banana\":"
   ]
  },
  {
   "cell_type": "code",
   "execution_count": 38,
   "id": "2358b98e",
   "metadata": {},
   "outputs": [
    {
     "name": "stdout",
     "output_type": "stream",
     "text": [
      "b\n",
      "a\n",
      "n\n",
      "a\n",
      "n\n",
      "a\n"
     ]
    }
   ],
   "source": [
    "for x in \"banana\":\n",
    "    print(x)\n"
   ]
  },
  {
   "cell_type": "markdown",
   "id": "057e8828",
   "metadata": {},
   "source": [
    "<h3>The break Statement</h3>\n",
    "With the break statement we can stop the loop before it has looped through all the \n",
    "items:\n",
    "<h4>Example</h4>\n",
    "Exit the loop when x is \"banana\":"
   ]
  },
  {
   "cell_type": "code",
   "execution_count": 40,
   "id": "6213652c",
   "metadata": {},
   "outputs": [
    {
     "name": "stdout",
     "output_type": "stream",
     "text": [
      "apple\n",
      "banana\n"
     ]
    }
   ],
   "source": [
    "fruits = [\"apple\", \"banana\", \"cherry\"]\n",
    "for x in fruits:\n",
    "    print(x)\n",
    "    if x == \"banana\":\n",
    "        break"
   ]
  },
  {
   "cell_type": "markdown",
   "id": "a11a6fe4",
   "metadata": {},
   "source": [
    "<h4>Example</h4>\n",
    "Exit the loop when x is \"banana\", but this time the break comes before the print:"
   ]
  },
  {
   "cell_type": "code",
   "execution_count": 44,
   "id": "461be7bf",
   "metadata": {},
   "outputs": [
    {
     "name": "stdout",
     "output_type": "stream",
     "text": [
      "apple\n"
     ]
    }
   ],
   "source": [
    "fruits = [\"apple\", \"banana\", \"cherry\"]\n",
    "for x in fruits:\n",
    "    if x == \"banana\":\n",
    "        break\n",
    "    print(x)\n"
   ]
  },
  {
   "cell_type": "markdown",
   "id": "bce3e14e",
   "metadata": {},
   "source": [
    "<h3>The continue Statement</h3>\n",
    "With the continue statement we can stop the current iteration of the loop, and \n",
    "continue with the next:\n",
    "<h4>Example</h4>\n",
    "Do not print banana:\n"
   ]
  },
  {
   "cell_type": "code",
   "execution_count": 45,
   "id": "38692ffe",
   "metadata": {},
   "outputs": [
    {
     "name": "stdout",
     "output_type": "stream",
     "text": [
      "apple\n",
      "cherry\n"
     ]
    }
   ],
   "source": [
    "fruits = [\"apple\", \"banana\", \"cherry\"]\n",
    "for x in fruits:\n",
    "    if x == \"banana\":\n",
    "        continue\n",
    "    print(x)\n"
   ]
  },
  {
   "cell_type": "markdown",
   "id": "79e430d9",
   "metadata": {},
   "source": [
    "<h3>The range() Function</h3>\n",
    "To loop through a set of code a specified number of times, we can use \n",
    "the range() function,\n",
    "The range() function returns a sequence of numbers, starting from 0 by default, and \n",
    "increments by 1 (by default), and ends at a specified number.\n",
    "<h4>Example</h4>\n",
    "Using the range() function:\n"
   ]
  },
  {
   "cell_type": "code",
   "execution_count": 47,
   "id": "7a99e490",
   "metadata": {},
   "outputs": [
    {
     "name": "stdout",
     "output_type": "stream",
     "text": [
      "0\n",
      "1\n",
      "2\n",
      "3\n",
      "4\n",
      "5\n"
     ]
    }
   ],
   "source": [
    "for x in range(6):\n",
    "    print(x)\n"
   ]
  },
  {
   "cell_type": "markdown",
   "id": "6e2a0b7a",
   "metadata": {},
   "source": [
    "<h5>Note</h5> that range(6) is not the values of 0 to 6, but the values 0 to 5.\n",
    "The range() function defaults to 0 as a starting value, however it is possible to specify \n",
    "the starting value by adding a parameter: range(2, 6), which means values from 2 to \n",
    "6 (but not including 6):\n",
    "<h4>Example</h4>\n",
    "Using the start parameter:\n"
   ]
  },
  {
   "cell_type": "code",
   "execution_count": 48,
   "id": "7d54aed4",
   "metadata": {},
   "outputs": [
    {
     "name": "stdout",
     "output_type": "stream",
     "text": [
      "2\n",
      "3\n",
      "4\n",
      "5\n"
     ]
    }
   ],
   "source": [
    "for x in range(2, 6):\n",
    "    print(x)"
   ]
  },
  {
   "cell_type": "markdown",
   "id": "f114bb29",
   "metadata": {},
   "source": [
    "<h5>The range()</h5> function defaults to increment the sequence by 1, however it is possible \n",
    "to specify the increment value by adding a third parameter: range(2, 30, 3):\n",
    "<h4>Example</h4>\n",
    "Increment the sequence with 3 (default is 1):"
   ]
  },
  {
   "cell_type": "code",
   "execution_count": 49,
   "id": "803c6161",
   "metadata": {},
   "outputs": [
    {
     "name": "stdout",
     "output_type": "stream",
     "text": [
      "2\n",
      "5\n",
      "8\n",
      "11\n",
      "14\n",
      "17\n",
      "20\n",
      "23\n",
      "26\n",
      "29\n"
     ]
    }
   ],
   "source": [
    "for x in range(2, 30, 3):\n",
    "    print(x)"
   ]
  },
  {
   "cell_type": "markdown",
   "id": "9055468b",
   "metadata": {},
   "source": [
    "<h3>Else in For Loop</h3>\n",
    "The else keyword in a for loop specifies a block of code to be executed when the loop \n",
    "is finished:\n",
    "<h4>Example</h4>\n",
    "Print all numbers from 0 to 5, and print a message when the loop has ended:\n"
   ]
  },
  {
   "cell_type": "code",
   "execution_count": 50,
   "id": "677f61aa",
   "metadata": {},
   "outputs": [
    {
     "name": "stdout",
     "output_type": "stream",
     "text": [
      "0\n",
      "1\n",
      "2\n",
      "3\n",
      "4\n",
      "5\n",
      "Finally finished!\n"
     ]
    }
   ],
   "source": [
    "for x in range(6):\n",
    "    print(x)\n",
    "else:\n",
    "    print(\"Finally finished!\")\n"
   ]
  },
  {
   "cell_type": "markdown",
   "id": "d802f666",
   "metadata": {},
   "source": [
    "<h3>Nested Loops</h3>\n",
    "A nested loop is a loop inside a loop.\n",
    "The \"inner loop\" will be executed one time for each iteration of the \"outer loop\":\n",
    "<h4>Example</h4>\n",
    "Print each adjective for every fruit:"
   ]
  },
  {
   "cell_type": "code",
   "execution_count": 51,
   "id": "e89218bb",
   "metadata": {},
   "outputs": [
    {
     "name": "stdout",
     "output_type": "stream",
     "text": [
      "red apple\n",
      "red banana\n",
      "red cherry\n",
      "big apple\n",
      "big banana\n",
      "big cherry\n",
      "tasty apple\n",
      "tasty banana\n",
      "tasty cherry\n"
     ]
    }
   ],
   "source": [
    "adj = [\"red\", \"big\", \"tasty\"]\n",
    "fruits = [\"apple\", \"banana\", \"cherry\"]\n",
    "for x in adj:\n",
    "    for y in fruits:\n",
    "        print(x, y)\n"
   ]
  },
  {
   "cell_type": "markdown",
   "id": "b37975c9",
   "metadata": {},
   "source": [
    "<h3>The pass Statement</h3>\n",
    "for loops cannot be empty, but if you for some reason have a for loop with no \n",
    "content, put in the pass statement to avoid getting an error.\n",
    "<h4>Example"
   ]
  },
  {
   "cell_type": "code",
   "execution_count": 52,
   "id": "e9412651",
   "metadata": {},
   "outputs": [],
   "source": [
    "for x in [0, 1, 2]:\n",
    "    pass"
   ]
  },
  {
   "cell_type": "markdown",
   "id": "5535a7a9",
   "metadata": {},
   "source": [
    "### let try some examples of loops"
   ]
  },
  {
   "cell_type": "code",
   "execution_count": null,
   "id": "afbb5b64",
   "metadata": {},
   "outputs": [],
   "source": []
  }
 ],
 "metadata": {
  "kernelspec": {
   "display_name": "Python 3 (ipykernel)",
   "language": "python",
   "name": "python3"
  },
  "language_info": {
   "codemirror_mode": {
    "name": "ipython",
    "version": 3
   },
   "file_extension": ".py",
   "mimetype": "text/x-python",
   "name": "python",
   "nbconvert_exporter": "python",
   "pygments_lexer": "ipython3",
   "version": "3.11.3"
  }
 },
 "nbformat": 4,
 "nbformat_minor": 5
}
