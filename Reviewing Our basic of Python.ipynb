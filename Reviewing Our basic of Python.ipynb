{
 "cells": [
  {
   "cell_type": "markdown",
   "id": "fac59af6",
   "metadata": {},
   "source": [
    "\n",
    "# Introduction to Python"
   ]
  },
  {
   "cell_type": "markdown",
   "id": "cf7b3d1c",
   "metadata": {},
   "source": [
    "### What is Python?\n",
    "\n",
    "### Explanation:\n",
    "Python is a popular programming language known for its simplicity and readability.<br> It’s used in web development, data science, artificial intelligence, scientific computing, and more.\n",
    "#### Example: \n",
    "Python powers popular websites like Instagram and is used by scientists<br> for data analysis."
   ]
  },
  {
   "cell_type": "markdown",
   "id": "50b5a973",
   "metadata": {},
   "source": [
    " ## Basic Syntax\n",
    "Printing to the Console\n",
    "\n",
    "### Explanation:\n",
    "The print() function is used to output text to the console.\n",
    "#### Example"
   ]
  },
  {
   "cell_type": "code",
   "execution_count": 1,
   "id": "c17d30e0",
   "metadata": {},
   "outputs": [
    {
     "name": "stdout",
     "output_type": "stream",
     "text": [
      "Hello, World!\n"
     ]
    }
   ],
   "source": [
    "print(\"Hello, World!\")"
   ]
  },
  {
   "cell_type": "markdown",
   "id": "94576980",
   "metadata": {},
   "source": [
    "## Comments\n",
    "\n",
    "### Explanation: \n",
    "Comments are used to explain code and are ignored by the Python interpreter.\n",
    "#### Example:"
   ]
  },
  {
   "cell_type": "code",
   "execution_count": 2,
   "id": "35593736",
   "metadata": {},
   "outputs": [
    {
     "data": {
      "text/plain": [
       "'\\nThis is a multi-line comment\\nspanning multiple lines.\\n'"
      ]
     },
     "execution_count": 2,
     "metadata": {},
     "output_type": "execute_result"
    }
   ],
   "source": [
    "# This is a single-line comment\n",
    "\n",
    "\"\"\"\n",
    "This is a multi-line comment\n",
    "spanning multiple lines.\n",
    "\"\"\""
   ]
  },
  {
   "cell_type": "markdown",
   "id": "f6acd850",
   "metadata": {},
   "source": [
    "## Variables and Data Types\n",
    "### Variables\n",
    "#### Explanation:\n",
    "Variables store data values. They can be of different types like integer, float, string, etc.\n",
    "#### Example:"
   ]
  },
  {
   "cell_type": "code",
   "execution_count": 3,
   "id": "a4de9034",
   "metadata": {},
   "outputs": [
    {
     "data": {
      "text/plain": [
       "int"
      ]
     },
     "execution_count": 3,
     "metadata": {},
     "output_type": "execute_result"
    }
   ],
   "source": [
    "x = 5        # Integer\n",
    "y = 3.14     # Float\n",
    "name = \"Alice\" # String\n",
    "is_student = True # Boolean\n",
    "\n",
    "number = int()\n",
    "\n",
    "type(number)"
   ]
  },
  {
   "cell_type": "markdown",
   "id": "0f573232",
   "metadata": {},
   "source": [
    "## Basic Operations\n",
    "### Arithmetic Operations\n",
    "\n",
    "#### Explanation:\n",
    "Python can perform basic arithmetic operations such as addition, subtraction,<br> multiplication, and division.\n",
    "#### Example"
   ]
  },
  {
   "cell_type": "code",
   "execution_count": 4,
   "id": "196061e6",
   "metadata": {},
   "outputs": [],
   "source": [
    "a = 10 + 5  # Addition\n",
    "b = 10 - 5  # Subtraction\n",
    "c = 10 * 5  # Multiplication\n",
    "d = 10 / 5  # Division\n",
    "e = 10 % 3  # Modulus (remainder)\n",
    "f = 10 ** 2 # Exponentiation (power)"
   ]
  },
  {
   "cell_type": "markdown",
   "id": "d33c7747",
   "metadata": {},
   "source": [
    "## String Operations\n",
    "\n",
    "### Explanation: \n",
    "Strings can be concatenated and manipulated using various methods.\n",
    "#### Example:"
   ]
  },
  {
   "cell_type": "code",
   "execution_count": 9,
   "id": "79e82e29",
   "metadata": {},
   "outputs": [
    {
     "name": "stdout",
     "output_type": "stream",
     "text": [
      "ahmad khan\n",
      "11\n"
     ]
    }
   ],
   "source": [
    "first_name = \"ahmad\"\n",
    "last_name = \"khan\"\n",
    "full_name = first_name + \" \" + last_name\n",
    "print(full_name)\n",
    "print(full_name.count(\"\"))\n"
   ]
  },
  {
   "cell_type": "markdown",
   "id": "8271ef28",
   "metadata": {},
   "source": [
    "## Control Structures\n",
    "### Conditional Statements\n",
    "\n",
    "#### Explanation:\n",
    "if, elif, and else statements allow you to execute code based on certain conditions.\n",
    "##### Example:"
   ]
  },
  {
   "cell_type": "code",
   "execution_count": 6,
   "id": "e4084bab",
   "metadata": {},
   "outputs": [
    {
     "name": "stdout",
     "output_type": "stream",
     "text": [
      "x is equal to 10\n"
     ]
    }
   ],
   "source": [
    "x = 10\n",
    "if x > 10:\n",
    "    print(\"x is greater than 10\")\n",
    "elif x == 10:\n",
    "    print(\"x is equal to 10\")\n",
    "else:\n",
    "    print(\"x is less than 10\")"
   ]
  },
  {
   "cell_type": "markdown",
   "id": "9fccd18d",
   "metadata": {},
   "source": [
    "## Loops\n",
    "\n",
    "### For Loop\n",
    "#### Explanation: \n",
    "Used for iterating over a sequence (like a list, tuple, or range).\n",
    "##### Example:"
   ]
  },
  {
   "cell_type": "code",
   "execution_count": 12,
   "id": "542ba156",
   "metadata": {},
   "outputs": [
    {
     "name": "stdout",
     "output_type": "stream",
     "text": [
      "0,1,2,3,4,"
     ]
    }
   ],
   "source": [
    "for i in range(5):\n",
    "    print(i,end=\",\")"
   ]
  },
  {
   "cell_type": "markdown",
   "id": "f8732ee3",
   "metadata": {},
   "source": [
    "## END=\" \""
   ]
  },
  {
   "cell_type": "code",
   "execution_count": null,
   "id": "3a5f9491",
   "metadata": {},
   "outputs": [],
   "source": []
  },
  {
   "cell_type": "markdown",
   "id": "fb27f02d",
   "metadata": {},
   "source": [
    "## While Loop\n",
    "### Explanation:\n",
    "Repeats a block of code as long as a condition is true.\n",
    "#### Example:"
   ]
  },
  {
   "cell_type": "code",
   "execution_count": 17,
   "id": "ec2af2bd",
   "metadata": {},
   "outputs": [
    {
     "name": "stdout",
     "output_type": "stream",
     "text": [
      "Enter your: ahmad\n",
      "If you want to add more name enter yes: else press any keygf\n",
      "You have enter something else the YES\n"
     ]
    }
   ],
   "source": [
    "ch = \"yes\"\n",
    "while ch == 'yes':\n",
    "    name = input(\"Enter your: \")\n",
    "    ch = input(\"If you want to add more name enter yes: else press any key\")\n",
    "else:\n",
    "    print(\"You have enter something else the YES\")"
   ]
  },
  {
   "cell_type": "markdown",
   "id": "67ecbb52",
   "metadata": {},
   "source": [
    "## Data Structures\n",
    "### Lists\n",
    "\n",
    "#### Explanation: \n",
    "Lists are ordered collections that are changeable and allow duplicate members.\n",
    "##### Example:"
   ]
  },
  {
   "cell_type": "code",
   "execution_count": 1,
   "id": "198b2757",
   "metadata": {},
   "outputs": [
    {
     "name": "stdout",
     "output_type": "stream",
     "text": [
      "apple\n",
      "['apple', 'banana', 'cherry', 'orange']\n"
     ]
    }
   ],
   "source": [
    "fruits = [\"Ahmad\", 21, \"Charsadda\"]\n",
    "print(fruits[0])\n",
    "fruits.append(\"orange\")\n",
    "print(fruits) "
   ]
  },
  {
   "cell_type": "markdown",
   "id": "4b631163",
   "metadata": {},
   "source": [
    "## Dictionaries\n",
    "\n",
    "### Explanation: \n",
    "Dictionaries are unordered collections of key-value pairs.\n",
    "#### Example:"
   ]
  },
  {
   "cell_type": "code",
   "execution_count": 18,
   "id": "9d6f3de5",
   "metadata": {},
   "outputs": [
    {
     "name": "stdout",
     "output_type": "stream",
     "text": [
      "John\n",
      "{'name': 'John', 'age': 31}\n"
     ]
    }
   ],
   "source": [
    "person = {\"name\": \"John\", \"age\": 30}\n",
    "print(person[\"name\"])  \n",
    "person[\"age\"] = 31\n",
    "print(person)"
   ]
  },
  {
   "cell_type": "markdown",
   "id": "c7c7cde3",
   "metadata": {},
   "source": [
    "## Tuples\n",
    "\n",
    "### Explanation: \n",
    "Tuples are ordered collections that are immutable (unchangeable) and allow duplicate members.\n",
    "##### Example"
   ]
  },
  {
   "cell_type": "code",
   "execution_count": 3,
   "id": "98bd10df",
   "metadata": {},
   "outputs": [
    {
     "name": "stdout",
     "output_type": "stream",
     "text": [
      "10\n"
     ]
    }
   ],
   "source": [
    "coordinates = (10, 20)\n",
    "print(coordinates[0])"
   ]
  },
  {
   "cell_type": "markdown",
   "id": "6e195347",
   "metadata": {},
   "source": [
    "## Sets\n",
    "\n",
    "### Explanation:\n",
    "Sets are unordered collections of unique items.\n",
    "#### Example:\n"
   ]
  },
  {
   "cell_type": "code",
   "execution_count": 23,
   "id": "36454caa",
   "metadata": {},
   "outputs": [
    {
     "name": "stdout",
     "output_type": "stream",
     "text": [
      "{1, 2, 3, 4, 5, 6}\n"
     ]
    }
   ],
   "source": [
    "unique_numbers = {1, 2, 3, 4, 5}\n",
    "unique_numbers.add(6)\n",
    "print(unique_numbers)"
   ]
  },
  {
   "cell_type": "markdown",
   "id": "487ee62a",
   "metadata": {},
   "source": [
    "## Functions\n",
    "### Defining Functions\n",
    "\n",
    "#### Explanation: \n",
    "Functions are reusable blocks of code that perform a specific task.\n",
    "##### Example:"
   ]
  },
  {
   "cell_type": "code",
   "execution_count": 6,
   "id": "91d4dc91",
   "metadata": {},
   "outputs": [
    {
     "name": "stdout",
     "output_type": "stream",
     "text": [
      "Salam, Learner's!\n"
     ]
    }
   ],
   "source": [
    "def greet(name):\n",
    "    return f\"Salam, {name}!\"\n",
    "\n",
    "print(greet(\"Learner's\"))"
   ]
  },
  {
   "cell_type": "markdown",
   "id": "d798a952",
   "metadata": {},
   "source": [
    "## Object-Oriented Programming (OOP)\n",
    "### Introduction to OOP\n",
    "\n",
    "#### Explanation: \n",
    "OOP is a programming paradigm based on the concept of \"objects\", which can contain data and code. The four main principles are encapsulation, abstraction, inheritance, and polymorphism.\n",
    "### Classes and Objects\n",
    "\n",
    "#### Explanation: \n",
    "Classes are blueprints for creating objects. Objects are instances of classes.\n",
    "##### Example:"
   ]
  },
  {
   "cell_type": "code",
   "execution_count": 13,
   "id": "b72ac970",
   "metadata": {},
   "outputs": [
    {
     "name": "stdout",
     "output_type": "stream",
     "text": [
      "Name of the Dog is Buddy, Age3\n"
     ]
    }
   ],
   "source": [
    "class Dog:\n",
    "    \n",
    "    def __init__(self, name, age):\n",
    "        self.name = name\n",
    "        self.age = age\n",
    "    def speak(self):\n",
    "        print(f\"{self.name} says woof!\")\n",
    "\n",
    "    def show(self):\n",
    "        return f\"Name of the Dog is {self.name}, Age{self.age}\"\n",
    "\n",
    "my_dog = Dog(\"Buddy\", 3)\n",
    "print(my_dog.show())"
   ]
  },
  {
   "cell_type": "markdown",
   "id": "5571f339",
   "metadata": {},
   "source": [
    "## Inheritance\n",
    "\n",
    "### Explanation:\n",
    "Inheritance allows a class to inherit attributes and methods from another class.\n",
    "#### Example:"
   ]
  },
  {
   "cell_type": "code",
   "execution_count": 30,
   "id": "b6f837c4",
   "metadata": {},
   "outputs": [
    {
     "name": "stdout",
     "output_type": "stream",
     "text": [
      "Pesho says meow!, cat color red\n"
     ]
    }
   ],
   "source": [
    "class Animal:\n",
    "    def __init__(self, name):\n",
    "        self.name = name\n",
    "\n",
    "    def speak(self):\n",
    "        pass\n",
    "\n",
    "class Cat(Animal):\n",
    "    def __init__(s,name,color):\n",
    "        s.name=name\n",
    "        s.color= color\n",
    "    def speak(self):\n",
    "        return f\"{self.name} says meow!, cat color {self.color}\"\n",
    "my_cat = Cat(\"Pesho\",\"red\")\n",
    "print(my_cat.speak())"
   ]
  },
  {
   "cell_type": "code",
   "execution_count": 26,
   "id": "8ef4bee9",
   "metadata": {},
   "outputs": [
    {
     "name": "stdout",
     "output_type": "stream",
     "text": [
      "the name is ahmad and age is  21\n",
      "The name is ahmad and is 21\n"
     ]
    }
   ],
   "source": [
    "name = \"ahmad\"\n",
    "age = 21\n",
    "\n",
    "print(\"the name is\", name , \"and age is \" , age)\n",
    "\n",
    "print(f\"The name is {name} and is {age}\")\n",
    "\n"
   ]
  },
  {
   "cell_type": "markdown",
   "id": "d59d60ba",
   "metadata": {},
   "source": [
    "## Polymorphism\n",
    "\n",
    "### Explanation: \n",
    "Polymorphism allows methods to be used interchangeably for different classes.\n",
    "#### Example:"
   ]
  },
  {
   "cell_type": "code",
   "execution_count": 15,
   "id": "fd94356c",
   "metadata": {},
   "outputs": [
    {
     "name": "stdout",
     "output_type": "stream",
     "text": [
      "Buddy sayswoof!\n",
      "None\n",
      "Pesho says meow!\n",
      "Tweety says chirp!\n"
     ]
    }
   ],
   "source": [
    "class Bird:\n",
    "    def __init__(self, name):\n",
    "        self.name = name\n",
    "\n",
    "    def speak(self):\n",
    "        return f\"{self.name} says chirp!\"\n",
    "\n",
    "animals = [Dog(\"Buddy\", 3), Cat(\"Pesho\"), Bird(\"Tweety\")]\n",
    "\n",
    "for animal in animals:\n",
    "    print(animal.speak())"
   ]
  },
  {
   "cell_type": "markdown",
   "id": "e883e951",
   "metadata": {},
   "source": [
    "## Inheritance\n",
    "\n",
    "### Explanation:\n",
    "Inheritance allows a class to inherit attributes and methods from another class.\n",
    "#### Example:"
   ]
  },
  {
   "cell_type": "code",
   "execution_count": 17,
   "id": "88f0901e",
   "metadata": {},
   "outputs": [
    {
     "name": "stdout",
     "output_type": "stream",
     "text": [
      "Peshoo says meow!\n"
     ]
    }
   ],
   "source": [
    "class Animal:\n",
    "    def __init__(self, name):\n",
    "        self.name = name\n",
    "\n",
    "    def speak(self):\n",
    "        pass\n",
    "\n",
    "class Cat(Animal):\n",
    "    def speak(self):\n",
    "        return f\"{self.name} says meow!\"\n",
    "\n",
    "my_cat = Cat(\"Peshoo\")\n",
    "print(my_cat.speak())"
   ]
  },
  {
   "cell_type": "markdown",
   "id": "73b0797e",
   "metadata": {},
   "source": [
    "## Polymorphism\n",
    "\n",
    "### Explanation: \n",
    "Polymorphism allows methods to be used interchangeably for different classes.\n",
    "#### Example:"
   ]
  },
  {
   "cell_type": "code",
   "execution_count": 19,
   "id": "109d0ff5",
   "metadata": {},
   "outputs": [
    {
     "name": "stdout",
     "output_type": "stream",
     "text": [
      "Gog sayswoof!\n",
      "None\n",
      "Peshoo says meow!\n",
      "Tweety says chirp!\n"
     ]
    }
   ],
   "source": [
    "class Bird:\n",
    "    def __init__(self, name):\n",
    "        self.name = name\n",
    "\n",
    "    def speak(self):\n",
    "        return f\"{self.name} says chirp!\"\n",
    "\n",
    "animals = [Dog(\"Gog\", 3), Cat(\"Peshoo\"), Bird(\"Tweety\")]\n",
    "\n",
    "for animal in animals:\n",
    "    print(animal.speak())"
   ]
  },
  {
   "cell_type": "code",
   "execution_count": 32,
   "id": "feb04794",
   "metadata": {},
   "outputs": [
    {
     "name": "stdout",
     "output_type": "stream",
     "text": [
      "205\n"
     ]
    }
   ],
   "source": [
    "def fibonacci_sequence(n):\\n\",\n",
    "    \"    a, b = 0, 1\\n\",\n",
    "    \"    sequence = []\\n\",\n",
    "    \"    \\n\",\n",
    "    \"    for _ in range(n):\\n\",\n",
    "    \"        sequence.append(a)\\n\",\n",
    "    \"        a, b = b, a + b\\n\",\n",
    "    \"    \\n\",\n",
    "    \"    return sequence\\n\",\n",
    "    \"\\n\",\n",
    "    \"\\n\",\n",
    "    \"n_terms = int(input(\\\"How many terms? \\\"))\\n\",\n",
    "    \"\\n\",\n",
    "    \"if n_terms <= 0:\\n\",\n",
    "    \"    print(\\\"Please enter a positive integer\\\")\\n\",\n",
    "    \"else:\\n\",\n",
    "    \"    print(\\\"Fibonacci sequence:\\\")\\n\",\n",
    "    \"    fib_sequence = fibonacci_sequence(n_terms)\\n\",\n",
    "    \"    for num in fib_sequence:\\n\",\n",
    "    \"        print(num, end=\\\" \\\")\""
   ]
  },
  {
   "cell_type": "code",
   "execution_count": null,
   "id": "cec11919",
   "metadata": {},
   "outputs": [],
   "source": []
  }
 ],
 "metadata": {
  "kernelspec": {
   "display_name": "Python 3 (ipykernel)",
   "language": "python",
   "name": "python3"
  },
  "language_info": {
   "codemirror_mode": {
    "name": "ipython",
    "version": 3
   },
   "file_extension": ".py",
   "mimetype": "text/x-python",
   "name": "python",
   "nbconvert_exporter": "python",
   "pygments_lexer": "ipython3",
   "version": "3.11.3"
  }
 },
 "nbformat": 4,
 "nbformat_minor": 5
}
