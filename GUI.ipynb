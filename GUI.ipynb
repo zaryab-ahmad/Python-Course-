{
 "cells": [
  {
   "cell_type": "markdown",
   "id": "6d1eb1c3",
   "metadata": {},
   "source": [
    "### Introduction to Tkinter\n",
    "Tkinter is the standard Python library for creating graphical user interfaces (GUIs). <br>It provides a fast and easy way to create GUIs that are portable across different platforms.\n",
    "\n",
    "##### Getting Started with Tkinter\n",
    "### Installing Tkinter:\n",
    "Tkinter usually comes pre-installed with Python. You can check its availability by importing it."
   ]
  },
  {
   "cell_type": "code",
   "execution_count": 2,
   "id": "c6a23497",
   "metadata": {},
   "outputs": [],
   "source": [
    "import tkinter as tk\n"
   ]
  },
  {
   "cell_type": "code",
   "execution_count": 3,
   "id": "d82a1865",
   "metadata": {},
   "outputs": [],
   "source": [
    "window = tk.Tk()\n",
    "\n",
    "window.mainloop()"
   ]
  },
  {
   "cell_type": "markdown",
   "id": "2c174047",
   "metadata": {},
   "source": [
    "### Basic Window:\n",
    "Let's start by creating a basic window."
   ]
  },
  {
   "cell_type": "code",
   "execution_count": 4,
   "id": "e0b7a23a",
   "metadata": {},
   "outputs": [],
   "source": [
    "import tkinter as tk\n",
    "\n",
    "\n",
    "root = tk.Tk()\n",
    "root.title(\"Basic Window\")\n",
    "root.geometry(\"300x200\")  # Width x Height\n",
    "\n",
    "# Run the application\n",
    "root.mainloop()"
   ]
  },
  {
   "cell_type": "markdown",
   "id": "2f44fb86",
   "metadata": {},
   "source": [
    "## Explanation:\n",
    "\n",
    "__tk.Tk():__ This initializes the main window.<br>\n",
    "__title():__ Sets the window's title.<br>\n",
    "__geometry():__ Sets the size of the window.<br>\n",
    "__mainloop():__ Starts the GUI event loop, waiting for user interaction.<br>\n",
    "### Adding Widgets<br>\n",
    "##### Adding a Label:<br>\n",
    "Now, we'll add a label to the window.<br>"
   ]
  },
  {
   "cell_type": "code",
   "execution_count": 5,
   "id": "a5f22d94",
   "metadata": {},
   "outputs": [],
   "source": [
    "import tkinter as tk\n",
    "\n",
    "root = tk.Tk()\n",
    "root.title(\"Label Example\")\n",
    "root.geometry(\"300x200\")\n",
    "\n",
    "# Create a label widget\n",
    "label = tk.Label(root, text=\"Hello, Tkinter!\")\n",
    "label.pack()\n",
    "\n",
    "root.mainloop()"
   ]
  },
  {
   "cell_type": "markdown",
   "id": "54d9ee84",
   "metadata": {},
   "source": [
    "## Explanation:\n",
    "\n",
    "__tk.Label():__ Creates a label widget.<br>\n",
    "pack(): Places the widget in the window. pack() is a geometry manager that<br> arranges widgets in blocks.<br>\n",
    "__Adding a Button:__ <br>\n",
    "We'll add a button and an action when it's clicked."
   ]
  },
  {
   "cell_type": "code",
   "execution_count": 12,
   "id": "7c8d6343",
   "metadata": {},
   "outputs": [],
   "source": [
    "import tkinter as tk\n",
    "\n",
    "def on_button_click():\n",
    "    label.config(text=\"Button Clicked!\")\n",
    "\n",
    "root = tk.Tk()\n",
    "root.title(\"Button Example\")\n",
    "root.geometry(\"300x200\")\n",
    "\n",
    "label = tk.Label(root, text=\"Click the Button\")\n",
    "label.pack()\n",
    "\n",
    "# Create a button widget\n",
    "button = tk.Button(root, text=\"Click Me\", command=on_button_click)\n",
    "button.pack()\n",
    "\n",
    "root.mainloop()"
   ]
  },
  {
   "cell_type": "markdown",
   "id": "3fa06148",
   "metadata": {},
   "source": [
    "## Explanation:\n",
    "\n",
    "__tk.Button():__ Creates a button widget.<br>\n",
    "__command=on_button_click:__ Binds a function to the button click event.<br>\n",
    "__label.config():__ Updates the label's text when the button is clicked.<br>\n",
    "#### Intermediate Concepts\n",
    "__Entry Widget:__<br>\n",
    "Let's create an input field using the Entry widget.<br>"
   ]
  },
  {
   "cell_type": "code",
   "execution_count": 8,
   "id": "f730188a",
   "metadata": {},
   "outputs": [],
   "source": [
    "import tkinter as tk\n",
    "\n",
    "def show_input():\n",
    "    input_text = entry.get()\n",
    "    label.config(text=f\"You entered: {input_text}\")\n",
    "\n",
    "root = tk.Tk()\n",
    "root.title(\"Entry Example\")\n",
    "root.geometry(\"300x200\")\n",
    "\n",
    "label = tk.Label(root, text=\"Enter something:\")\n",
    "label.pack()\n",
    "\n",
    "# Create an entry widget\n",
    "entry = tk.Entry(root)\n",
    "entry.pack()\n",
    "\n",
    "button = tk.Button(root, text=\"Submit\", command=show_input)\n",
    "button.pack()\n",
    "\n",
    "root.mainloop()"
   ]
  },
  {
   "cell_type": "markdown",
   "id": "760ecc39",
   "metadata": {},
   "source": [
    "## Explanation:\n",
    "\n",
    "__tk.Entry():__ Creates a single-line text input field.<br>\n",
    "__entry.get():__ Retrieves the text entered in the Entry widget.<br>\n",
    "##### Layouts with Frames:\n",
    "To organize widgets, you can use frames.<br>"
   ]
  },
  {
   "cell_type": "code",
   "execution_count": 4,
   "id": "6d0a2140",
   "metadata": {},
   "outputs": [],
   "source": [
    "import tkinter as tk\n",
    "\n",
    "root = tk.Tk()\n",
    "root.title(\"Frame Example\")\n",
    "root.geometry(\"300x200\")\n",
    "\n",
    "# Create a frame\n",
    "frame = tk.Frame(root)\n",
    "frame.pack()\n",
    "\n",
    "label1 = tk.Label(frame, text=\"Top\")\n",
    "label1.pack(side=tk.TOP)\n",
    "\n",
    "label2 = tk.Label(frame, text=\"Bottom\")\n",
    "label2.pack(side=tk.BOTTOM)\n",
    "\n",
    "root.mainloop()"
   ]
  },
  {
   "cell_type": "markdown",
   "id": "0f69fdf8",
   "metadata": {},
   "source": [
    "## Explanation:\n",
    "\n",
    "__tk.Frame():__ Groups widgets together for better layout management.<br>\n",
    "__side=tk.TOP/BOTTOM:__ Specifies the position of the widget in the frame.<br>\n",
    "#### Advanced Concepts\n",
    "__Canvas Widget:__<br>\n",
    "The Canvas widget is used for drawing shapes, images, and complex layouts."
   ]
  },
  {
   "cell_type": "code",
   "execution_count": 7,
   "id": "4eefaec9",
   "metadata": {},
   "outputs": [],
   "source": [
    "import tkinter as tk\n",
    "\n",
    "root = tk.Tk()\n",
    "root.title(\"Canvas Example\")\n",
    "root.geometry(\"300x200\")\n",
    "\n",
    "# Create a canvas widget\n",
    "canvas = tk.Canvas(root, width=300, height=200)\n",
    "canvas.pack()\n",
    "\n",
    "# Draw shapes\n",
    "\n",
    "canvas.create_rectangle(50, 50, 250, 150, outline=\"red\", fill=\"yellow\")\n",
    "canvas.create_line(110, 110, 300, 200, fill=\"blue\")\n",
    "\n",
    "root.mainloop()"
   ]
  },
  {
   "cell_type": "markdown",
   "id": "936433bc",
   "metadata": {},
   "source": [
    "## Explanation:\n",
    "\n",
    "__tk.Canvas():__ Creates a canvas for drawing.<br>\n",
    "__create_line(),__ create_rectangle(): Methods to draw shapes.<br>\n",
    "### Menu Bar:\n",
    "Adding a menu bar to your application enhances user interaction."
   ]
  },
  {
   "cell_type": "code",
   "execution_count": 8,
   "id": "93c0ef78",
   "metadata": {},
   "outputs": [],
   "source": [
    "import tkinter as tk\n",
    "\n",
    "def do_nothing():\n",
    "    pass\n",
    "\n",
    "root = tk.Tk()\n",
    "root.title(\"Menu Example\")\n",
    "root.geometry(\"300x200\")\n",
    "\n",
    "# Create a menu bar\n",
    "menubar = tk.Menu(root)\n",
    "root.config(menu=menubar)\n",
    "\n",
    "# Add a file menu\n",
    "file_menu = tk.Menu(menubar, tearoff=0)\n",
    "menubar.add_cascade(label=\"File\", menu=file_menu)\n",
    "file_menu.add_command(label=\"New\", command=do_nothing)\n",
    "file_menu.add_command(label=\"Open\", command=do_nothing)\n",
    "file_menu.add_separator()\n",
    "file_menu.add_command(label=\"Exit\", command=root.quit)\n",
    "menubar.add_cascade(label=\"Home\", menu=file_menu)\n",
    "file_menu.add_command(label=\"Rename\", command=do_nothing)\n",
    "file_menu.add_command(label=\"Save\", command=do_nothing)\n",
    "file_menu.add_separator()\n",
    "file_menu.add_command(label=\"Don't save\", command=root.quit)\n",
    "\n",
    "root.mainloop()"
   ]
  },
  {
   "cell_type": "markdown",
   "id": "907149a1",
   "metadata": {},
   "source": [
    "## Explanation:\n",
    "\n",
    "__tk.Menu():__ Creates a menu.<br>\n",
    "__add_cascade():__ Adds a dropdown menu to the menu bar.<br>\n",
    "__add_command():__ Adds an item to the dropdown menu.<br>\n",
    "__root.quit():__ Exits the application."
   ]
  },
  {
   "cell_type": "markdown",
   "id": "0de766cd",
   "metadata": {},
   "source": [
    "## Adding Widgets\n",
    "###### Objective: \n",
    "Teach students how to add widgets like labels, buttons, and text boxes.\n",
    "\n",
    "#### Code Example:"
   ]
  },
  {
   "cell_type": "code",
   "execution_count": 16,
   "id": "a023f5fb",
   "metadata": {},
   "outputs": [
    {
     "name": "stdout",
     "output_type": "stream",
     "text": [
      "Button clicked!\n",
      "Button clicked!\n",
      "Button clicked!\n",
      "Button clicked!\n",
      "Button clicked!\n"
     ]
    }
   ],
   "source": [
    "import tkinter as tk\n",
    "\n",
    "root = tk.Tk()\n",
    "root.title(\"Widgets Example\")\n",
    "root.geometry(\"300x200\")\n",
    "\n",
    "# Adding a Label\n",
    "label = tk.Label(root, text=\"Hello, Tkinter!\")\n",
    "label.pack()\n",
    "\n",
    "# Adding a Button\n",
    "button = tk.Button(root, text=\"Click Me\", command=lambda: print(\"Button clicked!\"))\n",
    "button.pack()\n",
    "\n",
    "# Adding an Entry (Text box)\n",
    "entry = tk.Entry(root)\n",
    "entry.pack()\n",
    "\n",
    "root.mainloop()"
   ]
  },
  {
   "cell_type": "markdown",
   "id": "f4abd00d",
   "metadata": {},
   "source": [
    "### Explanation:\n",
    "\n",
    "__tk.Label()__ creates a text label.<br>\n",
    "__tk.Button()__ creates a clickable button with a command that triggers a function.<br>\n",
    "__tk.Entry()__ creates a text input box.<br>\n",
    "__pack()__ is a geometry manager that arranges widgets in a block.<br>"
   ]
  },
  {
   "cell_type": "markdown",
   "id": "d7db489f",
   "metadata": {},
   "source": [
    "## Layouts with pack, grid, and place\n",
    "##### Objective:\n",
    "Explain different ways to position widgets in a window.\n",
    "\n",
    "##### Code Example:"
   ]
  },
  {
   "cell_type": "code",
   "execution_count": 20,
   "id": "a94be6c2",
   "metadata": {},
   "outputs": [],
   "source": [
    "import tkinter as tk\n",
    "\n",
    "root = tk.Tk()\n",
    "root.title(\"Layouts Example\")\n",
    "root.geometry(\"300x200\")\n",
    "\n",
    "# Using grid for all widgets\n",
    "label1 = tk.Label(root, text=\"Label 1 (Grid)\")\n",
    "label1.grid(row=0, column=0, padx=10, pady=10)\n",
    "\n",
    "label2 = tk.Label(root, text=\"Label 2 (Grid)\")\n",
    "label2.grid(row=0, column=1, padx=10, pady=10)\n",
    "\n",
    "button = tk.Button(root, text=\"Button (Grid)\")\n",
    "button.grid(row=1, column=0, padx=10, pady=10)\n",
    "\n",
    "root.mainloop()"
   ]
  },
  {
   "cell_type": "markdown",
   "id": "89af8961",
   "metadata": {},
   "source": [
    "### Explanation:\n",
    "\n",
    "__pack()__ positions widgets in relation to each other (top, bottom, left, right).<br>\n",
    "__grid()__ positions widgets in a table-like structure with rows and columns.<br>\n",
    "__place()__ allows precise positioning using x and y coordinates.<br>"
   ]
  },
  {
   "cell_type": "code",
   "execution_count": 6,
   "id": "c853e38f",
   "metadata": {},
   "outputs": [
    {
     "name": "stdout",
     "output_type": "stream",
     "text": [
      "Button was clicked!\n",
      "Button was clicked!\n"
     ]
    }
   ],
   "source": [
    "import tkinter as tk\n",
    "\n",
    "def on_button_click():\n",
    "    print(\"Button was clicked!\")\n",
    "\n",
    "root = tk.Tk()\n",
    "root.title(\"Event Handling Example\")\n",
    "root.geometry(\"300x200\")\n",
    "\n",
    "button = tk.Button(root, text=\"Click Me\", command=on_button_click)\n",
    "button.pack()\n",
    "\n",
    "root.mainloop()"
   ]
  },
  {
   "cell_type": "markdown",
   "id": "24ce256e",
   "metadata": {},
   "source": [
    "### Explanation:\n",
    "\n",
    "command=on_button_click links the button click event to the on_button_click function."
   ]
  },
  {
   "cell_type": "markdown",
   "id": "7e40938f",
   "metadata": {},
   "source": [
    "### Building a Simple Application\n",
    "##### Objective:\n",
    "Create a basic application like a calculator or a to-do list.\n",
    "\n",
    "##### Code Example:\n",
    "(Simple Calculator)"
   ]
  },
  {
   "cell_type": "code",
   "execution_count": 21,
   "id": "0e8daa25",
   "metadata": {},
   "outputs": [],
   "source": [
    "import tkinter as tk\n",
    "\n",
    "def calculate():\n",
    "    try:\n",
    "        result = eval(entry.get())\n",
    "        label_result.config(text=\"Result: \" + str(result))\n",
    "    except:\n",
    "        label_result.config(text=\"Error\")\n",
    "\n",
    "root = tk.Tk()\n",
    "root.title(\"Simple Calculator\")\n",
    "root.geometry(\"300x150\")\n",
    "\n",
    "entry = tk.Entry(root)\n",
    "entry.pack()\n",
    "\n",
    "button = tk.Button(root, text=\"Calculate\", command=calculate)\n",
    "button.pack()\n",
    "\n",
    "label_result = tk.Label(root, text=\"Result: \")\n",
    "label_result.pack()\n",
    "\n",
    "root.mainloop()"
   ]
  },
  {
   "cell_type": "markdown",
   "id": "9e278fc5",
   "metadata": {},
   "source": [
    "## Explanation:\n",
    "\n",
    "__eval()__ evaluates the expression entered by the user.<br>\n",
    "__label_result.config()__ updates the label to display the result."
   ]
  },
  {
   "cell_type": "code",
   "execution_count": 8,
   "id": "d5169452",
   "metadata": {},
   "outputs": [],
   "source": [
    "import tkinter as tk\n",
    "\n",
    "def change_color():\n",
    "    canvas.config(bg=\"yellow\")\n",
    "\n",
    "root = tk.Tk()\n",
    "root.title(\"Advanced Widgets Example\")\n",
    "root.geometry(\"400x300\")\n",
    "\n",
    "# Creating a Menu\n",
    "menu = tk.Menu(root)\n",
    "root.config(menu=menu)\n",
    "submenu = tk.Menu(menu)\n",
    "menu.add_cascade(label=\"File\", menu=submenu)\n",
    "submenu.add_command(label=\"Change Color\", command=change_color)\n",
    "submenu.add_separator()\n",
    "submenu.add_command(label=\"Exit\", command=root.quit)\n",
    "\n",
    "# Creating a Canvas\n",
    "canvas = tk.Canvas(root, width=300, height=200)\n",
    "canvas.pack()\n",
    "\n",
    "root.mainloop()"
   ]
  },
  {
   "cell_type": "markdown",
   "id": "6e0e6621",
   "metadata": {},
   "source": [
    "### Adding Dialog Boxes and Message Boxes\n",
    "#### Objective:\n",
    "Show how to create pop-up windows for alerts, inputs, etc.\n",
    "\n",
    "### Code Example:"
   ]
  },
  {
   "cell_type": "code",
   "execution_count": 29,
   "id": "1ead4095",
   "metadata": {},
   "outputs": [],
   "source": [
    "import tkinter as tk\n",
    "from tkinter import messagebox\n",
    "\n",
    "# Function to handle the window closing event\n",
    "def on_closing():\n",
    "    if messagebox.askokcancel(\"Quit\", \"Do you want to quit?\"):\n",
    "        root.destroy()\n",
    "\n",
    "root = tk.Tk()\n",
    "root.title(\"Dialog Box Example\")\n",
    "root.geometry(\"300x200\")\n",
    "\n",
    "button = tk.Button(root, text=\"Show Message\", command=lambda: messagebox.showinfo(\"Information\", \"This is a message box\"))\n",
    "button.pack()\n",
    "\n",
    "# Set the protocol for the window close button\n",
    "root.protocol(\"WM_DELETE_WINDOW\", on_closing)\n",
    "\n",
    "root.mainloop()\n"
   ]
  },
  {
   "cell_type": "markdown",
   "id": "61f3769e",
   "metadata": {},
   "source": [
    "## Simple Calculator Code:"
   ]
  },
  {
   "cell_type": "code",
   "execution_count": 1,
   "id": "f2698a90",
   "metadata": {},
   "outputs": [],
   "source": [
    "import tkinter as tk\n",
    "\n",
    "# Function to update the expression in the text entry box\n",
    "def update_expression(value):\n",
    "    expression = entry.get() + str(value)\n",
    "    entry.delete(0, tk.END)\n",
    "    entry.insert(tk.END, expression)\n",
    "\n",
    "# Function to evaluate the expression\n",
    "def evaluate_expression():\n",
    "    try:\n",
    "        result = eval(entry.get())\n",
    "        entry.delete(0, tk.END)\n",
    "        entry.insert(tk.END, result)\n",
    "    except Exception as e:\n",
    "        entry.delete(0, tk.END)\n",
    "        entry.insert(tk.END, \"Error\")\n",
    "\n",
    "# Function to clear the entry box\n",
    "def clear_expression():\n",
    "    entry.delete(0, tk.END)\n",
    "\n",
    "# Create the main window\n",
    "root = tk.Tk()\n",
    "root.title(\"Simple Calculator\")\n",
    "\n",
    "# Create the entry box for the expression\n",
    "entry = tk.Entry(root, width=16, font=('Arial', 24), bd=8, insertwidth=2, bg=\"powder blue\", justify='right')\n",
    "entry.grid(row=0, column=0, columnspan=4)\n",
    "\n",
    "# Define button text and grid positions\n",
    "buttons = [\n",
    "    ('7', 1, 0), ('8', 1, 1), ('9', 1, 2), ('/', 1, 3),\n",
    "    ('4', 2, 0), ('5', 2, 1), ('6', 2, 2), ('*', 2, 3),\n",
    "    ('1', 3, 0), ('2', 3, 1), ('3', 3, 2), ('-', 3, 3),\n",
    "    ('0', 4, 0), ('C', 4, 1), ('=', 4, 2), ('+', 4, 3),\n",
    "]\n",
    "\n",
    "# Create buttons and place them in the grid\n",
    "for (text, row, col) in buttons:\n",
    "    if text == '=':\n",
    "        button = tk.Button(root, text=text, padx=20, pady=20, font=('Arial', 18), bg='green', fg='white', command=evaluate_expression)\n",
    "    elif text == 'C':\n",
    "        button = tk.Button(root, text=text, padx=20, pady=20, font=('Arial', 18), bg='red', fg='white', command=clear_expression)\n",
    "    else:\n",
    "        button = tk.Button(root, text=text, padx=20, pady=20, font=('Arial', 18), command=lambda t=text: update_expression(t))\n",
    "    button.grid(row=row, column=col)\n",
    "\n",
    "# Start the main loop\n",
    "root.mainloop()\n"
   ]
  },
  {
   "cell_type": "markdown",
   "id": "081e2f15",
   "metadata": {},
   "source": [
    "### Explanation:\n",
    "#### Import Tkinter: \n",
    "We start by importing the Tkinter module as tk.\n",
    "\n",
    "##### Functions:\n",
    "\n",
    "##### update_expression(value): \n",
    "This function updates the expression shown in the entry box when a number or operator button is clicked.\n",
    "###### evaluate_expression(): \n",
    "This function evaluates the mathematical expression using Python's eval() function and displays the result. If there's an error (like division by zero), it catches the exception and shows \"Error.\"\n",
    "###### clear_expression():\n",
    "This function clears the entry box.\n",
    "## Main Window:\n",
    "\n",
    "The main window is created using tk.Tk(), and its title is set to \"Simple Calculator.\"\n",
    "#### Entry Box:\n",
    "\n",
    "The entry box (tk.Entry) is where the mathematical expression is displayed and entered by the user. It's placed at the top of the window, spanning four columns.\n",
    "##### Buttons:\n",
    "\n",
    "A list buttons is defined with button labels and their respective grid positions.\n",
    "Each button is created using tk.Button and placed on the grid using grid(row, column). The command parameter links each button to its corresponding function.\n",
    "The = button calls evaluate_expression(), the C button calls clear_expression(), and other buttons update the expression.\n",
    "##### Main Loop:\n",
    "\n",
    "Finally, root.mainloop() starts the event loop, waiting for user interaction.\n",
    "##### Running the Calculator:\n",
    "When you run the code, you'll see a basic calculator interface.\n",
    "Clicking on the buttons updates the display in the entry box.\n",
    "The C button clears the display, and the = button calculates and shows the result."
   ]
  },
  {
   "cell_type": "code",
   "execution_count": 31,
   "id": "e6c4ac04",
   "metadata": {},
   "outputs": [],
   "source": [
    "import tkinter as tk \n",
    "from tkinter import messagebox"
   ]
  },
  {
   "cell_type": "code",
   "execution_count": null,
   "id": "356479c3",
   "metadata": {},
   "outputs": [],
   "source": []
  },
  {
   "cell_type": "code",
   "execution_count": 1,
   "id": "f590e36a",
   "metadata": {},
   "outputs": [
    {
     "ename": "NameError",
     "evalue": "name 'tk' is not defined",
     "output_type": "error",
     "traceback": [
      "\u001b[1;31m---------------------------------------------------------------------------\u001b[0m",
      "\u001b[1;31mNameError\u001b[0m                                 Traceback (most recent call last)",
      "Cell \u001b[1;32mIn[1], line 19\u001b[0m\n\u001b[0;32m     12\u001b[0m         entry\u001b[38;5;241m.\u001b[39mdelete(\u001b[38;5;241m0\u001b[39m, tk\u001b[38;5;241m.\u001b[39mEND)\n\u001b[0;32m     13\u001b[0m         entry\u001b[38;5;241m.\u001b[39minsert(tk\u001b[38;5;241m.\u001b[39mEND, \u001b[38;5;124m\"\u001b[39m\u001b[38;5;124mError\u001b[39m\u001b[38;5;124m\"\u001b[39m)\n\u001b[1;32m---> 19\u001b[0m col \u001b[38;5;241m=\u001b[39m tk\u001b[38;5;241m.\u001b[39mTk()\n\u001b[0;32m     23\u001b[0m col\u001b[38;5;241m.\u001b[39mtitle(\u001b[38;5;124m\"\u001b[39m\u001b[38;5;124mSimple colculter \u001b[39m\u001b[38;5;124m\"\u001b[39m)\n\u001b[0;32m     26\u001b[0m entry \u001b[38;5;241m=\u001b[39m tk\u001b[38;5;241m.\u001b[39mEntry(col,font\u001b[38;5;241m=\u001b[39m(\u001b[38;5;124m\"\u001b[39m\u001b[38;5;124mAril\u001b[39m\u001b[38;5;124m\"\u001b[39m,\u001b[38;5;241m18\u001b[39m),bg\u001b[38;5;241m=\u001b[39m\u001b[38;5;124m'\u001b[39m\u001b[38;5;124mgreen\u001b[39m\u001b[38;5;124m'\u001b[39m, fg\u001b[38;5;241m=\u001b[39m\u001b[38;5;124m'\u001b[39m\u001b[38;5;124mwhite\u001b[39m\u001b[38;5;124m'\u001b[39m, justify \u001b[38;5;241m=\u001b[39m \u001b[38;5;124m\"\u001b[39m\u001b[38;5;124mright\u001b[39m\u001b[38;5;124m\"\u001b[39m)\n",
      "\u001b[1;31mNameError\u001b[0m: name 'tk' is not defined"
     ]
    }
   ],
   "source": [
    "def update_expration(value):\n",
    "    expression = entry.get() + str(value)\n",
    "    entry.delete(0, tk.END)\n",
    "    entry.insert(tk.END, expression)\n",
    "    \n",
    "def cul():\n",
    "    try:\n",
    "        result = eval(entry.get())\n",
    "        entry.delete(0, tk.END)\n",
    "        entry.insert(tk.END, result)\n",
    "    except Exception as e:\n",
    "        entry.delete(0, tk.END)\n",
    "        entry.insert(tk.END, \"Error\")\n",
    "        \n",
    "    \n",
    "    \n",
    "    \n",
    "\n",
    "col = tk.Tk()\n",
    "\n",
    "\n",
    "\n",
    "col.title(\"Simple colculter \")\n",
    "\n",
    "\n",
    "entry = tk.Entry(col,font=(\"Aril\",18),bg='green', fg='white', justify = \"right\")\n",
    "entry.grid(row = 0 , column = 0 , columnspan = 4)\n",
    "\n",
    "\"\"\"buttons = [\n",
    "    ('7', 1, 0), ('8', 1, 1), ('9', 1, 2), ('/', 1, 3),\n",
    "    ('4', 2, 0), ('5', 2, 1), ('6', 2, 2), ('*', 2, 3),\n",
    "    ('1', 3, 0), ('2', 3, 1), ('3', 3, 2), ('-', 3, 3),\n",
    "    ('0', 4, 0), ('C', 4, 1), ('=', 4, 2), ('+', 4, 3),\n",
    "]\"\"\"\n",
    "\n",
    "# column 1\n",
    "\n",
    "btn1 = tk.Button(col, text=\"1\", font=('Arial', 18),padx=15,pady=10, command=lambda t=1: update_expration(t))\n",
    "btn1.grid(row=1, column=0)\n",
    "\n",
    "btn2 = tk.Button(col, text=\"2\", font=('Arial', 18),padx=15,pady=10, command=lambda t=2: update_expration(t))\n",
    "btn2.grid(row=1, column=1)\n",
    "btn3 = tk.Button(col, text=\"3\", font=('Arial', 18),padx=15,pady=10)\n",
    "btn3.grid(row=1, column=2)\n",
    "dvd = tk.Button(col, text=\"=\", font=('Arial', 18),padx=15,pady=10,command=cul)\n",
    "dvd.grid(row=1, column=3)\n",
    "\n",
    "\n",
    "# column 2\n",
    "\n",
    "btn4 = tk.Button(col, text=\"4\", font=('Arial', 18),padx=15,pady=10)\n",
    "btn4.grid(row=2, column=0)\n",
    "\n",
    "btn5 = tk.Button(col, text=\"5\", font=('Arial', 18),padx=15,pady=10)\n",
    "btn5.grid(row=2, column=1)\n",
    "btn6 = tk.Button(col, text=\"6\", font=('Arial', 18),padx=15,pady=10)\n",
    "btn6.grid(row=2, column=2)\n",
    "mul = tk.Button(col, text=\"*\", font=('Arial', 18),padx=15,pady=10)\n",
    "mul.grid(row=2, column=3)\n",
    "\n",
    "\n",
    "col.mainloop()"
   ]
  },
  {
   "cell_type": "code",
   "execution_count": null,
   "id": "8246e808",
   "metadata": {},
   "outputs": [],
   "source": []
  }
 ],
 "metadata": {
  "kernelspec": {
   "display_name": "Python 3 (ipykernel)",
   "language": "python",
   "name": "python3"
  },
  "language_info": {
   "codemirror_mode": {
    "name": "ipython",
    "version": 3
   },
   "file_extension": ".py",
   "mimetype": "text/x-python",
   "name": "python",
   "nbconvert_exporter": "python",
   "pygments_lexer": "ipython3",
   "version": "3.11.3"
  }
 },
 "nbformat": 4,
 "nbformat_minor": 5
}
