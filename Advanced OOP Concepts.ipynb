{
 "cells": [
  {
   "cell_type": "markdown",
   "id": "807197ba",
   "metadata": {},
   "source": [
    "# Advanced OOP Concepts"
   ]
  },
  {
   "cell_type": "markdown",
   "id": "1646ae70",
   "metadata": {},
   "source": [
    "## 1. Multiple Inheritance and Method Resolution Order (MRO)\n",
    "### Explanation:\n",
    "Multiple inheritance occurs when a class is derived from more than one base class. This can lead to complexity, especially when methods with the same name are inherited from multiple base classes. Python uses the C3 linearization algorithm to determine the order in which methods should be resolved. This order is called the Method Resolution Order (MRO).\n",
    "\n",
    "#### Example:"
   ]
  },
  {
   "cell_type": "code",
   "execution_count": 70,
   "id": "802c9d9d",
   "metadata": {},
   "outputs": [
    {
     "name": "stdout",
     "output_type": "stream",
     "text": [
      "A's __init__\n",
      "C's __init__\n",
      "Method from class A\n",
      "Method from class C\n",
      "(<class '__main__.C'>, <class '__main__.A'>, <class '__main__.B'>, <class 'object'>)\n"
     ]
    }
   ],
   "source": [
    "class A:\n",
    "    def __init__(self):\n",
    "        print(\"A's __init__\")\n",
    "    \n",
    "    def m(self):\n",
    "        print(\"Method from class A\")\n",
    "\n",
    "class B:\n",
    "    def __init__(self):\n",
    "        print(\"B's __init__\")\n",
    "    \n",
    "    def m(self):\n",
    "        print(\"Method from class B\")\n",
    "\n",
    "class C(A,B):\n",
    "    def __init__(self):\n",
    "        super().__init__()\n",
    "        print(\"C's __init__\")\n",
    "    \n",
    "    def m(self):\n",
    "        super().m()\n",
    "        print(\"Method from class C\")\n",
    "\n",
    "c = C()\n",
    "c.m()\n",
    "\n",
    "\n",
    "print(C.__mro__)"
   ]
  },
  {
   "cell_type": "code",
   "execution_count": null,
   "id": "fa749cd3",
   "metadata": {},
   "outputs": [],
   "source": [
    "class Person:\n",
    "    def __init__(self, name, cnic):\n",
    "        self.name = name\n",
    "        self.cnic = cnic\n",
    "    def details(self):\n",
    "        return f\"Name: {self.name}, CNIC: {self.cnic},\"\n",
    "\n",
    "class Student(Person):\n",
    "    def __init__(self, name, cnic, ID):\n",
    "        super().__init__(name, cnic)  # Initialize the parent class attributes\n",
    "        self.ID = ID\n",
    "\n",
    "    def details(self):\n",
    "        parent_detials = super().details()\n",
    "        return f\" {parent_detials}ID: {self.ID}\"\n",
    "\n",
    "class Job(Student):\n",
    "    def __init__(self, name, cnic, ID, time):\n",
    "        super().__init__(name, cnic, ID)  # Initialize the parent class attributes\n",
    "        self.time = time\n",
    "    \n",
    "    def details(self):\n",
    "        parent_details = super().details()  # Get details from the parent class\n",
    "        return f\"{parent_details}, Job Type: {self.time}\"\n",
    "\n",
    "j1 = Job(\"Ahmad\", 123444, 263773, \"Part time\")\n",
    "print(j1.details())\n"
   ]
  },
  {
   "cell_type": "markdown",
   "id": "485172d8",
   "metadata": {},
   "source": [
    "### Explanation of Output:\n",
    "C's constructor calls super().__init__(),<br> which follows the MRO to call A's constructor first.<br>\n",
    "The MRO (C -> A -> B -> object) ensures a consistent and predictable order of method calls."
   ]
  },
  {
   "cell_type": "markdown",
   "id": "b26aed23",
   "metadata": {},
   "source": [
    "# 2. Polymorphism: More Complex Examples\n",
    "## Explanation:\n",
    "Polymorphism allows objects of different classes to be treated as objects of a common superclass. It's often used with inheritance, where a subclass can define a specific implementation of a method that is already defined in its superclass.\n",
    "\n",
    "#### Example:"
   ]
  },
  {
   "cell_type": "code",
   "execution_count": 71,
   "id": "e9fd9a39",
   "metadata": {},
   "outputs": [
    {
     "name": "stdout",
     "output_type": "stream",
     "text": [
      "b\n",
      "Meow!\n",
      "Tweet!\n",
      "b\n"
     ]
    }
   ],
   "source": [
    "class Animal:\n",
    "    def speak(self):\n",
    "        raise NotImplementedError(\"Subclass must implement abstract method\")\n",
    "\n",
    "class Dog(Animal):\n",
    "    def speak(self):\n",
    "        return \"b\"\n",
    "\n",
    "class Cat(Animal):\n",
    "    def speak(self):\n",
    "        return \"Meow!\"\n",
    "\n",
    "class Bird(Animal):\n",
    "    def speak(self):\n",
    "        return \"Tweet!\"\n",
    "\n",
    "def animal_sound(animals):\n",
    "    for animal in animals:\n",
    "        print(animal.speak())\n",
    "\n",
    "Animal = [Dog(), Cat(), Bird()]\n",
    "animal_sound(Animal)\n",
    "d1 = Dog()\n",
    "print(d1.speak())\n"
   ]
  },
  {
   "cell_type": "markdown",
   "id": "104b5cbb",
   "metadata": {},
   "source": [
    "## Explanation of Output:\n",
    "Each subclass (Dog, Cat, Bird) implements the speak method differently.<br>\n",
    "The animal_sound function calls speak on each Animal object without knowing its exact type, <br>demonstrating polymorphism"
   ]
  },
  {
   "cell_type": "markdown",
   "id": "0b2c3685",
   "metadata": {},
   "source": [
    "# 3. Abstract Classes and Interfaces: Using the abc Module\n",
    "## Explanation:\n",
    "Abstract Base Classes (ABCs) are classes that cannot be instantiated and are designed to be subclasses. They are used to define a common API for a group of subclasses. The abc module in Python provides the infrastructure for defining abstract base classes.\n",
    "\n",
    "#### Example:"
   ]
  },
  {
   "cell_type": "code",
   "execution_count": 72,
   "id": "3adb2c6c",
   "metadata": {},
   "outputs": [
    {
     "name": "stdout",
     "output_type": "stream",
     "text": [
      "Rectangle area: 200, perimeter: 60\n",
      "Circle area: 706.5, perimeter: 94.2\n"
     ]
    }
   ],
   "source": [
    "from abc import ABC, abstractmethod\n",
    "# include <iostearm.h> \n",
    "\n",
    "class Shape(ABC):\n",
    "    @abstractmethod\n",
    "    def area(self):\n",
    "        pass\n",
    "    \n",
    "    @abstractmethod\n",
    "    def perimeter(self):\n",
    "        pass\n",
    "\n",
    "class Rectangle(Shape):\n",
    "    def __init__(self, width, height):\n",
    "        self.width = width\n",
    "        self.height = height\n",
    "    \n",
    "    def area(self):\n",
    "        return self.width * self.height\n",
    "    \n",
    "    def perimeter(self):\n",
    "        return 2 * (self.width + self.height)\n",
    "\n",
    "class Circle(Shape):\n",
    "    def __init__(self, radius):\n",
    "        self.radius = radius\n",
    "    \n",
    "    def area(self):\n",
    "        return 3.14 * self.radius ** 2\n",
    "    \n",
    "    def perimeter(self):\n",
    "        return 2 * 3.14 * self.radius\n",
    "\n",
    "# shape = Shape() # This will raise an error because Shape is abstract\n",
    "rectangle = Rectangle(10, 20)\n",
    "circle = Circle(15)\n",
    "\n",
    "print(f\"Rectangle area: {rectangle.area()}, perimeter: {rectangle.perimeter()}\")\n",
    "print(f\"Circle area: {circle.area()}, perimeter: {circle.perimeter()}\")\n"
   ]
  },
  {
   "cell_type": "code",
   "execution_count": 87,
   "id": "d83d2546",
   "metadata": {},
   "outputs": [
    {
     "name": "stdout",
     "output_type": "stream",
     "text": [
      "khan\n"
     ]
    }
   ],
   "source": [
    "class Parson(ABC):\n",
    "    @abstractmethod\n",
    "    def DOB(self):\n",
    "        pass\n",
    "    @abstractmethod\n",
    "    def cast(self):\n",
    "        pass\n",
    "    \n",
    "class Student(Parson):\n",
    "    def __init__(self,ID,name):\n",
    "        pass\n",
    "    def DOB(self,dob):\n",
    "        self.dob = dob\n",
    "        return dob\n",
    "    def cast(self,ct):\n",
    "        self.ct = ct  \n",
    "        return ct\n",
    "s = Student(12,\"Ahmad\")\n",
    "        \n",
    "print(s.cast(\"khan\"))\n"
   ]
  },
  {
   "cell_type": "markdown",
   "id": "c3ac7aa1",
   "metadata": {},
   "source": [
    "## What is `@abstractmethod?`\n",
    "### Definition:\n",
    "`@abstractmethod` is a decorator provided by the abc module (Abstract Base Classes) in Python.\n",
    "### Purpose: \n",
    "It is used to define methods that must be implemented by any subclass of the abstract class. If a subclass does not implement all abstract methods, it cannot be instantiated.\n",
    "### Why Use `@abstractmethod?`\n",
    "Enforce a Contract: It ensures that all subclasses implement certain methods, providing a consistent interface.\n",
    "### Prevent Instantiation:\n",
    "It prevents the creation of objects from the abstract class directly, which would not make sense as it is only meant to serve as a template.\n",
    "### Design Clarity:\n",
    "It makes the design of your program clearer by explicitly stating which methods must be provided by subclasses."
   ]
  },
  {
   "cell_type": "markdown",
   "id": "b0052187",
   "metadata": {},
   "source": [
    "## Explanation of Output:\n",
    "Shape is an abstract base class with abstract methods area and perimeter.<br>\n",
    "Rectangle and Circle are concrete subclasses that implement the abstract methods.<br>\n",
    "Attempting to instantiate Shape directly would raise an error since it contains abstract methods."
   ]
  },
  {
   "cell_type": "markdown",
   "id": "f2ab372b",
   "metadata": {},
   "source": [
    "## Importance of Method Resolution Order (MRO)\n",
    "Consistent Method Calling Order\n",
    "### Definition:\n",
    "MRO determines the order in which base classes are searched when executing a method. This is <br>particularly important in multiple inheritance where the same method might be inherited from multiple base classes.\n",
    "### Algorithm: \n",
    "Python uses the C3 linearization algorithm to compute the MRO. The algorithm ensures that subclasses <br>are always checked before superclasses and that the order respects the inheritance hierarchy.\n",
    "#### Example Explanation:"
   ]
  },
  {
   "cell_type": "code",
   "execution_count": null,
   "id": "8cce4235",
   "metadata": {},
   "outputs": [],
   "source": [
    "class A:\n",
    "    def show(self):\n",
    "        print(\"A's show method\")\n",
    "\n",
    "class B(A):\n",
    "    def show(self):\n",
    "        print(\"B's show method\")\n",
    "\n",
    "class C(A):\n",
    "    def show(self):\n",
    "        print(\"C's show method\")\n",
    "\n",
    "class D(B, C):\n",
    "    pass\n",
    "\n",
    "d = D()\n",
    "d.show()\n",
    "\n",
    "# Checking MRO\n",
    "print(D.__mro__)\n"
   ]
  },
  {
   "cell_type": "markdown",
   "id": "e8507295",
   "metadata": {},
   "source": [
    "### Explanation:\n",
    "The MRO is D -> B -> C -> A -> object. When d.show() is called, Python follows this order and finds <br>show in B before C or A.<br>\n",
    "This consistent order prevents ambiguity and ensures predictable behavior in complex inheritance <br>hierarchies."
   ]
  },
  {
   "cell_type": "markdown",
   "id": "08f5bd7b",
   "metadata": {},
   "source": [
    "# Flexibility and Reuse Provided by Polymorphism\n",
    "### Definition and Importance:\n",
    "### Polymorphism:\n",
    "The ability of different classes to be treated as instances of the same class through a common <br>interface. This allows for flexibility and code reuse.\n",
    "### Benefits:\n",
    "#### Flexibility: \n",
    "Code can work with objects of different types at runtime.\n",
    "#### Reuse: \n",
    "Functions and methods can be written to operate on objects of the superclass type, making them <br>reusable across different subclasses.\n",
    "##### Example Explanation:"
   ]
  },
  {
   "cell_type": "code",
   "execution_count": null,
   "id": "c1c3b6ff",
   "metadata": {},
   "outputs": [],
   "source": [
    "class Animal:\n",
    "    def speak(self):\n",
    "        raise NotImplementedError(\"Subclass must implement abstract method\")\n",
    "\n",
    "class Dog(Animal):\n",
    "    def speak(self):\n",
    "        return \"Woof!\"\n",
    "\n",
    "class Cat(Animal):\n",
    "    def speak(self):\n",
    "        return \"Meow!\"\n",
    "\n",
    "class Bird(Animal):\n",
    "    def speak(self):\n",
    "        return \"Tweet!\"\n",
    "\n",
    "def animal_sound(animals):\n",
    "    for animal in animals:\n",
    "        print(animal.speak())\n",
    "\n",
    "animals = [Dog(), Cat(), Bird()]\n",
    "animal_sound(animals)\n"
   ]
  },
  {
   "cell_type": "markdown",
   "id": "2ace7581",
   "metadata": {},
   "source": [
    "#### Explanation:\n",
    "The animal_sound function treats all objects as Animal objects and calls the speak method on each one.<br>\n",
    "Each subclass (Dog, Cat, Bird) provides its own implementation of speak, demonstrating polymorphism."
   ]
  },
  {
   "cell_type": "markdown",
   "id": "aac931c9",
   "metadata": {},
   "source": [
    "# Abstract Classes Enforce a Contract for Subclasses\n",
    "## Definition and Importance:\n",
    "### Abstract Classes:\n",
    "Classes that cannot be instantiated and are meant to be subclassed. They define methods that must be <br>created in any subclass.\n",
    "### Enforcement:\n",
    "By defining abstract methods, abstract classes enforce a contract ensuring that subclasses implement <br>these methods. This promotes consistency and reliability in the code.\n",
    "#### Example Explanation:"
   ]
  },
  {
   "cell_type": "code",
   "execution_count": null,
   "id": "109d8ea3",
   "metadata": {},
   "outputs": [],
   "source": [
    "from abc import ABC, abstractmethod\n",
    "\n",
    "class Shape(ABC):\n",
    "    @abstractmethod\n",
    "    def area(self):\n",
    "        pass\n",
    "    \n",
    "    @abstractmethod\n",
    "    def perimeter(self):\n",
    "        pass\n",
    "\n",
    "class Rectangle(Shape):\n",
    "    def __init__(self, width, height):\n",
    "        self.width = width\n",
    "        self.height = height\n",
    "    \n",
    "    def area(self):\n",
    "        return self.width * self.height\n",
    "    \n",
    "    def perimeter(self):\n",
    "        return 2 * (self.width + self.height)\n",
    "\n",
    "class Circle(Shape):\n",
    "    def __init__(self, radius):\n",
    "        self.radius = radius\n",
    "    \n",
    "    def area(self):\n",
    "        return 3.14 * self.radius ** 2\n",
    "    \n",
    "    def perimeter(self):\n",
    "        return 2 * 3.14 * self.radius\n",
    "\n",
    "# shape = Shape() # This will raise an error because Shape is abstract\n",
    "rectangle = Rectangle(10, 20)\n",
    "circle = Circle(15)\n",
    "\n",
    "print(f\"Rectangle area: {rectangle.area()}, perimeter: {rectangle.perimeter()}\")\n",
    "print(f\"Circle area: {circle.area()}, perimeter: {circle.perimeter()}\")\n",
    "\n"
   ]
  },
  {
   "cell_type": "markdown",
   "id": "a4288cbe",
   "metadata": {},
   "source": [
    "### Explanation:\n",
    "The Shape class defines the abstract methods area and perimeter.\n",
    "Rectangle and Circle are concrete subclasses that implement these methods.\n",
    "Attempting to instantiate Shape directly would raise an error because it contains abstract methods.\n",
    "This ensures that any subclass of Shape will provide concrete implementations of area and perimeter."
   ]
  },
  {
   "cell_type": "code",
   "execution_count": 2,
   "id": "fffcaa79",
   "metadata": {},
   "outputs": [
    {
     "ename": "SyntaxError",
     "evalue": "invalid syntax (3519743313.py, line 2)",
     "output_type": "error",
     "traceback": [
      "\u001b[1;36m  Cell \u001b[1;32mIn[2], line 2\u001b[1;36m\u001b[0m\n\u001b[1;33m    std12 {\"name\": \"zaryab\", \"ID\": 12456}\u001b[0m\n\u001b[1;37m          ^\u001b[0m\n\u001b[1;31mSyntaxError\u001b[0m\u001b[1;31m:\u001b[0m invalid syntax\n"
     ]
    }
   ],
   "source": [
    "std1 = {\"name\": \"zaryab\", \"ID\": 12456, \"marks\": [12,23,4,5,56,6]}\n",
    "    \n",
    "    \n",
    "\n",
    "std3 = {\"name\": \"zaryab\", \"ID\": 3453334}"
   ]
  },
  {
   "cell_type": "code",
   "execution_count": 55,
   "id": "40c65eef",
   "metadata": {},
   "outputs": [
    {
     "name": "stdout",
     "output_type": "stream",
     "text": [
      "Enter the subject number: 2\n",
      "enter the the subject 0 marks30\n",
      "enter the the subject 1 marks11\n"
     ]
    },
    {
     "data": {
      "text/plain": [
       "41"
      ]
     },
     "execution_count": 55,
     "metadata": {},
     "output_type": "execute_result"
    }
   ],
   "source": [
    "class Student:\n",
    "    name = \"\"\n",
    "    rollno = 123\n",
    "    marks = []\n",
    "  \n",
    "    def __init__(self, name , rollno):\n",
    "        \n",
    "         self.name = name \n",
    "         self.rollno = rollno\n",
    "    def add_detials(self, n , r):\n",
    "        name = n\n",
    "        rollno = r\n",
    "        \n",
    "    def update_detials(self):\n",
    "        name = input(\"Enter the student name:  \")\n",
    "        rollno = int(input(\"Enter student rollno\"))\n",
    "    def add_marks(self):\n",
    "    \n",
    "        num_sub = int(input(\"Enter the subject number: \"))\n",
    "        for i in range(num_sub):\n",
    "            sub_marks = int(input(f\"enter the the subject {i} marks\"))\n",
    "            self.marks.append(sub_marks)\n",
    "    def total_marks(self,marks):\n",
    "        self.sum_of_std_marks= sum(self.marks)\n",
    "            \n",
    "    \n",
    "\n",
    "s = Student(\"zia khan\", 123)\n",
    "s.add_marks()\n",
    "\n",
    "s.total_marks(s.marks)\n",
    "\n",
    "s.sum_of_std_marks"
   ]
  },
  {
   "cell_type": "code",
   "execution_count": 51,
   "id": "7599e4fd",
   "metadata": {},
   "outputs": [
    {
     "data": {
      "text/plain": [
       "[20, 9]"
      ]
     },
     "execution_count": 51,
     "metadata": {},
     "output_type": "execute_result"
    }
   ],
   "source": [
    "s.marks"
   ]
  },
  {
   "cell_type": "code",
   "execution_count": 52,
   "id": "6c910313",
   "metadata": {},
   "outputs": [
    {
     "data": {
      "text/plain": [
       "29"
      ]
     },
     "execution_count": 52,
     "metadata": {},
     "output_type": "execute_result"
    }
   ],
   "source": [
    "s.sum_of_std_marks"
   ]
  },
  {
   "cell_type": "code",
   "execution_count": 139,
   "id": "aa8422c5",
   "metadata": {},
   "outputs": [],
   "source": [
    "class ATM:\n",
    "    \n",
    "   \n",
    "    def __init__(self, name , pin, balance):\n",
    "        self.name = name \n",
    "        self.pin = pin\n",
    "        self.balance = balance\n",
    "    def menu(self):\n",
    "        print(\"\"\"\n",
    "        ********* MUNE *********\n",
    "        You can create account \n",
    "        you can add balance \n",
    "        you can withdraw\n",
    "        you can update the pin\n",
    "        \n",
    "        you will have to enter with everything the pin \n",
    "        \n",
    "        \n",
    "        \"\"\")\n",
    "    def add_balance(self):\n",
    "        pin = int(input(\"Enter your pin: \"))\n",
    "        blc = int(input(\"enter the balance you want to enter:  \"))\n",
    "        if self.pin == pin:\n",
    "        \n",
    "            self.balance += blc\n",
    "            return f\"You new balnce is {self.balance}\"\n",
    "            \n",
    "        else:\n",
    "             return \"You have enter the wrong pin you will remain same try to enter correct pin\"\n",
    "    \n",
    "    def withdraw(self):\n",
    "        pin = int(input(\"Enter your pin: \"))\n",
    "        blc = int(input(\"enter the balance you want to enter:  \"))\n",
    "        if self.pin == pin:\n",
    "            self.balance-= blc\n",
    "            return f\"You new balnce is {self.balance}\"\n",
    "        else:\n",
    "             return \"You have enter the wrong pin you will remain same try to enter correct pin\"\n",
    "        \n",
    "    def update_pin(self):\n",
    "        \n",
    "        old_pin = input(\"Enter your old pin:  \")\n",
    "        new_pin = input(\"Enter your new pin:  \")\n",
    "        if old_pin == self.pin:\n",
    "            self.pin = new_pin\n",
    "        \n",
    "        \n"
   ]
  },
  {
   "cell_type": "code",
   "execution_count": 140,
   "id": "3d39e4cf",
   "metadata": {},
   "outputs": [
    {
     "name": "stdout",
     "output_type": "stream",
     "text": [
      "\n",
      "        ********* MUNE *********\n",
      "        You can create account \n",
      "        you can add balance \n",
      "        you can withdraw\n",
      "        you can update the pin\n",
      "        \n",
      "        you will have to enter with everything the pin \n",
      "        \n",
      "        \n",
      "        \n"
     ]
    }
   ],
   "source": [
    "user1 = ATM(\"Irum\", 2233, 0)\n",
    "user1.menu()"
   ]
  },
  {
   "cell_type": "code",
   "execution_count": 141,
   "id": "22f79258",
   "metadata": {},
   "outputs": [
    {
     "name": "stdout",
     "output_type": "stream",
     "text": [
      "Enter your old pin:  2233\n",
      "Enter your new pin:  3344\n"
     ]
    }
   ],
   "source": [
    "user1.update_pin(\n",
    ")"
   ]
  },
  {
   "cell_type": "code",
   "execution_count": 142,
   "id": "e733acca",
   "metadata": {},
   "outputs": [
    {
     "name": "stdout",
     "output_type": "stream",
     "text": [
      "Enter your pin: 3344\n",
      "enter the balance you want to enter:  20\n"
     ]
    },
    {
     "data": {
      "text/plain": [
       "'You have enter the wrong pin you will remain same try to enter correct pin'"
      ]
     },
     "execution_count": 142,
     "metadata": {},
     "output_type": "execute_result"
    }
   ],
   "source": [
    "user1.withdraw(\n",
    ")"
   ]
  },
  {
   "cell_type": "code",
   "execution_count": 134,
   "id": "443c35a5",
   "metadata": {},
   "outputs": [
    {
     "name": "stdout",
     "output_type": "stream",
     "text": [
      "Enter your pin: 2233\n",
      "enter the balance you want to enter:  5\n"
     ]
    },
    {
     "data": {
      "text/plain": [
       "'You new balnce is 95'"
      ]
     },
     "execution_count": 134,
     "metadata": {},
     "output_type": "execute_result"
    }
   ],
   "source": [
    "user1.withdraw()"
   ]
  },
  {
   "cell_type": "code",
   "execution_count": null,
   "id": "34ae2cf2",
   "metadata": {},
   "outputs": [],
   "source": []
  }
 ],
 "metadata": {
  "kernelspec": {
   "display_name": "Python 3 (ipykernel)",
   "language": "python",
   "name": "python3"
  },
  "language_info": {
   "codemirror_mode": {
    "name": "ipython",
    "version": 3
   },
   "file_extension": ".py",
   "mimetype": "text/x-python",
   "name": "python",
   "nbconvert_exporter": "python",
   "pygments_lexer": "ipython3",
   "version": "3.11.3"
  }
 },
 "nbformat": 4,
 "nbformat_minor": 5
}
