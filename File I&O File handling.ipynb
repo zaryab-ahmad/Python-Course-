{
 "cells": [
  {
   "cell_type": "markdown",
   "id": "6c1ffc58",
   "metadata": {},
   "source": [
    "# Introduction to File Handling\n",
    "## Definition:\n",
    "File handling in Python allows you to work with files on your computer.<br> It involves reading data from files, writing data to files, and managing file access.\n",
    "\n",
    "## Why it's Important:\n",
    "\n",
    "Many applications require reading from or writing to files (e.g., saving user data,<br> reading configuration settings, logging).<br>\n",
    "Understanding file handling is essential for data processing and storage.\n"
   ]
  },
  {
   "cell_type": "markdown",
   "id": "9e20c4f4",
   "metadata": {},
   "source": [
    "## File Handling Basics\n",
    "### File Modes:\n",
    "\n",
    "'r': Read (default mode). Opens the file for reading. If the file does not exist, it raises an error.<br>\n",
    "'w': Write. Opens the file for writing. If the file does not exist, it creates a new file.<br> If the file exists, it truncates the file.<br>\n",
    "'a': Append. Opens the file for appending. If the file does not exist, <br>it creates a new file.\n",
    "'b': Binary mode. Used with other modes for binary files.<br>\n",
    "'t': Text mode (default mode). Used with other modes for text files.\n",
    "## Opening a File:"
   ]
  },
  {
   "cell_type": "code",
   "execution_count": 5,
   "id": "09db0b2f",
   "metadata": {},
   "outputs": [
    {
     "ename": "FileNotFoundError",
     "evalue": "[Errno 2] No such file or directory: 'ab.txt'",
     "output_type": "error",
     "traceback": [
      "\u001b[1;31m---------------------------------------------------------------------------\u001b[0m",
      "\u001b[1;31mFileNotFoundError\u001b[0m                         Traceback (most recent call last)",
      "Cell \u001b[1;32mIn[5], line 2\u001b[0m\n\u001b[0;32m      1\u001b[0m file \u001b[38;5;241m=\u001b[39m \u001b[38;5;28mopen\u001b[39m(\u001b[38;5;124m'\u001b[39m\u001b[38;5;124mabc.txt\u001b[39m\u001b[38;5;124m'\u001b[39m, \u001b[38;5;124m'\u001b[39m\u001b[38;5;124mr\u001b[39m\u001b[38;5;124m'\u001b[39m)\n\u001b[1;32m----> 2\u001b[0m file2 \u001b[38;5;241m=\u001b[39m \u001b[38;5;28mopen\u001b[39m(\u001b[38;5;124m\"\u001b[39m\u001b[38;5;124mab.txt\u001b[39m\u001b[38;5;124m\"\u001b[39m, \u001b[38;5;124m'\u001b[39m\u001b[38;5;124mr\u001b[39m\u001b[38;5;124m'\u001b[39m)\n",
      "File \u001b[1;32m~\\anaconda3\\Lib\\site-packages\\IPython\\core\\interactiveshell.py:284\u001b[0m, in \u001b[0;36m_modified_open\u001b[1;34m(file, *args, **kwargs)\u001b[0m\n\u001b[0;32m    277\u001b[0m \u001b[38;5;28;01mif\u001b[39;00m file \u001b[38;5;129;01min\u001b[39;00m {\u001b[38;5;241m0\u001b[39m, \u001b[38;5;241m1\u001b[39m, \u001b[38;5;241m2\u001b[39m}:\n\u001b[0;32m    278\u001b[0m     \u001b[38;5;28;01mraise\u001b[39;00m \u001b[38;5;167;01mValueError\u001b[39;00m(\n\u001b[0;32m    279\u001b[0m         \u001b[38;5;124mf\u001b[39m\u001b[38;5;124m\"\u001b[39m\u001b[38;5;124mIPython won\u001b[39m\u001b[38;5;124m'\u001b[39m\u001b[38;5;124mt let you open fd=\u001b[39m\u001b[38;5;132;01m{\u001b[39;00mfile\u001b[38;5;132;01m}\u001b[39;00m\u001b[38;5;124m by default \u001b[39m\u001b[38;5;124m\"\u001b[39m\n\u001b[0;32m    280\u001b[0m         \u001b[38;5;124m\"\u001b[39m\u001b[38;5;124mas it is likely to crash IPython. If you know what you are doing, \u001b[39m\u001b[38;5;124m\"\u001b[39m\n\u001b[0;32m    281\u001b[0m         \u001b[38;5;124m\"\u001b[39m\u001b[38;5;124myou can use builtins\u001b[39m\u001b[38;5;124m'\u001b[39m\u001b[38;5;124m open.\u001b[39m\u001b[38;5;124m\"\u001b[39m\n\u001b[0;32m    282\u001b[0m     )\n\u001b[1;32m--> 284\u001b[0m \u001b[38;5;28;01mreturn\u001b[39;00m io_open(file, \u001b[38;5;241m*\u001b[39margs, \u001b[38;5;241m*\u001b[39m\u001b[38;5;241m*\u001b[39mkwargs)\n",
      "\u001b[1;31mFileNotFoundError\u001b[0m: [Errno 2] No such file or directory: 'ab.txt'"
     ]
    }
   ],
   "source": [
    "file = open('abc.txt', 'r')\n",
    "file2 = open(\"ab.txt\", 'r')"
   ]
  },
  {
   "cell_type": "markdown",
   "id": "7c6ce7ba",
   "metadata": {},
   "source": [
    "### Closing a File:\n",
    "Always close the file after completing your operations to free up system resources."
   ]
  },
  {
   "cell_type": "code",
   "execution_count": 3,
   "id": "f53bf20b",
   "metadata": {},
   "outputs": [],
   "source": [
    "file.close()"
   ]
  },
  {
   "cell_type": "markdown",
   "id": "d6c3e4dc",
   "metadata": {},
   "source": [
    "### Writing to a File\n",
    "#### Example:\n",
    "Writing to a file using 'w' mode:"
   ]
  },
  {
   "cell_type": "code",
   "execution_count": 7,
   "id": "27b228cf",
   "metadata": {},
   "outputs": [],
   "source": [
    "file = open('example.txt', 'w')\n",
    "\n",
    "# Write data to the file\n",
    "file.write('Hello, World!\\n')\n",
    "file.write('This is a file handling example.')\n",
    "\n",
    "# Close the file\n",
    "file.close()"
   ]
  },
  {
   "cell_type": "code",
   "execution_count": 18,
   "id": "ac33af91",
   "metadata": {},
   "outputs": [
    {
     "name": "stdout",
     "output_type": "stream",
     "text": [
      "Hello world\n"
     ]
    }
   ],
   "source": [
    "file = open(\"example3.txt\", 'r')\n",
    "print(file.read())\n",
    "file.close()"
   ]
  },
  {
   "cell_type": "markdown",
   "id": "085f2e78",
   "metadata": {},
   "source": [
    "## Explanation:\n",
    "\n",
    "### open('example.txt', 'w'): \n",
    "Opens example.txt for writing. Creates the file if it does not exist.\n",
    "### file.write('Hello, World!\\n'):\n",
    "Writes the string Hello, World! followed by a newline character to the file.\n",
    "### file.write('This is a file handling example.'): \n",
    "Writes another string to the file.\n",
    "### file.close():\n",
    "Closes the file.\n",
    "#### Using the 'with' statement:\n",
    "The with statement is used for file handling to ensure the file is properly closed after its suite finishes,<br> even if an exception is raised."
   ]
  },
  {
   "cell_type": "code",
   "execution_count": 31,
   "id": "5223eb40",
   "metadata": {},
   "outputs": [],
   "source": [
    "with open('example4.txt', 'w')  as file:\n",
    "    file.write('Hello, World!\\n')\n",
    "    file.write('This is a file handling example.')"
   ]
  },
  {
   "cell_type": "code",
   "execution_count": 32,
   "id": "df27465d",
   "metadata": {},
   "outputs": [
    {
     "name": "stdout",
     "output_type": "stream",
     "text": [
      "Hello, World!\n",
      "This is a file handling example.\n"
     ]
    }
   ],
   "source": [
    "with open('example4.txt','r') as f:\n",
    "    print(f.read())"
   ]
  },
  {
   "cell_type": "code",
   "execution_count": 28,
   "id": "fb37e579",
   "metadata": {},
   "outputs": [],
   "source": [
    "with open('example4.txt', 'w') as file:\n",
    "    file.write('abc\\n')\n",
    "    file.write('This is a file handling example.')"
   ]
  },
  {
   "cell_type": "code",
   "execution_count": 29,
   "id": "2741aab1",
   "metadata": {},
   "outputs": [
    {
     "name": "stdout",
     "output_type": "stream",
     "text": [
      "abc\n",
      "This is a file handling example.\n"
     ]
    }
   ],
   "source": [
    "with open('example4.txt','r') as f:\n",
    "    print(f.read())"
   ]
  },
  {
   "cell_type": "markdown",
   "id": "b79165ac",
   "metadata": {},
   "source": [
    "## Reading from a File\n",
    "#### Example:\n",
    "Reading the entire content of a file:"
   ]
  },
  {
   "cell_type": "code",
   "execution_count": 49,
   "id": "96a6adb9",
   "metadata": {},
   "outputs": [
    {
     "name": "stdout",
     "output_type": "stream",
     "text": [
      "enter your nameZia\n",
      "Zia 22 peshawar\n"
     ]
    }
   ],
   "source": [
    "name = input(\"enter your name\")\n",
    "age = 22\n",
    "address= 'peshawar'\n",
    "print(name, age , address)\n",
    "\n",
    "with open(\"example2.txt\", 'a') as file:\n",
    "    file.write(f\"\\nThe name is {name} his age is {age} and address is {address}\")\n"
   ]
  },
  {
   "cell_type": "code",
   "execution_count": 50,
   "id": "b6769d02",
   "metadata": {},
   "outputs": [
    {
     "name": "stdout",
     "output_type": "stream",
     "text": [
      "The name is ahmad his age is 22 and address is peshawarThe name is ahmad his age is 22 and address is peshawar\n",
      "The name is Zia his age is 22 and address is peshawar\n"
     ]
    }
   ],
   "source": [
    "with open(\"example2.txt\", 'r') as file:\n",
    "    print(file.read())"
   ]
  },
  {
   "cell_type": "markdown",
   "id": "d80d8602",
   "metadata": {},
   "source": [
    "## Reading Line by Line:"
   ]
  },
  {
   "cell_type": "code",
   "execution_count": 8,
   "id": "226d089d",
   "metadata": {},
   "outputs": [
    {
     "name": "stdout",
     "output_type": "stream",
     "text": [
      "Hello, World!\n",
      "This is a file handling example.\n"
     ]
    }
   ],
   "source": [
    "with open('example.txt', 'r') as file:\n",
    "    for line in file:\n",
    "        print(line.strip())"
   ]
  },
  {
   "cell_type": "markdown",
   "id": "708da815",
   "metadata": {},
   "source": [
    "## Appending to a File\n",
    "#### Example:\n",
    "Appending data to a file using 'a' mode:"
   ]
  },
  {
   "cell_type": "code",
   "execution_count": 33,
   "id": "8f8ab1ef",
   "metadata": {},
   "outputs": [],
   "source": [
    "with open('example4.txt', 'a') as file:\n",
    "    file.write('\\nAppending a new line.')"
   ]
  },
  {
   "cell_type": "code",
   "execution_count": 42,
   "id": "a7ca0b3f",
   "metadata": {},
   "outputs": [],
   "source": [
    "with open('example4.txt', 'a') as file:\n",
    "    file.write('\\nApeend mode')"
   ]
  },
  {
   "cell_type": "code",
   "execution_count": 43,
   "id": "6a709ec5",
   "metadata": {},
   "outputs": [
    {
     "name": "stdout",
     "output_type": "stream",
     "text": [
      "Hello, World!\n",
      "This is a file handling example.\n",
      "Appending a new line.Apeend mode\n",
      "Apeend mode\n"
     ]
    }
   ],
   "source": [
    "with open('example4.txt', 'r') as file:\n",
    "    content = file.read()\n",
    "    \n",
    "print(content)"
   ]
  },
  {
   "cell_type": "code",
   "execution_count": 38,
   "id": "383ed5b1",
   "metadata": {},
   "outputs": [],
   "source": [
    "with open(\"example3.txt\" , 'w') as file:\n",
    "    file.write(\"1234\")"
   ]
  },
  {
   "cell_type": "markdown",
   "id": "6ca429c0",
   "metadata": {},
   "source": [
    "## Conclusion\n",
    "### Recap:\n",
    "\n",
    "Open files using different modes ('r', 'w', 'a', 'b').<br><br>\n",
    "Write to and read from text files.<br><br>\n",
    "Append data to existing files."
   ]
  },
  {
   "cell_type": "code",
   "execution_count": 39,
   "id": "a07179cc",
   "metadata": {},
   "outputs": [
    {
     "name": "stdout",
     "output_type": "stream",
     "text": [
      "1234\n"
     ]
    }
   ],
   "source": [
    "with open(\"example3.txt\" , 'r') as file:\n",
    "    print(file.read())"
   ]
  },
  {
   "cell_type": "markdown",
   "id": "64900819",
   "metadata": {},
   "source": [
    "## Task:\n",
    "Create a Python program that logs user input to a text file. Each time the program runs,<br> it should append the new input to the existing log file."
   ]
  },
  {
   "cell_type": "code",
   "execution_count": null,
   "id": "7180835f",
   "metadata": {},
   "outputs": [],
   "source": []
  }
 ],
 "metadata": {
  "kernelspec": {
   "display_name": "Python 3 (ipykernel)",
   "language": "python",
   "name": "python3"
  },
  "language_info": {
   "codemirror_mode": {
    "name": "ipython",
    "version": 3
   },
   "file_extension": ".py",
   "mimetype": "text/x-python",
   "name": "python",
   "nbconvert_exporter": "python",
   "pygments_lexer": "ipython3",
   "version": "3.11.3"
  }
 },
 "nbformat": 4,
 "nbformat_minor": 5
}
