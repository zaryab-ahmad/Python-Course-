{
 "cells": [
  {
   "cell_type": "markdown",
   "id": "d1b3cfae",
   "metadata": {},
   "source": [
    "# Advanced Data Structures in Python"
   ]
  },
  {
   "cell_type": "markdown",
   "id": "5aaf7770",
   "metadata": {},
   "source": [
    "## Nested Lists\n",
    "### Introduction to Nested Lists\n",
    "### Definition and Use Cases:\n",
    "Nested lists are lists within lists. They are useful for representing complex data structures like matrices, <br>tables, or any hierarchical data.\n",
    "\n",
    "#### Creating Nested Lists:\n",
    "You can create a nested list by placing lists within a list."
   ]
  },
  {
   "cell_type": "code",
   "execution_count": 1,
   "id": "0280d7be",
   "metadata": {},
   "outputs": [
    {
     "data": {
      "text/plain": [
       "[[1, 2, 3], [4, 5, 6], [7, 8, 9]]"
      ]
     },
     "execution_count": 1,
     "metadata": {},
     "output_type": "execute_result"
    }
   ],
   "source": [
    "nested_list = [[1, 2, 3], [4, 5, 6], [7, 8, 9]]\n",
    "nested_list"
   ]
  },
  {
   "cell_type": "code",
   "execution_count": 22,
   "id": "e04677fa",
   "metadata": {},
   "outputs": [
    {
     "data": {
      "text/plain": [
       "[[1], [2], [3]]"
      ]
     },
     "execution_count": 22,
     "metadata": {},
     "output_type": "execute_result"
    }
   ],
   "source": [
    "l1 = [[1],[2],[3]]\n",
    "l1\n"
   ]
  },
  {
   "cell_type": "markdown",
   "id": "4ba90e11",
   "metadata": {},
   "source": [
    "### Accessing Elements\n",
    "### Single Level Access:\n",
    "Access elements of the outer list."
   ]
  },
  {
   "cell_type": "code",
   "execution_count": 2,
   "id": "09f7224b",
   "metadata": {},
   "outputs": [
    {
     "name": "stdout",
     "output_type": "stream",
     "text": [
      "[4, 5, 6]\n"
     ]
    }
   ],
   "source": [
    "nested_list = [[1, 2, 3],\n",
    "               [4, 5, 6],\n",
    "               [7, 8, 9]]\n",
    "print(nested_list[1])"
   ]
  },
  {
   "cell_type": "code",
   "execution_count": 24,
   "id": "cb8c1a98",
   "metadata": {},
   "outputs": [
    {
     "name": "stdout",
     "output_type": "stream",
     "text": [
      "[4, 5, 6]\n"
     ]
    }
   ],
   "source": [
    "print(nested_list[1])"
   ]
  },
  {
   "cell_type": "markdown",
   "id": "426872a8",
   "metadata": {},
   "source": [
    "### Multiple Level Access:\n",
    "Access elements within the inner lists."
   ]
  },
  {
   "cell_type": "code",
   "execution_count": 4,
   "id": "0d718c2d",
   "metadata": {},
   "outputs": [
    {
     "name": "stdout",
     "output_type": "stream",
     "text": [
      "9\n"
     ]
    }
   ],
   "source": [
    "nested_list = [[1, 2, 3],\n",
    "               [4, 5, 6],\n",
    "               [7, 8, 9]]\n",
    "\n",
    "print(nested_list[2][2]) "
   ]
  },
  {
   "cell_type": "code",
   "execution_count": 5,
   "id": "384ed051",
   "metadata": {},
   "outputs": [
    {
     "data": {
      "text/plain": [
       "[1, 2, 3, 4, 5]"
      ]
     },
     "execution_count": 5,
     "metadata": {},
     "output_type": "execute_result"
    }
   ],
   "source": [
    "lst = [1,2,3,4]\n",
    "\n",
    "lst.append(5)\n",
    "lst"
   ]
  },
  {
   "cell_type": "markdown",
   "id": "1285896b",
   "metadata": {},
   "source": [
    "### Modifying Nested Lists\n",
    "### Adding Elements:\n",
    "Add a new list to the nested list."
   ]
  },
  {
   "cell_type": "code",
   "execution_count": 14,
   "id": "25aeaa85",
   "metadata": {},
   "outputs": [
    {
     "name": "stdout",
     "output_type": "stream",
     "text": [
      "[[1, 2, 3], [4, 5, 6], [7, 8, 9], [10, 11, 12, 6]]\n"
     ]
    },
    {
     "data": {
      "text/plain": [
       "[[1, 2, 3], [4, 500, 6], [7, 8, 9], [10, 11, 12, 6]]"
      ]
     },
     "execution_count": 14,
     "metadata": {},
     "output_type": "execute_result"
    }
   ],
   "source": [
    "nested_list = [[1, 2, 3],\n",
    "               [4, 5, 6],\n",
    "               [7, 8, 9]]\n",
    "\n",
    "\n",
    "\n",
    "nested_list.append([10, 11, 12,6])\n",
    "print(nested_list)\n",
    "\n",
    "nested_list[1][1] = 500\n",
    "nested_list"
   ]
  },
  {
   "cell_type": "code",
   "execution_count": 16,
   "id": "7681ebd7",
   "metadata": {},
   "outputs": [
    {
     "ename": "NameError",
     "evalue": "name 'l1' is not defined",
     "output_type": "error",
     "traceback": [
      "\u001b[1;31m---------------------------------------------------------------------------\u001b[0m",
      "\u001b[1;31mNameError\u001b[0m                                 Traceback (most recent call last)",
      "Cell \u001b[1;32mIn[16], line 1\u001b[0m\n\u001b[1;32m----> 1\u001b[0m l1\u001b[38;5;241m.\u001b[39mappend([\u001b[38;5;241m4\u001b[39m])\n\u001b[0;32m      2\u001b[0m l1\n",
      "\u001b[1;31mNameError\u001b[0m: name 'l1' is not defined"
     ]
    }
   ],
   "source": [
    "l1.append([4])\n",
    "l1"
   ]
  },
  {
   "cell_type": "markdown",
   "id": "e9c0db86",
   "metadata": {},
   "source": [
    "## Removing Elements:\n",
    "Remove a list from the nested list."
   ]
  },
  {
   "cell_type": "code",
   "execution_count": 17,
   "id": "09fa757d",
   "metadata": {},
   "outputs": [
    {
     "data": {
      "text/plain": [
       "[[1, 2, 3], [7, 8, 9], [10, 11, 12, 6]]"
      ]
     },
     "execution_count": 17,
     "metadata": {},
     "output_type": "execute_result"
    }
   ],
   "source": [
    "nested_list.pop(1)\n",
    "nested_list"
   ]
  },
  {
   "cell_type": "markdown",
   "id": "eb08fc05",
   "metadata": {},
   "source": [
    "### Updating Elements:\n",
    "Change elements within the inner lists."
   ]
  },
  {
   "cell_type": "code",
   "execution_count": 29,
   "id": "c1d27d14",
   "metadata": {},
   "outputs": [
    {
     "name": "stdout",
     "output_type": "stream",
     "text": [
      "[[1, 20, 3], [4, 5, 6], [7, 8, 9], [10, 11, 12]]\n"
     ]
    }
   ],
   "source": [
    "nested_list[0][1] = 20\n",
    "print(nested_list)"
   ]
  },
  {
   "cell_type": "code",
   "execution_count": 30,
   "id": "0f3942c6",
   "metadata": {},
   "outputs": [
    {
     "data": {
      "text/plain": [
       "[[1, 20, 3], [4, 500, 6], [7, 8, 9], [10, 11, 12]]"
      ]
     },
     "execution_count": 30,
     "metadata": {},
     "output_type": "execute_result"
    }
   ],
   "source": [
    "nested_list[1][1] = 500\n",
    "nested_list"
   ]
  },
  {
   "cell_type": "markdown",
   "id": "9328d445",
   "metadata": {},
   "source": [
    "### Iterating through Nested Lists\n",
    "Using Loops to Iterate:"
   ]
  },
  {
   "cell_type": "code",
   "execution_count": 1,
   "id": "1a4b13cb",
   "metadata": {},
   "outputs": [
    {
     "name": "stdout",
     "output_type": "stream",
     "text": [
      "1 , 2 , 3 , 1 , 2 , 3 , The listb is empty\n"
     ]
    }
   ],
   "source": [
    "nested_list = [[1,2,3],\n",
    "               [1,2,3]]\n",
    "\n",
    "for sublist in nested_list:\n",
    "    for item in sublist:\n",
    "        print(item, end=' , ')\n",
    "else:\n",
    "    print(\"The listb is empty\")"
   ]
  },
  {
   "cell_type": "code",
   "execution_count": 3,
   "id": "da89e50a",
   "metadata": {},
   "outputs": [
    {
     "name": "stdout",
     "output_type": "stream",
     "text": [
      "1\n",
      "2\n",
      "3\n"
     ]
    }
   ],
   "source": [
    "i= 0\n",
    "j = 0\n",
    "while(i <= len(nested_list)):\n",
    "    while(j<= len(nested_list)):\n",
    "        print(nested_list[i][j])\n",
    "    \n",
    "        j+=1\n",
    "    i+=1"
   ]
  },
  {
   "cell_type": "markdown",
   "id": "752d5066",
   "metadata": {},
   "source": [
    "## List Comprehensions in Python"
   ]
  },
  {
   "cell_type": "code",
   "execution_count": 29,
   "id": "7ae479c6",
   "metadata": {},
   "outputs": [],
   "source": [
    "sqr = [2,4,9,16]"
   ]
  },
  {
   "cell_type": "markdown",
   "id": "a0f401f8",
   "metadata": {},
   "source": [
    "### Definition:\n",
    "List comprehensions provide a concise way to create lists in Python. They allow you to generate a<br> new list by applying an expression to each item in an existing iterable (like a list or a range)<br> and can include optional filtering.\n",
    "\n",
    "Syntax:"
   ]
  },
  {
   "cell_type": "markdown",
   "id": "f3b89ffe",
   "metadata": {},
   "source": [
    "new_list = [expression `for` item in iterable if condition]"
   ]
  },
  {
   "cell_type": "markdown",
   "id": "f4791962",
   "metadata": {},
   "source": [
    "### expression:\n",
    "The value or operation to apply to each item.\n",
    "### item: \n",
    "The current item in the iteration.\n",
    "### iterable:\n",
    "The collection being iterated over (like a list, tuple, or range).\n",
    "### condition (optional):\n",
    "A filter to include only certain items.\n",
    "### Examples\n",
    "### Basic List Comprehension:\n",
    "Create a list of squares from 0 to 9."
   ]
  },
  {
   "cell_type": "code",
   "execution_count": 4,
   "id": "5e4ad13e",
   "metadata": {},
   "outputs": [
    {
     "name": "stdout",
     "output_type": "stream",
     "text": [
      "[0, 1, 4, 9, 16, 25, 36, 49, 64, 81, 100, 121, 144, 169, 196, 225, 256, 289, 324, 361, 400, 441, 484, 529, 576, 625, 676, 729, 784, 841, 900, 961, 1024, 1089, 1156, 1225, 1296, 1369, 1444, 1521, 1600, 1681, 1764, 1849, 1936, 2025, 2116, 2209, 2304, 2401, 2500, 2601, 2704, 2809, 2916, 3025, 3136, 3249, 3364, 3481, 3600, 3721, 3844, 3969, 4096, 4225, 4356, 4489, 4624, 4761, 4900, 5041, 5184, 5329, 5476, 5625, 5776, 5929, 6084, 6241, 6400, 6561, 6724, 6889, 7056, 7225, 7396, 7569, 7744, 7921, 8100, 8281, 8464, 8649, 8836, 9025, 9216, 9409, 9604, 9801]\n"
     ]
    }
   ],
   "source": [
    "squares = [x**2 for x in range(100)]\n",
    "print(squares)"
   ]
  },
  {
   "cell_type": "code",
   "execution_count": 55,
   "id": "9250ee48",
   "metadata": {},
   "outputs": [
    {
     "name": "stdout",
     "output_type": "stream",
     "text": [
      "[0, 1, 8, 27, 64, 125, 216, 343, 512, 729, 1000, 1331, 1728, 2197, 2744, 3375, 4096, 4913, 5832, 6859]\n"
     ]
    }
   ],
   "source": [
    "\n",
    "c = [i**3 for i in range(20)]\n",
    "print(c)"
   ]
  },
  {
   "cell_type": "code",
   "execution_count": 59,
   "id": "8bc79a45",
   "metadata": {},
   "outputs": [
    {
     "name": "stdout",
     "output_type": "stream",
     "text": [
      "[8000, 5832, 4096, 2744, 1728, 1000, 512, 216]\n"
     ]
    }
   ],
   "source": [
    "c = []\n",
    "\n",
    "for i in range(20,5,-2):\n",
    "    c.append(i**3)\n",
    "\n",
    "print(c)"
   ]
  },
  {
   "cell_type": "markdown",
   "id": "b1015648",
   "metadata": {},
   "source": [
    "### With a Condition:\n",
    "Create a list of even numbers from 0 to 9."
   ]
  },
  {
   "cell_type": "code",
   "execution_count": 6,
   "id": "36582251",
   "metadata": {},
   "outputs": [
    {
     "data": {
      "text/plain": [
       "[0, 2, 4, 6, 8, 10, 12, 14, 16, 18]"
      ]
     },
     "execution_count": 6,
     "metadata": {},
     "output_type": "execute_result"
    }
   ],
   "source": [
    "evens = [i for i in  range(20) if i % 2 == 0]\n",
    "evens"
   ]
  },
  {
   "cell_type": "code",
   "execution_count": 57,
   "id": "2ad8a2a0",
   "metadata": {},
   "outputs": [
    {
     "name": "stdout",
     "output_type": "stream",
     "text": [
      "[1, 3, 5, 7, 9, 11, 13, 15, 17, 19]\n"
     ]
    }
   ],
   "source": [
    "odd = [x for x in range(20) if x % 2 == 1 ]\n",
    "print(odd)"
   ]
  },
  {
   "cell_type": "markdown",
   "id": "657cba32",
   "metadata": {},
   "source": [
    "### Nested List Comprehensions:\n",
    "Flatten a nested list."
   ]
  },
  {
   "cell_type": "code",
   "execution_count": null,
   "id": "9d7b9f3e",
   "metadata": {},
   "outputs": [],
   "source": [
    "nested_list = [[1,2,3],\n",
    "               [1,2,3]]\n",
    "\n",
    "for sublist in nested_list:\n",
    "    for item in sublist:\n",
    "        print(item, end=' , ')\n",
    "else:\n",
    "    print(\"The listb is empty\")"
   ]
  },
  {
   "cell_type": "code",
   "execution_count": 9,
   "id": "b38d2fda",
   "metadata": {},
   "outputs": [
    {
     "name": "stdout",
     "output_type": "stream",
     "text": [
      "[[1, 2], [3, 4], [5, 6]]\n",
      "[1, 2, 3, 4, 5, 6]\n"
     ]
    }
   ],
   "source": [
    "nested_list = [[1, 2],\n",
    "               [3, 4],\n",
    "               [5, 6]]\n",
    "print(nested_list)\n",
    "flat_list = []\n",
    "\n",
    "for sublist in nested_list:\n",
    "    for item in sublist:\n",
    "        flat_list.append(item)\n",
    "print(flat_list)"
   ]
  },
  {
   "cell_type": "code",
   "execution_count": 10,
   "id": "f1584134",
   "metadata": {},
   "outputs": [
    {
     "name": "stdout",
     "output_type": "stream",
     "text": [
      "[1, 2, 3, 4, 5, 6]\n"
     ]
    }
   ],
   "source": [
    "\n",
    "\n",
    "flat_list = [c for s in nested_list for c in s ]\n",
    "print(flat_list)\n"
   ]
  },
  {
   "cell_type": "markdown",
   "id": "d1c765f1",
   "metadata": {},
   "source": [
    "### Benefits of List Comprehensions\n",
    "#### Conciseness: \n",
    "Reduces the number of lines of code needed to create lists.\n",
    "#### Readability: \n",
    "Often easier to read for those familiar with the syntax.\n",
    "#### Performance:\n",
    "Generally faster than using traditional for loops for list creation."
   ]
  },
  {
   "cell_type": "markdown",
   "id": "6ecf5c9b",
   "metadata": {},
   "source": [
    "# Nested Tuples in Python\n",
    "### Definition:\n",
    "Nested tuples are tuples that contain other tuples as their elements. They can be used to represent<br> complex data structures or hierarchical relationships, similar to how nested lists work.\n",
    "\n",
    "### Creating Nested Tuples\n",
    "### Simple Nested Tuple:\n",
    "You can create a nested tuple by placing one or more tuples inside another tuple."
   ]
  },
  {
   "cell_type": "code",
   "execution_count": 20,
   "id": "41a9121b",
   "metadata": {},
   "outputs": [
    {
     "name": "stdout",
     "output_type": "stream",
     "text": [
      "(3, 4)\n"
     ]
    }
   ],
   "source": [
    "nested_tuple = ((1, 2),\n",
    "                (3, 4), \n",
    "                (5, 6))\n",
    "print(nested_tuple[1])\n"
   ]
  },
  {
   "cell_type": "markdown",
   "id": "9eb89273",
   "metadata": {},
   "source": [
    "### More Complex Structure:\n",
    "You can nest tuples to any level."
   ]
  },
  {
   "cell_type": "code",
   "execution_count": 65,
   "id": "9ec1b825",
   "metadata": {},
   "outputs": [
    {
     "name": "stdout",
     "output_type": "stream",
     "text": [
      "(4, (5, 6))\n"
     ]
    }
   ],
   "source": [
    "complex_nested_tuple = (1, \n",
    "                        (2, 3),\n",
    "                        (4, \n",
    "                         (5, 6)))\n",
    "print(complex_nested_tuple[2])"
   ]
  },
  {
   "cell_type": "markdown",
   "id": "9e07a661",
   "metadata": {},
   "source": [
    "### Accessing Elements in Nested Tuples\n",
    "You can access elements in nested tuples using multiple indexing."
   ]
  },
  {
   "cell_type": "code",
   "execution_count": 70,
   "id": "b1e29e1c",
   "metadata": {},
   "outputs": [
    {
     "name": "stdout",
     "output_type": "stream",
     "text": [
      "(5, 6)\n",
      "2\n",
      "4\n"
     ]
    }
   ],
   "source": [
    "nested_tuple = ((1, 2), (3, 4), (5, 6))\n",
    "\n",
    "# Accessing the first inner tuple\n",
    "print(nested_tuple[2]) \n",
    "\n",
    "# Accessing the second element of the first inner tuple\n",
    "print(nested_tuple[0][1])  \n",
    "\n",
    "# Accessing the second element of the second inner tuple\n",
    "print(nested_tuple[1][1])  "
   ]
  },
  {
   "cell_type": "markdown",
   "id": "525d302c",
   "metadata": {},
   "source": [
    "### Modifying Nested Tuples\n",
    "Tuples are immutable, meaning you cannot change their elements directly. However, you can create<br> __a new tuple__ based on the existing one"
   ]
  },
  {
   "cell_type": "code",
   "execution_count": 69,
   "id": "7505dd18",
   "metadata": {},
   "outputs": [
    {
     "name": "stdout",
     "output_type": "stream",
     "text": [
      "((1, 2), (10, 20), (5, 6))\n",
      "((1, 2), (3, 4), (5, 6))\n"
     ]
    }
   ],
   "source": [
    "# Original nested tuple\n",
    "nested_tuple = ((1, 2), (3, 4), (5, 6))\n",
    "\n",
    "# Creating a new nested tuple with modified elements\n",
    "new_nested_tuple = (nested_tuple[0], (10, 20), nested_tuple[2])\n",
    "print(new_nested_tuple)\n",
    "print(nested_tuple)"
   ]
  },
  {
   "cell_type": "code",
   "execution_count": 68,
   "id": "0f280b22",
   "metadata": {},
   "outputs": [
    {
     "name": "stdout",
     "output_type": "stream",
     "text": [
      "('q', 'ali', 'b')\n"
     ]
    }
   ],
   "source": [
    "t = ((\"q\"),(\"b\"))\n",
    "n_t = (t[0],(\"ali\"),t[1])\n",
    "print(n_t)"
   ]
  },
  {
   "cell_type": "markdown",
   "id": "9cbf51bc",
   "metadata": {},
   "source": [
    "### Iterating Through Nested Tuples\n",
    "You can use loops to iterate through elements in nested tuples."
   ]
  },
  {
   "cell_type": "code",
   "execution_count": 65,
   "id": "60399b4c",
   "metadata": {},
   "outputs": [
    {
     "name": "stdout",
     "output_type": "stream",
     "text": [
      "1\n",
      "2\n",
      "3\n",
      "4\n",
      "5\n",
      "6\n"
     ]
    }
   ],
   "source": [
    "nested_tuple = ((1, 2), (3, 4), (5, 6))\n",
    "\n",
    "for inner_tuple in nested_tuple:\n",
    "    for item in inner_tuple:\n",
    "        print(item)"
   ]
  },
  {
   "cell_type": "markdown",
   "id": "fb1a8f33",
   "metadata": {},
   "source": [
    "## Tuple Comprehensions in Python\n",
    "### Definition:\n",
    "Unlike lists, Python does not have a specific syntax for tuple comprehensions. However,<br> you can create tuples using generator expressions, which are similar to list comprehensions but<br> use parentheses instead of brackets.\n",
    "\n",
    "#### Syntax:"
   ]
  },
  {
   "cell_type": "markdown",
   "id": "8e6a3be7",
   "metadata": {},
   "source": [
    "tuple_expression =`tuple` __(expression__ `for` item `in`iterable `if` __condition)__"
   ]
  },
  {
   "cell_type": "markdown",
   "id": "d4fd108d",
   "metadata": {},
   "source": [
    "## Creating Tuples with Generator Expressions\n",
    "### Basic Tuple Creation:\n",
    "You can create a tuple from an iterable using a generator expression."
   ]
  },
  {
   "cell_type": "code",
   "execution_count": 74,
   "id": "7cbae0ce",
   "metadata": {},
   "outputs": [
    {
     "name": "stdout",
     "output_type": "stream",
     "text": [
      "<class 'tuple'>\n"
     ]
    }
   ],
   "source": [
    "my_tuple = tuple(x**2 for x in range(5))\n",
    "print(type(my_tuple))"
   ]
  },
  {
   "cell_type": "markdown",
   "id": "3a5d17ee",
   "metadata": {},
   "source": [
    "### With a Condition:\n",
    "You can include a condition to filter elements."
   ]
  },
  {
   "cell_type": "code",
   "execution_count": 78,
   "id": "c8d84ebe",
   "metadata": {},
   "outputs": [
    {
     "name": "stdout",
     "output_type": "stream",
     "text": [
      "(0, 2, 4, 6, 8)\n",
      "64\n",
      "[3, 4, 5, 6, 7, 8, 9, 10, 11, 12, 13, 14, 15, 16, 17, 18, 19, 20, 21, 22]\n"
     ]
    }
   ],
   "source": [
    "even_tuple = tuple(x for x in range(10) if x % 2 == 0)\n",
    "print(even_tuple)\n",
    "print(2**6)\n",
    "\n",
    "print([x+3 for x in range(20)])"
   ]
  },
  {
   "cell_type": "markdown",
   "id": "3b9bedb4",
   "metadata": {},
   "source": [
    "## Using Nested Generators:\n",
    "You can also use nested generator expressions to create tuples `from` nested data."
   ]
  },
  {
   "cell_type": "code",
   "execution_count": 24,
   "id": "cd074c85",
   "metadata": {},
   "outputs": [
    {
     "name": "stdout",
     "output_type": "stream",
     "text": [
      "(1, 2, 3, 4, 5, 6)\n"
     ]
    },
    {
     "data": {
      "text/plain": [
       "tuple"
      ]
     },
     "execution_count": 24,
     "metadata": {},
     "output_type": "execute_result"
    }
   ],
   "source": [
    "nested_tuple = ((1, 2), (3, 4), \n",
    "               (5, 6))\n",
    "flat_tuple = tuple(num for sublist in nested_list for num in sublist)\n",
    "print(flat_tuple)\n",
    "type(flat_tuple)"
   ]
  },
  {
   "cell_type": "code",
   "execution_count": null,
   "id": "803c1bcc",
   "metadata": {},
   "outputs": [],
   "source": []
  },
  {
   "cell_type": "code",
   "execution_count": null,
   "id": "6d4fd4a3",
   "metadata": {},
   "outputs": [],
   "source": []
  },
  {
   "cell_type": "markdown",
   "id": "0974054a",
   "metadata": {},
   "source": [
    "## Nested Dictionaries\n",
    "#### Introduction to Nested Dictionaries\n",
    "#### Definition and Use Cases:\n",
    "Nested dictionaries are dictionaries within dictionaries. They are useful for representing<br> more complex hierarchical data like JSON objects or configuration settings.\n",
    "\n",
    "#### Creating Nested Dictionaries:\n"
   ]
  },
  {
   "cell_type": "code",
   "execution_count": 30,
   "id": "4da2d981",
   "metadata": {},
   "outputs": [
    {
     "data": {
      "text/plain": [
       "'haris'"
      ]
     },
     "execution_count": 30,
     "metadata": {},
     "output_type": "execute_result"
    }
   ],
   "source": [
    "nested_tuple = ((1, 2),\n",
    "                (3, 4), \n",
    "               (5, 6))\n",
    "\n",
    "nested_dict = {1: {'student1': 'ali', 'student2': 'haris'}, \n",
    "               2: {'student1': 'Adnan', 'student2': 'Ahmad'}}\n",
    "\n",
    "std = {'student1': 'ali', 'student2': 'haris'}\n",
    "std[\"student2\"]"
   ]
  },
  {
   "cell_type": "markdown",
   "id": "af5b3e33",
   "metadata": {},
   "source": [
    "## Accessing Elements\n",
    "#### Single Level Access:"
   ]
  },
  {
   "cell_type": "code",
   "execution_count": 31,
   "id": "fef962f2",
   "metadata": {},
   "outputs": [
    {
     "name": "stdout",
     "output_type": "stream",
     "text": [
      "{'student1': 'ali', 'student2': 'haris'}\n"
     ]
    }
   ],
   "source": [
    "print(nested_dict[1])"
   ]
  },
  {
   "cell_type": "markdown",
   "id": "75888555",
   "metadata": {},
   "source": [
    "## Multiple Level Access:"
   ]
  },
  {
   "cell_type": "code",
   "execution_count": 32,
   "id": "067a53f4",
   "metadata": {},
   "outputs": [
    {
     "name": "stdout",
     "output_type": "stream",
     "text": [
      "Ahmad\n"
     ]
    }
   ],
   "source": [
    "print(nested_dict[2]['student2'])"
   ]
  },
  {
   "cell_type": "markdown",
   "id": "892ddabd",
   "metadata": {},
   "source": [
    "## Modifying Nested Dictionaries\n",
    "### Adding Key-Value Pairs:"
   ]
  },
  {
   "cell_type": "code",
   "execution_count": 39,
   "id": "880928af",
   "metadata": {},
   "outputs": [
    {
     "name": "stdout",
     "output_type": "stream",
     "text": [
      "{1: {'student1': 'ali'}, 2: {'student1': 'Adnan', 'student2': 'Ahmad'}, 3: {'student1': 'Khan'}}\n"
     ]
    }
   ],
   "source": [
    "nested_dict[3] = {'student1': 'Khan'}\n",
    "print(nested_dict)\n"
   ]
  },
  {
   "cell_type": "markdown",
   "id": "6500e4d8",
   "metadata": {},
   "source": [
    "### Removing Key-Value Pairs:"
   ]
  },
  {
   "cell_type": "code",
   "execution_count": 38,
   "id": "2c71bb45",
   "metadata": {},
   "outputs": [
    {
     "name": "stdout",
     "output_type": "stream",
     "text": [
      "{1: {'student1': 'ali'}, 2: {'student1': 'Adnan', 'student2': 'Ahmad'}, 3: {'student1': 'Khan'}}\n"
     ]
    }
   ],
   "source": [
    "print(nested_dict)"
   ]
  },
  {
   "cell_type": "code",
   "execution_count": 37,
   "id": "34872f89",
   "metadata": {},
   "outputs": [
    {
     "name": "stdout",
     "output_type": "stream",
     "text": [
      "{'student1': 'ali'}\n"
     ]
    },
    {
     "ename": "KeyError",
     "evalue": "'student2'",
     "output_type": "error",
     "traceback": [
      "\u001b[1;31m---------------------------------------------------------------------------\u001b[0m",
      "\u001b[1;31mKeyError\u001b[0m                                  Traceback (most recent call last)",
      "Cell \u001b[1;32mIn[37], line 2\u001b[0m\n\u001b[0;32m      1\u001b[0m \u001b[38;5;28mprint\u001b[39m(nested_dict[\u001b[38;5;241m1\u001b[39m])\n\u001b[1;32m----> 2\u001b[0m \u001b[38;5;28;01mdel\u001b[39;00m nested_dict[\u001b[38;5;241m1\u001b[39m][\u001b[38;5;124m'\u001b[39m\u001b[38;5;124mstudent2\u001b[39m\u001b[38;5;124m'\u001b[39m]\n\u001b[0;32m      3\u001b[0m nested_dict[\u001b[38;5;241m1\u001b[39m]\n",
      "\u001b[1;31mKeyError\u001b[0m: 'student2'"
     ]
    }
   ],
   "source": [
    "print(nested_dict[1])\n",
    "del nested_dict[1]['student2']\n",
    "nested_dict[1]"
   ]
  },
  {
   "cell_type": "code",
   "execution_count": 24,
   "id": "533b236e",
   "metadata": {},
   "outputs": [
    {
     "name": "stdout",
     "output_type": "stream",
     "text": [
      "{'class1': {'student1': 'ali'}, 'class2': {'student1': 'Adnan', 'student2': 'Evelyn'}, 'class3': {'student1': 'Khan'}}\n"
     ]
    }
   ],
   "source": [
    "print(nested_dict)"
   ]
  },
  {
   "cell_type": "markdown",
   "id": "9efa0e19",
   "metadata": {},
   "source": [
    "## Updating Values:"
   ]
  },
  {
   "cell_type": "code",
   "execution_count": 41,
   "id": "f79502e7",
   "metadata": {},
   "outputs": [
    {
     "name": "stdout",
     "output_type": "stream",
     "text": [
      "{1: {'student1': 'ali'}, 2: {'student1': 'Adnan', 'student2': 'hafeez'}, 3: {'student1': 'Khan'}}\n"
     ]
    }
   ],
   "source": [
    "nested_dict[2]['student2'] = 'hafeez'\n",
    "print(nested_dict)"
   ]
  },
  {
   "cell_type": "markdown",
   "id": "63888cf4",
   "metadata": {},
   "source": [
    "### Iterating through Nested Dictionaries\n",
    "#### Using Loops to Iterate:"
   ]
  },
  {
   "cell_type": "code",
   "execution_count": 44,
   "id": "56a01728",
   "metadata": {},
   "outputs": [
    {
     "name": "stdout",
     "output_type": "stream",
     "text": [
      "student1: ['ali', 'khan']\n",
      "student2: haris\n",
      "student1: Adnan\n",
      "student2: Ahmad\n"
     ]
    }
   ],
   "source": [
    "nested_dict = {1: {'student1': ['ali',\"khan\"], 'student2': 'haris'}, \n",
    "               2: {'student1': 'Adnan', 'student2': 'Ahmad'}}\n",
    "\n",
    "\n",
    "for c, std in nested_dict.items():\n",
    "    for std_id, std_name in std.items():\n",
    "        print(f\"{std_id}: {std_name}\")"
   ]
  },
  {
   "cell_type": "markdown",
   "id": "99753810",
   "metadata": {},
   "source": [
    "### Dictionary Comprehensions with Nested Dictionaries:"
   ]
  },
  {
   "cell_type": "code",
   "execution_count": 45,
   "id": "e75d89ed",
   "metadata": {},
   "outputs": [
    {
     "name": "stdout",
     "output_type": "stream",
     "text": [
      "{'student1': 'Adnan', 'student2': 'Ahmad'}\n"
     ]
    }
   ],
   "source": [
    "all_students = {student_id: student_name for class_name, students in nested_dict.items() for student_id, student_name in students.items()}\n",
    "print(all_students)"
   ]
  },
  {
   "cell_type": "markdown",
   "id": "3d144e86",
   "metadata": {},
   "source": [
    "# Nested Sets\n",
    "## Introduction to Nested Sets\n",
    "### Definition and Use Cases:\n",
    "Sets themselves cannot be nested directly because they are mutable, but you can use frozensets<br> (immutable sets) to create a set of sets. Useful for representing sets of unique,<br> immutable groups of items."
   ]
  },
  {
   "cell_type": "markdown",
   "id": "55469a56",
   "metadata": {},
   "source": [
    "#### Creating Nested Sets Using Frozensets:"
   ]
  },
  {
   "cell_type": "code",
   "execution_count": 36,
   "id": "dbd856ed",
   "metadata": {},
   "outputs": [],
   "source": [
    "nested_set = {frozenset({1, 2, 3}), frozenset({4, 5, 6})}"
   ]
  },
  {
   "cell_type": "markdown",
   "id": "8cd2baf1",
   "metadata": {},
   "source": [
    "## Accessing Elements\n",
    "### Accessing Elements within Frozensets:"
   ]
  },
  {
   "cell_type": "code",
   "execution_count": 37,
   "id": "3264d949",
   "metadata": {},
   "outputs": [
    {
     "name": "stdout",
     "output_type": "stream",
     "text": [
      "frozenset({1, 2, 3})\n",
      "frozenset({4, 5, 6})\n"
     ]
    }
   ],
   "source": [
    "for subset in nested_set:\n",
    "    print(subset)"
   ]
  },
  {
   "cell_type": "markdown",
   "id": "5d2a37bb",
   "metadata": {},
   "source": [
    "### Modifying Nested Sets\n",
    "#### Adding Elements:"
   ]
  },
  {
   "cell_type": "code",
   "execution_count": 38,
   "id": "be68b252",
   "metadata": {},
   "outputs": [
    {
     "name": "stdout",
     "output_type": "stream",
     "text": [
      "{frozenset({1, 2, 3}), frozenset({4, 5, 6}), frozenset({8, 9, 7})}\n"
     ]
    }
   ],
   "source": [
    "new_frozenset = frozenset({7, 8, 9})\n",
    "nested_set.add(new_frozenset)\n",
    "print(nested_set)"
   ]
  },
  {
   "cell_type": "markdown",
   "id": "e2ff2cbc",
   "metadata": {},
   "source": [
    "### Removing Elements:"
   ]
  },
  {
   "cell_type": "code",
   "execution_count": 39,
   "id": "b79ef90c",
   "metadata": {},
   "outputs": [
    {
     "name": "stdout",
     "output_type": "stream",
     "text": [
      "{frozenset({4, 5, 6}), frozenset({8, 9, 7})}\n"
     ]
    }
   ],
   "source": [
    "nested_set.remove(frozenset({1, 2, 3}))\n",
    "print(nested_set)"
   ]
  },
  {
   "cell_type": "markdown",
   "id": "0e6a23d3",
   "metadata": {},
   "source": [
    "## Iterating through Nested Sets\n",
    "### `Using Loops to Iterate:"
   ]
  },
  {
   "cell_type": "code",
   "execution_count": 40,
   "id": "da1e44ef",
   "metadata": {},
   "outputs": [
    {
     "name": "stdout",
     "output_type": "stream",
     "text": [
      "4\n",
      "5\n",
      "6\n",
      "8\n",
      "9\n",
      "7\n"
     ]
    }
   ],
   "source": [
    "for subset in nested_set:\n",
    "    for item in subset:\n",
    "        print(item)"
   ]
  },
  {
   "cell_type": "markdown",
   "id": "2911e9f8",
   "metadata": {},
   "source": [
    "## Practical Examples and Exercises\n",
    "## Example Projects\n",
    "###### Create a School Database Using Nested Dictionaries:"
   ]
  },
  {
   "cell_type": "code",
   "execution_count": 43,
   "id": "ce4b091d",
   "metadata": {},
   "outputs": [
    {
     "name": "stdout",
     "output_type": "stream",
     "text": [
      "Ahmad\n",
      "{'class1': {'student1': {'name': 'Ahmad', 'age': 10}, 'student2': {'name': 'Danish', 'age': 11}}, 'class2': {'student1': {'name': 'Ali', 'age': 12}, 'student2': {'name': 'Zia', 'age': 13}, 'student3': {'name': 'Khan', 'age': 14}}},                                                     "
     ]
    }
   ],
   "source": [
    "school = {\n",
    "    'class1': {\n",
    "        'student1': {'name': 'Ahmad', 'age': 10},\n",
    "        'student2': {'name': 'Danish', 'age': 11},\n",
    "    },\n",
    "    'class2': {\n",
    "        'student1': {'name': 'Ali', 'age': 12},\n",
    "        'student2': {'name': 'Zia', 'age': 13},\n",
    "    }\n",
    "}\n",
    "\n",
    "# Accessing data\n",
    "print(school['class1']['student1']['name']) \n",
    "\n",
    "# Adding a new student\n",
    "school['class2']['student3'] = {'name': 'Khan', 'age': 14}\n",
    "print(school,end=\",                                                     \")"
   ]
  },
  {
   "cell_type": "markdown",
   "id": "9961f573",
   "metadata": {},
   "source": [
    "## Manipulate a Matrix Using Nested Lists:"
   ]
  },
  {
   "cell_type": "code",
   "execution_count": 45,
   "id": "c33dc307",
   "metadata": {},
   "outputs": [
    {
     "name": "stdout",
     "output_type": "stream",
     "text": [
      "[[1, 2, 3], [4, 5, 6], [7, 8, 9]]\n",
      "[[1, 4, 7], [2, 5, 8], [3, 6, 9]]\n"
     ]
    }
   ],
   "source": [
    "matrix = [\n",
    "    [1, 2, 3],\n",
    "    [4, 5, 6],\n",
    "    [7, 8, 9]\n",
    "]\n",
    "print(matrix)\n",
    "# Transposing the matrix\n",
    "transposed = [[matrix[j][i] for j in range(len(matrix))] for i in range(len(matrix[0]))]\n",
    "print(transposed) "
   ]
  },
  {
   "cell_type": "markdown",
   "id": "e7a5c80b",
   "metadata": {},
   "source": [
    "## Exercises\n",
    "### Practice Problems on Nested Data Structures:\n",
    "\n",
    "###### Create a nested list and write a function to flatten it.<br>\n",
    "###### Create a nested dictionary and write a function to print all the keys and values."
   ]
  },
  {
   "cell_type": "code",
   "execution_count": 53,
   "id": "7be344da",
   "metadata": {},
   "outputs": [
    {
     "name": "stdout",
     "output_type": "stream",
     "text": [
      "[1, 2, 3, 4, 5, 6, 7, 8, 9]\n"
     ]
    }
   ],
   "source": [
    "def flatten_list(nested_list):\n",
    "    return [item for sublist in nested_list for item in sublist]\n",
    "\n",
    "print(flatten_list([[1, 2, 3], [4, 5, 6], [7, 8, 9]]))  \n",
    "\n"
   ]
  },
  {
   "cell_type": "code",
   "execution_count": 52,
   "id": "9817b375",
   "metadata": {},
   "outputs": [
    {
     "name": "stdout",
     "output_type": "stream",
     "text": [
      "class1:\n",
      "student1: Ali\n",
      "student2: Ahmad\n",
      "class2:\n",
      "student1: Faisal\n",
      "student2: Wisal\n"
     ]
    }
   ],
   "source": [
    "# Exercise 2: Print all keys and values of a nested dictionary\n",
    "def print_nested_dict(nested_dict):\n",
    "    for key, value in nested_dict.items():\n",
    "        if isinstance(value, dict):\n",
    "            print(f\"{key}:\")\n",
    "            print_nested_dict(value)\n",
    "        else:\n",
    "            print(f\"{key}: {value}\")\n",
    "\n",
    "print_nested_dict({'class1': {'student1': 'Ali', 'student2': 'Ahmad'}, 'class2': {'student1': 'Faisal', 'student2': 'Wisal'}})"
   ]
  },
  {
   "cell_type": "markdown",
   "id": "94a89e46",
   "metadata": {},
   "source": [
    "We can do this with simple nested loop as wil"
   ]
  },
  {
   "cell_type": "code",
   "execution_count": 51,
   "id": "c3b3d8be",
   "metadata": {},
   "outputs": [
    {
     "name": "stdout",
     "output_type": "stream",
     "text": [
      "[1, 2, 3, 4, 5, 6, 7, 8, 9]\n"
     ]
    }
   ],
   "source": [
    "def flatten_list(nested_list):\n",
    "    flat_list = []\n",
    "    for sublist in nested_list:\n",
    "        for item in sublist:\n",
    "            flat_list.append(item)\n",
    "    return flat_list\n",
    "print(flatten_list([[1, 2, 3], [4, 5, 6], [7, 8, 9]]))"
   ]
  },
  {
   "cell_type": "code",
   "execution_count": null,
   "id": "8cc9b90f",
   "metadata": {},
   "outputs": [],
   "source": []
  },
  {
   "cell_type": "code",
   "execution_count": null,
   "id": "f7945830",
   "metadata": {},
   "outputs": [],
   "source": []
  }
 ],
 "metadata": {
  "kernelspec": {
   "display_name": "Python 3 (ipykernel)",
   "language": "python",
   "name": "python3"
  },
  "language_info": {
   "codemirror_mode": {
    "name": "ipython",
    "version": 3
   },
   "file_extension": ".py",
   "mimetype": "text/x-python",
   "name": "python",
   "nbconvert_exporter": "python",
   "pygments_lexer": "ipython3",
   "version": "3.11.3"
  }
 },
 "nbformat": 4,
 "nbformat_minor": 5
}
