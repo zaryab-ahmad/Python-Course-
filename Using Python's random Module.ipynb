{
 "cells": [
  {
   "cell_type": "markdown",
   "id": "c6e7a87a",
   "metadata": {},
   "source": [
    "### Overview of the random Module\n",
    "The random module in Python is used to generate random numbers and perform `random` operations. It's <br>part of the standard library, so you don't need to install anything extra to use it.\n",
    "\n",
    "#### Importing the random Module\n",
    "To use the `random` module, you need to import it:"
   ]
  },
  {
   "cell_type": "code",
   "execution_count": 1,
   "id": "b735f1ff",
   "metadata": {},
   "outputs": [],
   "source": [
    "import random"
   ]
  },
  {
   "cell_type": "markdown",
   "id": "afd531bb",
   "metadata": {},
   "source": [
    "## Generating Random Numbers\n",
    "`random.random()`\n",
    "#### Description:\n",
    "Generates a random float number between 0.0 and 1.0"
   ]
  },
  {
   "cell_type": "code",
   "execution_count": 30,
   "id": "a34f5617",
   "metadata": {},
   "outputs": [
    {
     "name": "stdout",
     "output_type": "stream",
     "text": [
      "0.6028967453405111\n"
     ]
    }
   ],
   "source": [
    "import random\n",
    "\n",
    "print(random.random())"
   ]
  },
  {
   "cell_type": "markdown",
   "id": "d5a1d0f6",
   "metadata": {},
   "source": [
    "`random.randint(a, b)`\n",
    "#### Description: \n",
    "Generates a random integer between` a `and` b` (inclusive)."
   ]
  },
  {
   "cell_type": "code",
   "execution_count": 33,
   "id": "6f33c7b7",
   "metadata": {},
   "outputs": [
    {
     "name": "stdout",
     "output_type": "stream",
     "text": [
      "29\n"
     ]
    }
   ],
   "source": [
    "print(random.randint(1,1000))"
   ]
  },
  {
   "cell_type": "markdown",
   "id": "dfba46b4",
   "metadata": {},
   "source": [
    "`random.uniform(a, b)`\n",
    "#### Description:\n",
    "Generates a random `float` number between `a and b.`"
   ]
  },
  {
   "cell_type": "code",
   "execution_count": 43,
   "id": "961f497f",
   "metadata": {},
   "outputs": [
    {
     "name": "stdout",
     "output_type": "stream",
     "text": [
      "18.911249949803473\n"
     ]
    }
   ],
   "source": [
    "print(random.uniform(5.5, 1000.5))"
   ]
  },
  {
   "cell_type": "markdown",
   "id": "a50d7638",
   "metadata": {},
   "source": [
    "## Selecting Random Elements\n",
    "`random.choice(seq)`\n",
    "##### Description:\n",
    "Chooses a random element from a non-empty sequence."
   ]
  },
  {
   "cell_type": "code",
   "execution_count": 113,
   "id": "c8a7418e",
   "metadata": {},
   "outputs": [
    {
     "name": "stdout",
     "output_type": "stream",
     "text": [
      "zaryaboo\n"
     ]
    }
   ],
   "source": [
    "string = [\"a\",\"b\",\"c\"]\n",
    "print(random.choice(string))"
   ]
  },
  {
   "cell_type": "markdown",
   "id": "b39bd22f",
   "metadata": {},
   "source": [
    "`random.sample(population, k)`\n",
    "#### Description:\n",
    "Returns a `list` of k unique elements chosen `from` the population sequence."
   ]
  },
  {
   "cell_type": "code",
   "execution_count": 117,
   "id": "b5034211",
   "metadata": {},
   "outputs": [
    {
     "name": "stdout",
     "output_type": "stream",
     "text": [
      "range(0, 300)\n",
      "[7229, 3189, 5571, 1429, 8156, 9202, 5271, 3529, 4835, 5144, 6823, 6026, 1008, 8476, 1797, 3876, 5493, 9247, 4460, 2087, 5398, 6215, 5120, 7412, 4226, 5378, 9827, 7989, 8417, 9674, 8201, 2301, 5269, 2221, 2039, 9769, 9609, 2058, 8600, 6517, 6510, 7672, 8063, 7435, 8426, 7007, 3892, 2350, 7114, 8657, 3795, 8676, 6419, 6860, 1028, 3066, 9957, 7736, 9278, 3232, 2228, 5326, 5713, 6320, 4487, 9898, 9601, 4912, 3233, 7527, 9959, 1900, 5830, 1459, 7552, 2089, 1097, 6453, 5656, 2468, 6130, 1422, 9745, 7144, 4700, 1134, 5125, 1689, 6721, 7496, 1751, 3922, 9940, 1022, 3118, 5435, 6667, 6216, 4174, 7999]\n"
     ]
    }
   ],
   "source": [
    "numbers = range(0, 300)\n",
    "print(numbers)\n",
    "print(random.sample(range(1000,10000), 100))"
   ]
  },
  {
   "cell_type": "markdown",
   "id": "f7aeb454",
   "metadata": {},
   "source": [
    "`random.shuffle(seq)`\n",
    "### Description: \n",
    "Shuffles the sequence `in` place."
   ]
  },
  {
   "cell_type": "code",
   "execution_count": 119,
   "id": "e7b521f8",
   "metadata": {},
   "outputs": [
    {
     "name": "stdout",
     "output_type": "stream",
     "text": [
      "[1, 2, 3, 4, 5, 6, 7, 8, 9, 10, 11, 12, 13, 14, 15, 16, 17, 18, 19, 20, 21, 22, 23, 24, 25, 26, 27, 28, 29, 30, 31, 32, 33, 34, 35, 36, 37, 38, 39, 40, 41, 42, 43, 44, 45, 46, 47, 48, 49, 50, 51, 52]\n",
      "[16, 37, 34, 52, 12, 13, 9, 50, 5, 28, 3, 51, 23, 18, 49, 35, 43, 48, 14, 4, 11, 21, 29, 26, 33, 40, 41, 47, 17, 45, 25, 22, 10, 7, 24, 15, 32, 20, 1, 44, 31, 39, 36, 27, 2, 8, 46, 6, 38, 19, 42, 30]\n"
     ]
    }
   ],
   "source": [
    "deck = list(range(1, 53))\n",
    "print(deck)\n",
    "random.shuffle(deck)\n",
    "print(deck)"
   ]
  },
  {
   "cell_type": "markdown",
   "id": "744a9b3a",
   "metadata": {},
   "source": [
    "### Generating Random Data with Specific Distributions\n",
    "`random.gauss(mu, sigma)`\n",
    "#### Description: \n",
    "Generates a random `float` number based on the Gaussian distribution with mean mu and standard deviation sigma."
   ]
  },
  {
   "cell_type": "code",
   "execution_count": 131,
   "id": "5b88e52e",
   "metadata": {},
   "outputs": [
    {
     "name": "stdout",
     "output_type": "stream",
     "text": [
      "-3.2272591589591135\n"
     ]
    }
   ],
   "source": [
    "print(random.gauss(1, 3))"
   ]
  },
  {
   "cell_type": "markdown",
   "id": "812b74be",
   "metadata": {},
   "source": [
    "`random.expovariate(lambda)`\n",
    "### Description: \n",
    "Generates a random `float` number based on the exponential distribution with rate parameter lambda."
   ]
  },
  {
   "cell_type": "code",
   "execution_count": 135,
   "id": "ab9566a1",
   "metadata": {},
   "outputs": [
    {
     "name": "stdout",
     "output_type": "stream",
     "text": [
      "0.5201495435399687\n"
     ]
    }
   ],
   "source": [
    "print(random.expovariate(5/1))"
   ]
  },
  {
   "cell_type": "markdown",
   "id": "43ea0557",
   "metadata": {},
   "source": [
    "### Seeding the Random Number Generator\n",
    "`random.seed(a)`\n",
    "#### Description: \n",
    "Initializes the `random` number generator with the `seed` a. This ensures reproducibility of random sequences."
   ]
  },
  {
   "cell_type": "code",
   "execution_count": 141,
   "id": "b7742d47",
   "metadata": {},
   "outputs": [
    {
     "name": "stdout",
     "output_type": "stream",
     "text": [
      "1\n",
      "2\n",
      "2\n",
      "1\n",
      "2\n",
      "2\n"
     ]
    }
   ],
   "source": [
    "random.seed(2)\n",
    "print(random.randint(1,10))\n",
    "print(random.randint(1,10))\n",
    "print(random.randint(1,10))\n",
    "random.seed(2)\n",
    "print(random.randint(1,10))\n",
    "print(random.randint(1,10))\n",
    "print(random.randint(1,10))"
   ]
  },
  {
   "cell_type": "markdown",
   "id": "0ed19263",
   "metadata": {},
   "source": [
    "## Practical Examples\n",
    "#### Example 1:\n",
    "Simulate a Dice Roll"
   ]
  },
  {
   "cell_type": "code",
   "execution_count": 174,
   "id": "490abef0",
   "metadata": {},
   "outputs": [
    {
     "name": "stdout",
     "output_type": "stream",
     "text": [
      "5\n"
     ]
    }
   ],
   "source": [
    "def roll_dice():\n",
    "    return random.randint(1, 6)\n",
    "\n",
    "print(roll_dice()) "
   ]
  },
  {
   "cell_type": "markdown",
   "id": "b4d1abf5",
   "metadata": {},
   "source": [
    "### Example 2:\n",
    "Shuffle a Deck of Cards and Draw 5 Cards"
   ]
  },
  {
   "cell_type": "code",
   "execution_count": 185,
   "id": "ed424274",
   "metadata": {},
   "outputs": [
    {
     "name": "stdout",
     "output_type": "stream",
     "text": [
      "[36, 45, 12, 3, 51]\n"
     ]
    }
   ],
   "source": [
    "deck = list(range(1, 53))\n",
    "random.shuffle(deck)\n",
    "hand = random.sample(deck, 5)\n",
    "print(hand)"
   ]
  },
  {
   "cell_type": "markdown",
   "id": "bba2d9d3",
   "metadata": {},
   "source": [
    "### Example 3:\n",
    "Generate a Random Password"
   ]
  },
  {
   "cell_type": "code",
   "execution_count": 200,
   "id": "7f1b1963",
   "metadata": {},
   "outputs": [
    {
     "name": "stdout",
     "output_type": "stream",
     "text": [
      "75444199\n"
     ]
    }
   ],
   "source": [
    "\n",
    "import random\n",
    "\n",
    "def generate_password(length=8):\n",
    "    chars = \"1234567890\"+ \"#\"\n",
    "    password = ''\n",
    "    for _ in range(length):\n",
    "        password += random.choice(chars)\n",
    "    return password\n",
    "\n",
    "print(generate_password(8))\n"
   ]
  },
  {
   "cell_type": "code",
   "execution_count": 201,
   "id": "65aeda18",
   "metadata": {},
   "outputs": [
    {
     "name": "stdout",
     "output_type": "stream",
     "text": [
      "0\n",
      "1\n",
      "2\n",
      "3\n",
      "4\n",
      "5\n",
      "6\n",
      "7\n",
      "8\n",
      "9\n"
     ]
    }
   ],
   "source": [
    "for _ in range(10):\n",
    "    print(_)"
   ]
  },
  {
   "cell_type": "code",
   "execution_count": null,
   "id": "896c643a",
   "metadata": {},
   "outputs": [],
   "source": []
  }
 ],
 "metadata": {
  "kernelspec": {
   "display_name": "Python 3 (ipykernel)",
   "language": "python",
   "name": "python3"
  },
  "language_info": {
   "codemirror_mode": {
    "name": "ipython",
    "version": 3
   },
   "file_extension": ".py",
   "mimetype": "text/x-python",
   "name": "python",
   "nbconvert_exporter": "python",
   "pygments_lexer": "ipython3",
   "version": "3.11.3"
  }
 },
 "nbformat": 4,
 "nbformat_minor": 5
}
