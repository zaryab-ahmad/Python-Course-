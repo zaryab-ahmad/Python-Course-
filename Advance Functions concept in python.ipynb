{
 "cells": [
  {
   "cell_type": "markdown",
   "id": "2cc2de3e",
   "metadata": {},
   "source": [
    "# 1. Default Parameter Values\n",
    "Default parameter values allow you to specify a default value for a parameter. This means that if the argument is not passed during the function call, the default value will be used.\n",
    "\n",
    "#### Example:"
   ]
  },
  {
   "cell_type": "code",
   "execution_count": 6,
   "id": "a3f37755",
   "metadata": {},
   "outputs": [
    {
     "name": "stdout",
     "output_type": "stream",
     "text": [
      "Hello, Student!\n",
      "Hello, Adnan!\n"
     ]
    }
   ],
   "source": [
    "def greet(name=\"Student\"):\n",
    "    print(f\"Hello, {name}!\")\n",
    "\n",
    "greet()          \n",
    "greet(\"Adnan\")"
   ]
  },
  {
   "cell_type": "code",
   "execution_count": null,
   "id": "28bc7ac2",
   "metadata": {},
   "outputs": [],
   "source": []
  },
  {
   "cell_type": "markdown",
   "id": "b5d3fb50",
   "metadata": {},
   "source": [
    "## 2. Keyword Arguments\n",
    "Keyword arguments allow you to specify arguments by the parameter name. This makes the function call more readable and allows you to pass arguments in any order.\n",
    "\n",
    "##### Example:"
   ]
  },
  {
   "cell_type": "code",
   "execution_count": 10,
   "id": "624c6697",
   "metadata": {},
   "outputs": [
    {
     "name": "stdout",
     "output_type": "stream",
     "text": [
      "{'age': 21, 'name': 'Zaryab', 'Address': 'peshawar'}\n"
     ]
    }
   ],
   "source": [
    "def display_info(**detials):\n",
    "    print(detials)\n",
    "\n",
    "display_info(age = 21, name= \"Zaryab\", Address = \"peshawar\")"
   ]
  },
  {
   "cell_type": "code",
   "execution_count": 14,
   "id": "6d7f5840",
   "metadata": {},
   "outputs": [
    {
     "data": {
      "text/plain": [
       "4"
      ]
     },
     "execution_count": 14,
     "metadata": {},
     "output_type": "execute_result"
    }
   ],
   "source": [
    "def add(a=2,b=2):\n",
    "    c = a + b\n",
    "    return  c\n",
    "add()"
   ]
  },
  {
   "cell_type": "markdown",
   "id": "42ff6a98",
   "metadata": {},
   "source": [
    "## 3. Variable-Length Arguments (*args and **kwargs)\n",
    "`*args` allows you to pass a variable number of non-keyword arguments.\n",
    "`**kwargs` allows you to pass a variable number of keyword arguments.\n",
    "#### Example with `*args:`"
   ]
  },
  {
   "cell_type": "code",
   "execution_count": 9,
   "id": "669e4756",
   "metadata": {},
   "outputs": [
    {
     "name": "stdout",
     "output_type": "stream",
     "text": [
      "{'name': 'ahamd', 'ID': 19339, 'address': 'Peshawar'}\n"
     ]
    }
   ],
   "source": [
    "def student(**detials):\n",
    "    print(detials)\n",
    "\n",
    "student(name= \"ahamd\", ID = 19339, address = \"Peshawar\")"
   ]
  },
  {
   "cell_type": "code",
   "execution_count": 36,
   "id": "43c9dbd7",
   "metadata": {},
   "outputs": [
    {
     "name": "stdout",
     "output_type": "stream",
     "text": [
      "Sum: 8\n",
      "Sum: 32\n"
     ]
    }
   ],
   "source": [
    "def sum_all(*n):\n",
    "    total = sum(n,2)\n",
    "    print(f\"Sum: {total}\")\n",
    "\n",
    "sum_all(1, 2, 3)\n",
    "sum_all(4, 5, 6, 7, 8)"
   ]
  },
  {
   "cell_type": "markdown",
   "id": "8ecd489a",
   "metadata": {},
   "source": [
    "#### Example with `**kwargs:`"
   ]
  },
  {
   "cell_type": "code",
   "execution_count": 4,
   "id": "bafe2ffc",
   "metadata": {},
   "outputs": [
    {
     "name": "stdout",
     "output_type": "stream",
     "text": [
      "name: Zaryab\n",
      "age: 21\n",
      "country: Pakistan\n"
     ]
    }
   ],
   "source": [
    "def print_info(**kwargs):\n",
    "    for key, value in kwargs.items():\n",
    "        print(f\"{key}: {value}\")\n",
    "\n",
    "print_info(name=\"Zaryab\", age=21, country=\"Pakistan\")"
   ]
  },
  {
   "cell_type": "markdown",
   "id": "84171918",
   "metadata": {},
   "source": [
    "## 4. Lambda Functions (Anonymous Functions)\n",
    "Lambda functions are small anonymous functions defined using the lambda keyword. They can have any number of arguments but only one expression.\n",
    "\n",
    "##### Example:"
   ]
  },
  {
   "cell_type": "code",
   "execution_count": 9,
   "id": "0a3a7be3",
   "metadata": {},
   "outputs": [
    {
     "name": "stdout",
     "output_type": "stream",
     "text": [
      "8\n",
      "[(4, 1), (2, 3), (1, 20)]\n"
     ]
    }
   ],
   "source": [
    "add = lambda x, y: x + y\n",
    "print(add(3, 5))  \n",
    "\n",
    "\n",
    "points = [(2, 3), (4, 1), (1, 20)]\n",
    "points.sort(key=lambda point: point[1])\n",
    "print(points)"
   ]
  },
  {
   "cell_type": "markdown",
   "id": "840924f0",
   "metadata": {},
   "source": [
    "## 5. Scope and Lifetime of Variables\n",
    "Local variables: Variables defined inside a function and can only be used within that function.\n",
    "Global variables: Variables defined outside any function and can be accessed throughout the script.\n",
    "##### Example:"
   ]
  },
  {
   "cell_type": "code",
   "execution_count": 6,
   "id": "412c57a4",
   "metadata": {},
   "outputs": [
    {
     "name": "stdout",
     "output_type": "stream",
     "text": [
      "Local x: 5\n",
      "Global x: 10\n"
     ]
    }
   ],
   "source": [
    "x = 10\n",
    "\n",
    "def example():\n",
    "    x = 5\n",
    "    print(f\"Local x: {x}\")\n",
    "\n",
    "example() \n",
    "print(f\"Global x: {x}\")"
   ]
  },
  {
   "cell_type": "markdown",
   "id": "0f69713e",
   "metadata": {},
   "source": [
    "## 6. The global Keyword\n",
    "The global keyword allows you to modify a global variable inside a function.\n",
    "\n",
    "##### Example:"
   ]
  },
  {
   "cell_type": "code",
   "execution_count": 8,
   "id": "ac11dc0b",
   "metadata": {},
   "outputs": [
    {
     "name": "stdout",
     "output_type": "stream",
     "text": [
      "Before: 10\n",
      "After: 20\n"
     ]
    }
   ],
   "source": [
    "y = 10\n",
    "\n",
    "def modify_global():\n",
    "    global y\n",
    "    y = 20\n",
    "\n",
    "print(f\"Before: {y}\")\n",
    "modify_global()\n",
    "print(f\"After: {y}\") "
   ]
  },
  {
   "cell_type": "code",
   "execution_count": null,
   "id": "28bd0579",
   "metadata": {},
   "outputs": [],
   "source": []
  }
 ],
 "metadata": {
  "kernelspec": {
   "display_name": "Python 3 (ipykernel)",
   "language": "python",
   "name": "python3"
  },
  "language_info": {
   "codemirror_mode": {
    "name": "ipython",
    "version": 3
   },
   "file_extension": ".py",
   "mimetype": "text/x-python",
   "name": "python",
   "nbconvert_exporter": "python",
   "pygments_lexer": "ipython3",
   "version": "3.11.3"
  }
 },
 "nbformat": 4,
 "nbformat_minor": 5
}
