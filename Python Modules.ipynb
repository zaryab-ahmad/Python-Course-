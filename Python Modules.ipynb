{
 "cells": [
  {
   "cell_type": "markdown",
   "id": "cd56a219",
   "metadata": {},
   "source": [
    "# Python Modules"
   ]
  },
  {
   "cell_type": "markdown",
   "id": "672b52b2",
   "metadata": {},
   "source": [
    "### What is a Module?\n",
    "Consider a module to be the same as a code library.<br>\n",
    "A file containing a set of functions you want to include in your application.\n",
    "### Create a Module\n",
    "To create a module just save the code you want in a file with the file extension .py"
   ]
  },
  {
   "cell_type": "markdown",
   "id": "88bc4084",
   "metadata": {},
   "source": [
    "## Use a Module\n",
    "###### Now we can use the module we just created, by using the import statement:\n",
    "#### Example\n",
    "#### Import the module named mymodule, and call the greeting function:\n"
   ]
  },
  {
   "cell_type": "code",
   "execution_count": 6,
   "id": "1ce0c354",
   "metadata": {},
   "outputs": [
    {
     "name": "stdout",
     "output_type": "stream",
     "text": [
      "Student name  Ahmad, student ID 12344\n"
     ]
    }
   ],
   "source": [
    "import Mymodule4\n",
    "import Mymodule5\n",
    "\n",
    "std1 = Mymodule4.Student(\"Ahmad\",12344)\n",
    "print(std1.infro())\n",
    "\n",
    "\n",
    "\n"
   ]
  },
  {
   "cell_type": "code",
   "execution_count": 14,
   "id": "63549c86",
   "metadata": {},
   "outputs": [
    {
     "name": "stdout",
     "output_type": "stream",
     "text": [
      "1073741824000000000000000000000000000000\n"
     ]
    }
   ],
   "source": [
    "import module\n",
    "\n",
    "sub2 = module.maths()\n",
    "print(sub2.pow(20,30))"
   ]
  },
  {
   "cell_type": "markdown",
   "id": "578d68bf",
   "metadata": {},
   "source": [
    "# Variables in Module\n",
    "The module can contain functions, as already described, but also variables of all types\n",
    "`(arrays, dictionaries, objects etc):`\n",
    "### Example\n",
    "Save this code in the file mymodule.py"
   ]
  },
  {
   "cell_type": "markdown",
   "id": "1713d1a8",
   "metadata": {},
   "source": [
    "person1 = {\n",
    " \"name\": \"zaryab\",\n",
    " \"age\": 36,\n",
    " \"country\": \"pakistan\"\n",
    "}\n"
   ]
  },
  {
   "cell_type": "code",
   "execution_count": 38,
   "id": "31dd70a5",
   "metadata": {},
   "outputs": [
    {
     "name": "stdout",
     "output_type": "stream",
     "text": [
      "zaryab\n"
     ]
    }
   ],
   "source": [
    "\n",
    "\n"
   ]
  },
  {
   "cell_type": "markdown",
   "id": "159cd4f3",
   "metadata": {},
   "source": [
    "Naming a Module\n",
    "You can name the module file whatever you like, but it must have the file\n",
    "extension .py\n",
    "Re-naming a Module\n",
    "You can create an alias when you import a module, by using the as keyword:\n",
    "Example\n",
    "Create an alias for mymodule called mx:\n"
   ]
  },
  {
   "cell_type": "code",
   "execution_count": 28,
   "id": "bdd4ec8c",
   "metadata": {},
   "outputs": [
    {
     "name": "stdout",
     "output_type": "stream",
     "text": [
      "Ahmad\n"
     ]
    }
   ],
   "source": [
    "import Mymodule3 as mx\n",
    "a = mx.person1[\"name\"]\n",
    "print(a)"
   ]
  },
  {
   "cell_type": "code",
   "execution_count": 30,
   "id": "c02a007d",
   "metadata": {},
   "outputs": [
    {
     "name": "stdout",
     "output_type": "stream",
     "text": [
      "Ahmad\n"
     ]
    }
   ],
   "source": [
    "import Mymodule3 as mx\n",
    "a = mx.person1[\"name\"]\n",
    "print(a)"
   ]
  },
  {
   "cell_type": "code",
   "execution_count": 37,
   "id": "94b27e74",
   "metadata": {},
   "outputs": [
    {
     "name": "stdout",
     "output_type": "stream",
     "text": [
      "{'name': 'irum', 'id': 12}\n"
     ]
    }
   ],
   "source": [
    "import Dict  as d\n",
    "\n",
    "std = d.StudentInfor(name= \"irum\" , id = 12)\n",
    "print(std)"
   ]
  },
  {
   "cell_type": "code",
   "execution_count": null,
   "id": "ebadd657",
   "metadata": {},
   "outputs": [],
   "source": []
  },
  {
   "cell_type": "code",
   "execution_count": null,
   "id": "76abda95",
   "metadata": {},
   "outputs": [],
   "source": []
  }
 ],
 "metadata": {
  "kernelspec": {
   "display_name": "Python 3 (ipykernel)",
   "language": "python",
   "name": "python3"
  },
  "language_info": {
   "codemirror_mode": {
    "name": "ipython",
    "version": 3
   },
   "file_extension": ".py",
   "mimetype": "text/x-python",
   "name": "python",
   "nbconvert_exporter": "python",
   "pygments_lexer": "ipython3",
   "version": "3.11.3"
  }
 },
 "nbformat": 4,
 "nbformat_minor": 5
}
