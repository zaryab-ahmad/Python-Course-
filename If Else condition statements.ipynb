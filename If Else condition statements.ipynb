{
 "cells": [
  {
   "cell_type": "markdown",
   "id": "bd5a55f9",
   "metadata": {},
   "source": [
    "### Let try the condition for that who can be selected for this couse."
   ]
  },
  {
   "cell_type": "markdown",
   "id": "32f65eaf",
   "metadata": {},
   "source": [
    "##### multiple condition"
   ]
  },
  {
   "cell_type": "code",
   "execution_count": 1,
   "id": "2a7183ff",
   "metadata": {},
   "outputs": [],
   "source": [
    "permission = True \n",
    "uni = \"not islamia\"\n"
   ]
  },
  {
   "cell_type": "code",
   "execution_count": null,
   "id": "c4e68d99",
   "metadata": {},
   "outputs": [],
   "source": [
    "ans = input(\"enter the uni Nmae:   \")\n",
    "permission = input(\"True / False:    \")"
   ]
  },
  {
   "cell_type": "code",
   "execution_count": null,
   "id": "0e691282",
   "metadata": {},
   "outputs": [],
   "source": [
    "if ans in \"icp / islamia / islamia college peshawar\":\n",
    "    print(\"ok\")\n",
    "elif ans not in \"icp / islamia / islamia college peshawar\" and permission == True:\n",
    "    print(\"ok you have the permission to join the class\")\n",
    "else:\n",
    "    print(\"Sorry permission == False\")\n",
    "    "
   ]
  },
  {
   "cell_type": "code",
   "execution_count": null,
   "id": "1a571166",
   "metadata": {},
   "outputs": [],
   "source": [
    "ans1 = input(\"Enter your Department Name:  \")\n",
    "ans2 = input(\"Enter your Uni  Name:   \")\n",
    "ans3 = input(\"Have you submitted the Online form:    \")\n",
    "ans4 = input(\"have you attend the interview:    \")\n"
   ]
  },
  {
   "cell_type": "code",
   "execution_count": null,
   "id": "e849c29a",
   "metadata": {},
   "outputs": [],
   "source": []
  },
  {
   "cell_type": "markdown",
   "id": "ec6436c6",
   "metadata": {},
   "source": [
    "##### This is the example of the Nested Conditions"
   ]
  },
  {
   "cell_type": "code",
   "execution_count": null,
   "id": "17e9947a",
   "metadata": {},
   "outputs": [],
   "source": [
    "if ans1 in \"cs or se\":\n",
    "    print(\"department is ok\")\n",
    "    if ans2 in \"islamia university peshawar / icp / islamia\":\n",
    "        print(\"good\")\n",
    "        if ans3 in \"yes/ YES\":\n",
    "            print(\"good\")\n",
    "            if ans4 in \"yes / YES\":\n",
    "                print(\"you are welcome you have been allow in the class\")\n",
    "            else:\n",
    "                print(\"Sorry you have miss the interview\")\n",
    "        else:\n",
    "            print(\"sorry only those can come for interview who has submit the form\")\n",
    "    else:\n",
    "        print(\"this course for islamian only\")\n",
    "else:\n",
    "    print(\"only those student are allow who have the IT background\")"
   ]
  },
  {
   "cell_type": "markdown",
   "id": "2ab1b2f5",
   "metadata": {},
   "source": [
    "#### print if number is even:"
   ]
  },
  {
   "cell_type": "code",
   "execution_count": null,
   "id": "6a66f8ad",
   "metadata": {},
   "outputs": [],
   "source": [
    "i = 1\n",
    "if i % 2 == 0:\n",
    "    print(i,\"the number is even\")\n",
    "else:\n",
    "    print(\"the number is odd\")"
   ]
  },
  {
   "cell_type": "code",
   "execution_count": 1,
   "id": "440e5aba",
   "metadata": {},
   "outputs": [
    {
     "name": "stdout",
     "output_type": "stream",
     "text": [
      "it is\n"
     ]
    }
   ],
   "source": [
    "if 1 in [1,2,3] and 3 in [2,3,4]:\n",
    "    print(\"it is\")"
   ]
  }
 ],
 "metadata": {
  "kernelspec": {
   "display_name": "Python 3 (ipykernel)",
   "language": "python",
   "name": "python3"
  },
  "language_info": {
   "codemirror_mode": {
    "name": "ipython",
    "version": 3
   },
   "file_extension": ".py",
   "mimetype": "text/x-python",
   "name": "python",
   "nbconvert_exporter": "python",
   "pygments_lexer": "ipython3",
   "version": "3.11.3"
  }
 },
 "nbformat": 4,
 "nbformat_minor": 5
}
