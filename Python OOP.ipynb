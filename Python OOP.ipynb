{
 "cells": [
  {
   "cell_type": "markdown",
   "id": "d56fec6a",
   "metadata": {},
   "source": [
    "# Python Classes and Objects\n",
    "<h3>Python Classes/Objects</h3>\n",
    "Python is an object oriented programming language. <br>\n",
    "Almost everything in Python is an object, with its <br>properties and methods.<br>\n",
    "A Class is like an object constructor, or a \"blueprint\"<br> for creating objects.\n",
    "<h3>Create a Class</h3>\n",
    "To create a class, use the keyword class:\n",
    "\n",
    "<h4>Example</h4>\n",
    "Create a class named MyClass, with a property named x:"
   ]
  },
  {
   "cell_type": "code",
   "execution_count": null,
   "id": "95f874c8",
   "metadata": {},
   "outputs": [],
   "source": [
    "\n",
    "\n",
    "    "
   ]
  },
  {
   "cell_type": "code",
   "execution_count": 3,
   "id": "bec01d91",
   "metadata": {},
   "outputs": [],
   "source": [
    "class MyClass:\n",
    "    x = 5"
   ]
  },
  {
   "cell_type": "markdown",
   "id": "c1c35d12",
   "metadata": {},
   "source": [
    "# Create Object\n",
    "Now we can use the class named myClass to create objects:\n",
    "<h4>Example</h4>\n",
    "Create an object named p1, and print the value of x:"
   ]
  },
  {
   "cell_type": "code",
   "execution_count": 4,
   "id": "d3611951",
   "metadata": {},
   "outputs": [
    {
     "name": "stdout",
     "output_type": "stream",
     "text": [
      "5\n"
     ]
    }
   ],
   "source": [
    "p1 = MyClass()\n",
    "print(p1.x)\n"
   ]
  },
  {
   "cell_type": "markdown",
   "id": "dd2da3a4",
   "metadata": {},
   "source": [
    "## The __init__() Function\n",
    "The examples above are classes and objects in their <br>simplest form, and are not really<br>\n",
    "useful in real life applications.<br>\n",
    "To understand the meaning of classes we have to <br>understand the built-in __init__()<br>\n",
    "function.<br>\n",
    "All classes have a function called __init__(), which is <br>always executed when the class<br>\n",
    "is being initiated.<br>\n",
    "Use the __init__() function to assign values to object <br>properties, or other operations<br>\n",
    "that are necessary to do when the object is being <br>created:\n",
    "<h4>Example</h4>\n",
    "Create a class named Person, use the __init__() function<br> to assign values for name<br>\n",
    "and age:<br>\n"
   ]
  },
  {
   "cell_type": "code",
   "execution_count": 7,
   "id": "5024aabc",
   "metadata": {},
   "outputs": [
    {
     "name": "stdout",
     "output_type": "stream",
     "text": [
      "0\n"
     ]
    }
   ],
   "source": [
    "class Number:\n",
    "    n1 = 0\n",
    "    n2 = 0\n",
    "    def __init__(self,n1 , n2):\n",
    "        pass\n",
    "\n",
    "num1 = Number(22,3)\n",
    "print(num1.n1)\n",
    "    \n",
    "    "
   ]
  },
  {
   "cell_type": "code",
   "execution_count": 8,
   "id": "e95302ee",
   "metadata": {},
   "outputs": [
    {
     "name": "stdout",
     "output_type": "stream",
     "text": [
      "<__main__.Person object at 0x00000202C2ED5E10>\n",
      "ahmad    24\n"
     ]
    }
   ],
   "source": [
    "class Person:\n",
    "    def __init__(self, name, age):\n",
    "        self.name = name\n",
    "        self.age = age\n",
    "        \n",
    "p1 = Person(\"ahmad\",24)\n",
    "print(p1)\n",
    "print(p1.name + \"    \" +str(p1.age))"
   ]
  },
  {
   "cell_type": "markdown",
   "id": "11a32297",
   "metadata": {},
   "source": [
    "Note: The __init__() function is called automatically every time the class is being used\n",
    "to create a new object."
   ]
  },
  {
   "cell_type": "markdown",
   "id": "a6178548",
   "metadata": {},
   "source": [
    "# Object Methods\n",
    "Objects can also contain methods. Methods in objects are<br> functions that belong to the<br>\n",
    "object.<br>\n",
    "Let us create a method in the Person class:<br>\n",
    "<h4>Example</h4>\n",
    "Insert a function that prints a greeting, and execute it<br> on the p1 object:\n"
   ]
  },
  {
   "cell_type": "code",
   "execution_count": 40,
   "id": "e29638a1",
   "metadata": {},
   "outputs": [
    {
     "name": "stdout",
     "output_type": "stream",
     "text": [
      "40\n"
     ]
    },
    {
     "data": {
      "text/plain": [
       "70"
      ]
     },
     "execution_count": 40,
     "metadata": {},
     "output_type": "execute_result"
    }
   ],
   "source": [
    "\n",
    "class add:\n",
    "    def __init__(abc,n1,n2):\n",
    "        abc.n1 = n1\n",
    "        abc.n2 = n2\n",
    "        \n",
    "        \n",
    "    def funAdd(self, n1 ,n2):\n",
    "        numSum = self.n1 + self.n2\n",
    "        return numSum\n",
    "    def addition(self):\n",
    "        numSum = self.n1 + self.n2\n",
    "        \n",
    "        return numSum\n",
    "    def setValues(b, a,c):\n",
    "        \n",
    "        b.a = a\n",
    "        b.c = c\n",
    "\n",
    "\n",
    "a = add(20,20)\n",
    "a.funAdd(20,20)\n",
    "print(a.addition())\n",
    "a.n2 = 50\n",
    "a.addition()\n",
    "\n"
   ]
  },
  {
   "cell_type": "code",
   "execution_count": 37,
   "id": "53e77166",
   "metadata": {},
   "outputs": [
    {
     "name": "stdout",
     "output_type": "stream",
     "text": [
      "Hello my name is Ahmad \n"
     ]
    }
   ],
   "source": [
    "class Person:\n",
    "    \n",
    "    def __init__(self, name, age):\n",
    "        \n",
    "        self.name = name\n",
    "        \n",
    "        self.age = age\n",
    "        \n",
    "    def myfunc(self):\n",
    "        \n",
    "        print(\"Hello my name is \" + self.name)\n",
    "        \n",
    "p1 = Person(\"Ahmad \", 24)\n",
    "\n",
    "p1.myfunc()\n"
   ]
  },
  {
   "cell_type": "markdown",
   "id": "f84e82f1",
   "metadata": {},
   "source": [
    "Note: The self parameter is a reference to the current instance of the class, and is\n",
    "used to access variables that belong to the class."
   ]
  },
  {
   "cell_type": "markdown",
   "id": "9a426423",
   "metadata": {},
   "source": [
    "## The self Parameter\n",
    "The self parameter is a reference to the current <br>instance of the class, and is used to<br>\n",
    "access variables that belongs to the class.<br>\n",
    "It does not have to be named self , you can call it <br>whatever you like, but it has to be<br>\n",
    "the first parameter of any function in the class:<br>\n",
    "<h4>Example</h4>\n",
    "Use the words mysillyobject and abc instead of self:"
   ]
  },
  {
   "cell_type": "code",
   "execution_count": 56,
   "id": "919d00a3",
   "metadata": {},
   "outputs": [
    {
     "name": "stdout",
     "output_type": "stream",
     "text": [
      "Hello my name is Ahmad\n"
     ]
    }
   ],
   "source": [
    "class Person:\n",
    "    def __init__(mysillyobject, name, age):\n",
    "        mysillyobject.name = name\n",
    "        mysillyobject.age = age\n",
    "    def myfunc(abc):\n",
    "        print(\"Hello my name is \" + abc.name)\n",
    "p1 = Person(\"Ahmad\", 24)\n",
    "p1.myfunc()"
   ]
  },
  {
   "cell_type": "markdown",
   "id": "bb61bee3",
   "metadata": {},
   "source": [
    "### Modify Object Properties\n",
    "You can modify properties on objects like this:\n",
    "<h4>Example</h4>\n",
    "Set the age of p1 to 40:"
   ]
  },
  {
   "cell_type": "code",
   "execution_count": 57,
   "id": "8f520e41",
   "metadata": {},
   "outputs": [
    {
     "name": "stdout",
     "output_type": "stream",
     "text": [
      "24\n",
      "40\n"
     ]
    }
   ],
   "source": [
    "print(p1.age)\n",
    "p1.age = 40\n",
    "print(p1.age)"
   ]
  },
  {
   "cell_type": "markdown",
   "id": "a6706b55",
   "metadata": {},
   "source": [
    "## Delete Object Properties\n",
    "You can delete properties on objects by using the del keyword:\n",
    "<h4>Example</h4>\n",
    "Delete the age property from the p1 object:"
   ]
  },
  {
   "cell_type": "code",
   "execution_count": 58,
   "id": "073151c7",
   "metadata": {},
   "outputs": [
    {
     "name": "stdout",
     "output_type": "stream",
     "text": [
      "20\n"
     ]
    }
   ],
   "source": [
    "#print(p1.age)\n",
    "\n",
    "del p1.age\n",
    "#print(p1.age)\n",
    "p2 = Person(\"khan\",20)\n",
    "print(p2.age)"
   ]
  },
  {
   "cell_type": "markdown",
   "id": "a25e9a5b",
   "metadata": {},
   "source": [
    "## Delete Objects\n",
    "You can delete objects by using the del keyword:\n",
    "<h4>Example</h4>\n",
    "Delete the p1 object:"
   ]
  },
  {
   "cell_type": "code",
   "execution_count": 63,
   "id": "fa9a53d8",
   "metadata": {},
   "outputs": [
    {
     "name": "stdout",
     "output_type": "stream",
     "text": [
      "410\n",
      "khan\n"
     ]
    }
   ],
   "source": [
    "p1 = Person(\"ahmad\", 24)\n",
    "del p1\n",
    "p1 = Person(\"usman\",410)\n",
    "print(p1.age)\n",
    "print(p2.name)"
   ]
  },
  {
   "cell_type": "code",
   "execution_count": 75,
   "id": "9b59327c",
   "metadata": {},
   "outputs": [
    {
     "name": "stdout",
     "output_type": "stream",
     "text": [
      "28.259999999999998\n",
      "78.5\n"
     ]
    }
   ],
   "source": [
    "class circle:\n",
    "    def __init__(self,r):\n",
    "        self.r = r\n",
    "    \n",
    "    def cArea(self, r):\n",
    "        self.r = r\n",
    "        area = 3.14 * r  * r \n",
    "        return area\n",
    "\n",
    "    \n",
    "c1 = circle(5)\n",
    "\n",
    "print(c1.cArea(3))\n",
    "print(c1.cArea(5))"
   ]
  },
  {
   "cell_type": "markdown",
   "id": "bf0a3732",
   "metadata": {},
   "source": [
    "## The pass Statement\n",
    "__class__ definitions cannot be empty, but if you for <br>some reason have a __class__ definition<br>\n",
    "with no content, put in the __pass__ statement to avoid <br>getting an error.<br>\n",
    "<h4>Example\n"
   ]
  },
  {
   "cell_type": "code",
   "execution_count": 64,
   "id": "9aa93312",
   "metadata": {},
   "outputs": [],
   "source": [
    "class Person:\n",
    "    pass"
   ]
  },
  {
   "cell_type": "markdown",
   "id": "1f6bb53c",
   "metadata": {},
   "source": [
    "# Python Inheritance\n",
    "<h2>Python Inheritance</h2>\n",
    "Inheritance allows us to define a class that inherits <br>all the methods and properties<br>\n",
    "from another class.<br>\n",
    " __Parent class__   is the class being inherited from, also called base class.<br>\n",
    " __Child class__   is the class that inherits from another class, also called derived class.<br>\n",
    "<h3>Create a Parent Class</h3>\n",
    "Any class can be a parent class, so the syntax is the same as creating any other class:<br>\n",
    "<h4>Example\n",
    "</h4>\n",
    "Create a class named Person, with firstname and lastname properties, and<br>\n",
    "a printname method:\n"
   ]
  },
  {
   "cell_type": "code",
   "execution_count": 76,
   "id": "0e16e1e4",
   "metadata": {},
   "outputs": [
    {
     "name": "stdout",
     "output_type": "stream",
     "text": [
      "Ahmad khan\n"
     ]
    }
   ],
   "source": [
    "class Person:\n",
    "    def __init__(self, fname, lname):\n",
    "        self.firstname = fname\n",
    "        self.lastname = lname\n",
    "    def printname(self):\n",
    "        print(self.firstname, self.lastname)\n",
    "        \n",
    "        \n",
    "#Use the Person class to create an object, and then execute the printname\n",
    "#method:\n",
    "x = Person(\"Ahmad\", \"khan\")\n",
    "x.printname()"
   ]
  },
  {
   "cell_type": "code",
   "execution_count": null,
   "id": "7db28322",
   "metadata": {},
   "outputs": [],
   "source": []
  },
  {
   "cell_type": "markdown",
   "id": "a982a3bf",
   "metadata": {},
   "source": [
    "# Create a Child Class\n",
    "To create a class that inherits the functionality from another class, send the parent<br>\n",
    "class as a parameter when creating the child class:\n",
    "<h4>Example</h4>\n",
    "Create a class named Student, which will inherit the properties and methods from<br>\n",
    "the Person class:"
   ]
  },
  {
   "cell_type": "code",
   "execution_count": 77,
   "id": "13d6019e",
   "metadata": {},
   "outputs": [],
   "source": [
    "class Student(Person):\n",
    "    pass"
   ]
  },
  {
   "cell_type": "code",
   "execution_count": 92,
   "id": "8e9e76a8",
   "metadata": {},
   "outputs": [
    {
     "name": "stdout",
     "output_type": "stream",
     "text": [
      "Small\n",
      "small\n",
      "large\n",
      "6\n"
     ]
    }
   ],
   "source": [
    "class Shapes:\n",
    "    def __init__(self,size):\n",
    "        self.size = size\n",
    "    def printSize(self):\n",
    "        print(self.size)\n",
    "    def area(self,h,w):\n",
    "        self.h = h\n",
    "        self.w = w\n",
    "    def sizeConr(self,size):\n",
    "        if self.size == \"small\":\n",
    "            self.size = \"large\"\n",
    "            print(self.size)\n",
    "\n",
    "sh1 = Shapes(\"Small\"\n",
    "            )\n",
    "\n",
    "print(sh1.size)\n",
    "\n",
    "class Circle(Shapes):\n",
    "    def __init__(self,size,r):\n",
    "        super().__init__(size)\n",
    "        self.r = r\n",
    "    def sizeConr(self , size , r):\n",
    "        super().sizeConr(size)\n",
    "        self.r = r\n",
    "        print(r)\n",
    "        \n",
    "    def area(self , r , d):\n",
    "        self.r = r\n",
    "        self.d =d\n",
    "\n",
    "c1 = Circle(\"small\",5)\n",
    "\n",
    "c1.printSize()\n",
    "\n",
    "c1.sizeConr(\"small\",6)\n",
    "\n"
   ]
  },
  {
   "cell_type": "markdown",
   "id": "e1653f44",
   "metadata": {},
   "source": [
    "__Note:__  Use the pass keyword when you do not want to add any other properties or<br>\n",
    "methods to the class.\n",
    "Now the Student class has the same properties and methods as the Person class.\n",
    "<h4>Example</h4>\n",
    "Use the Student class to create an object, and then execute the printname method:"
   ]
  },
  {
   "cell_type": "code",
   "execution_count": 54,
   "id": "54458a25",
   "metadata": {},
   "outputs": [
    {
     "name": "stdout",
     "output_type": "stream",
     "text": [
      "Ahmad Khan\n"
     ]
    }
   ],
   "source": [
    "x = Student(\"Ahmad\", \"Khan\")\n",
    "x.printname()"
   ]
  },
  {
   "cell_type": "markdown",
   "id": "571b8b65",
   "metadata": {},
   "source": [
    "# Add the __init__() Function\n",
    "So far we have created a child class that inherits the properties and methods from its<br>\n",
    "parent.\n",
    "We want to add the __init__() function to the child class (instead of the pass keyword).<br>\n",
    "__Note:__ The __init__() function is called automatically every time the class is being used<br>\n",
    "to create a new object.\n",
    "<h4>Example</h4>\n",
    "Add the __init__() function to the Student class:"
   ]
  },
  {
   "cell_type": "code",
   "execution_count": 56,
   "id": "245bfa68",
   "metadata": {},
   "outputs": [
    {
     "name": "stdout",
     "output_type": "stream",
     "text": [
      "Ahmad khan\n"
     ]
    }
   ],
   "source": [
    "class Student(Person):\n",
    "    def __init__(self, fname, lname):\n",
    "        self.fname = fname\n",
    "        self.lname = lname\n",
    "\n",
    "s1 = Student(\"Ahmad\", \"khan\")\n",
    "print(s1.fname, s1.lname)        "
   ]
  },
  {
   "cell_type": "markdown",
   "id": "45864376",
   "metadata": {},
   "source": [
    "When you add the __init__() function, the child class will no longer inherit the<br>\n",
    "parent's __init__() function.\n",
    "__Note:__ The child's __init__() function overrides the inheritance of the<br>\n",
    "parent's __init__() function.<br>\n",
    "To keep the inheritance of the parent's __init__() <br>function, add a call to the<br>\n",
    "parent's __init__() function:\n",
    "<h4>Example\n",
    "</h4>"
   ]
  },
  {
   "cell_type": "code",
   "execution_count": 64,
   "id": "56000122",
   "metadata": {},
   "outputs": [
    {
     "name": "stdout",
     "output_type": "stream",
     "text": [
      "Ahmad khan\n"
     ]
    }
   ],
   "source": [
    "class Student(Person):\n",
    "    def __init__(self, fname, lname):\n",
    "        Person.__init__(self, fname, lname)\n",
    "        \n",
    "s1  = Student(\"Ahmad\",\"khan\")\n",
    "print(s1.fname,s1.lname)"
   ]
  },
  {
   "cell_type": "markdown",
   "id": "e4c341ab",
   "metadata": {},
   "source": [
    "Now we have successfully added the __init__() function, and kept the inheritance of<br>\n",
    "the parent class, and we are ready to add functionality in the __init__() function."
   ]
  },
  {
   "cell_type": "markdown",
   "id": "38ce3330",
   "metadata": {},
   "source": [
    "# Use the super() Function\n",
    "Python also has a __super()__  function that will make the child class inherit all the methods<br>\n",
    "and properties from its parent:"
   ]
  },
  {
   "cell_type": "code",
   "execution_count": 66,
   "id": "fc014f12",
   "metadata": {},
   "outputs": [
    {
     "name": "stdout",
     "output_type": "stream",
     "text": [
      "ahmad khan\n"
     ]
    }
   ],
   "source": [
    "#Example\n",
    "class Student(Person):\n",
    "    def __init__(self, fname, lname):\n",
    "        super().__init__(fname, lname)\n",
    "        \n",
    "        \n",
    "s1 = Student(\"ahmad\", \"khan\")\n",
    "print(s1.fname,s1.lname)"
   ]
  },
  {
   "cell_type": "markdown",
   "id": "2bea82b8",
   "metadata": {},
   "source": [
    "By using the super() function, you do not have to use the name of the parent element,<br>\n",
    "it will automatically inherit the methods and properties from its parent."
   ]
  },
  {
   "cell_type": "markdown",
   "id": "60c40cff",
   "metadata": {},
   "source": [
    "# Add Properties\n",
    "<h4>Example</h4>\n",
    "Add a property called graduationyear to the Student class:\n"
   ]
  },
  {
   "cell_type": "code",
   "execution_count": 89,
   "id": "1086c030",
   "metadata": {},
   "outputs": [],
   "source": [
    "class Student(Person):\n",
    "    def __init__(self, fname, lname,year):\n",
    "        super().__init__(fname, lname)\n",
    "        self.graduationyear = year\n",
    "        \n",
    "s1 = Student(\"ahmad\",\"khan\",2022)"
   ]
  },
  {
   "cell_type": "markdown",
   "id": "ec41f408",
   "metadata": {},
   "source": [
    "In the example below, the year 2019 should be a variable, and passed into<br>\n",
    "the Student class when creating student objects. To do so, add another parameter in<br>\n",
    "the __init__() function:"
   ]
  },
  {
   "cell_type": "markdown",
   "id": "a6b2f2e5",
   "metadata": {},
   "source": [
    "<h4>Example</h4>\n",
    "Add a year parameter, and pass the correct year when creating objects:"
   ]
  },
  {
   "cell_type": "code",
   "execution_count": 70,
   "id": "feac720d",
   "metadata": {},
   "outputs": [
    {
     "name": "stdout",
     "output_type": "stream",
     "text": [
      "2022\n"
     ]
    }
   ],
   "source": [
    "class Student(Person):\n",
    "    def __init__(self, fname, lname, year):\n",
    "        super().__init__(fname, lname)\n",
    "        self.graduationyear = year\n",
    "        \n",
    "s1 = Student(\"ahmad\",\"khan\",2022)\n",
    "\n",
    "print(s1.graduationyear)"
   ]
  },
  {
   "cell_type": "markdown",
   "id": "1404379f",
   "metadata": {},
   "source": [
    "## Add Methods\n",
    "<h4>Example</h4>\n",
    "Add a method called welcome to the Student class:\n"
   ]
  },
  {
   "cell_type": "code",
   "execution_count": 76,
   "id": "2d7737a7",
   "metadata": {},
   "outputs": [
    {
     "name": "stdout",
     "output_type": "stream",
     "text": [
      "Welcome Ahmad Khan to the class of 2022\n"
     ]
    }
   ],
   "source": [
    "class Person:\n",
    "    def __init__(self, firstname, lastname):\n",
    "        self.firstname = firstname\n",
    "        self.lastname = lastname\n",
    "\n",
    "class Student(Person):\n",
    "    def __init__(self, firstname, lastname, graduationyear):\n",
    "        super().__init__(firstname, lastname) \n",
    "        self.graduationyear = graduationyear  \n",
    "\n",
    "    def welcome(self):\n",
    "        print(\"Welcome\", self.firstname, self.lastname, \"to the class of\", self.graduationyear)\n",
    "\n",
    "s1 = Student(\"Ahmad\", \"Khan\", 2022)\n",
    "s1.welcome()"
   ]
  },
  {
   "cell_type": "markdown",
   "id": "bd3d3877",
   "metadata": {},
   "source": [
    "# Python Iterators\n",
    "An iterator is an object that contains a countable number of values.<br>\n",
    "An iterator is an object that can be iterated upon, meaning that you can traverse<br>\n",
    "through all the values.<br>\n",
    "Technically, in Python, an iterator is an object which <br>implements the iterator protocol,<br>\n",
    "which consist of the methods __iter__() and __next__().<br>\n",
    "<h2>Iterator vs Iterable</h2>\n",
    "Lists, tuples, dictionaries, and sets are all iterable objects. They are<br>\n",
    "iterable containers which you can get an iterator from.\n",
    "All these objects have a iter() method which is used to <br>get an iterator:\n"
   ]
  },
  {
   "cell_type": "markdown",
   "id": "441f1077",
   "metadata": {},
   "source": [
    "#### Example\n",
    "Return an iterator from a tuple, and print each value:"
   ]
  },
  {
   "cell_type": "code",
   "execution_count": 1,
   "id": "db8dd8e4",
   "metadata": {},
   "outputs": [
    {
     "name": "stdout",
     "output_type": "stream",
     "text": [
      "apple\n",
      "banana\n",
      "cherry\n"
     ]
    }
   ],
   "source": [
    "mytuple = (\"apple\", \"banana\", \"cherry\")\n",
    "myit = iter(mytuple)\n",
    "print(next(myit))\n",
    "print(next(myit))\n",
    "print(next(myit))\n"
   ]
  },
  {
   "cell_type": "markdown",
   "id": "93a46d2c",
   "metadata": {},
   "source": [
    "Even strings are iterable objects, and can return an iterator:"
   ]
  },
  {
   "cell_type": "markdown",
   "id": "135e8595",
   "metadata": {},
   "source": [
    "#### Example\n",
    "Strings are also iterable objects, containing a sequence of characters:"
   ]
  },
  {
   "cell_type": "code",
   "execution_count": 2,
   "id": "df9c42d8",
   "metadata": {},
   "outputs": [
    {
     "name": "stdout",
     "output_type": "stream",
     "text": [
      "b\n",
      "a\n",
      "n\n",
      "a\n",
      "n\n",
      "a\n"
     ]
    }
   ],
   "source": [
    "mystr = \"banana\"\n",
    "myit = iter(mystr)\n",
    "print(next(myit))\n",
    "print(next(myit))\n",
    "print(next(myit))\n",
    "print(next(myit))\n",
    "print(next(myit))\n",
    "print(next(myit))"
   ]
  },
  {
   "cell_type": "markdown",
   "id": "adc481bb",
   "metadata": {},
   "source": [
    "## Looping Through an Iterator\n",
    "We can also use a for loop to iterate through an iterable object:\n",
    "<h4>Example</h4>\n",
    "Iterate the values of a tuple:"
   ]
  },
  {
   "cell_type": "code",
   "execution_count": 3,
   "id": "26ced775",
   "metadata": {},
   "outputs": [
    {
     "name": "stdout",
     "output_type": "stream",
     "text": [
      "apple\n",
      "banana\n",
      "cherry\n"
     ]
    }
   ],
   "source": [
    "mytuple = (\"apple\", \"banana\", \"cherry\")\n",
    "for x in mytuple:\n",
    "    print(x)\n"
   ]
  },
  {
   "cell_type": "code",
   "execution_count": 4,
   "id": "b2509de3",
   "metadata": {},
   "outputs": [
    {
     "name": "stdout",
     "output_type": "stream",
     "text": [
      "b\n",
      "a\n",
      "n\n",
      "a\n",
      "n\n",
      "a\n"
     ]
    }
   ],
   "source": [
    "#Example\n",
    "#Iterate the characters of a string:\n",
    "mystr = \"banana\"\n",
    "for x in mystr:\n",
    "    print(x)\n"
   ]
  },
  {
   "cell_type": "markdown",
   "id": "6dfe262d",
   "metadata": {},
   "source": [
    "The __for__ loop actually creates an iterator object and executes the next() method for\n",
    "each loop."
   ]
  },
  {
   "cell_type": "markdown",
   "id": "0c2a0586",
   "metadata": {},
   "source": [
    "# Create an Iterator\n",
    "To create an object/class as an iterator you have to implement the<br>\n",
    "methods __iter__() and __next__() to your object.<br>\n",
    "As you have learned in the Python Classes/Objects chapter, all classes have a function<br>\n",
    "called __init__(), which allows you do some initializing when the object is being<br>\n",
    "created.<br>\n",
    "The __iter__() method acts similar, you can do operations (initializing etc.), but must<br>\n",
    "always return the iterator object itself.<br>\n",
    "The __next__() method also allows you to do operations, and must return the next item<br>\n",
    "in the sequence.<br>\n",
    "<h4>Example</h4>\n",
    "Create an iterator that returns numbers, starting with 1, and each sequence will<br>\n",
    "increase by one (returning 1,2,3,4,5 etc.):"
   ]
  },
  {
   "cell_type": "code",
   "execution_count": 6,
   "id": "11bb8ed7",
   "metadata": {},
   "outputs": [
    {
     "name": "stdout",
     "output_type": "stream",
     "text": [
      "1\n",
      "2\n",
      "3\n",
      "4\n",
      "5\n",
      "6 will print\n",
      "6\n"
     ]
    }
   ],
   "source": [
    "class MyNumbers:\n",
    "    def __iter__(self):\n",
    "        self.a = 1\n",
    "        return self\n",
    "    def __next__(self):\n",
    "        x = self.a\n",
    "        self.a += 1\n",
    "        return x\n",
    "    \n",
    "    \n",
    "myclass = MyNumbers()\n",
    "myiter = iter(myclass)\n",
    "\n",
    "print(next(myiter))\n",
    "print(next(myiter))\n",
    "print(next(myiter))\n",
    "print(next(myiter))\n",
    "print(next(myiter))\n",
    "\n",
    "#if you want to print more values \n",
    "#add Iterator here\n",
    "print(\"6 will print\")\n",
    "print(next(myiter))"
   ]
  },
  {
   "cell_type": "markdown",
   "id": "6ba0ec38",
   "metadata": {},
   "source": [
    "# StopIteration\n",
    "The example above would continue forever if you had enough next() statements, or if<br>\n",
    "it was used in a for loop.<br>\n",
    "To prevent the iteration to go on forever, we can use the StopIteration statement.<br>\n",
    "In the __next__() method, we can add a terminating condition to raise an error if the<br>\n",
    "iteration is done a specified number of times:\n",
    "<h4>Example</h4>\n",
    "Stop after 20 iterations:"
   ]
  },
  {
   "cell_type": "code",
   "execution_count": 10,
   "id": "01cbf29e",
   "metadata": {},
   "outputs": [
    {
     "name": "stdout",
     "output_type": "stream",
     "text": [
      "1\n",
      "2\n",
      "3\n",
      "4\n",
      "5\n",
      "6\n",
      "7\n",
      "8\n",
      "9\n",
      "10\n",
      "11\n",
      "12\n",
      "13\n",
      "14\n",
      "15\n",
      "16\n",
      "17\n",
      "18\n",
      "19\n",
      "20\n"
     ]
    }
   ],
   "source": [
    "class MyNumbers:\n",
    "    def __iter__(self):\n",
    "        self.a = 1\n",
    "        return self\n",
    "    def __next__(self):\n",
    "        if self.a <= 20:\n",
    "            x = self.a\n",
    "            self.a += 1\n",
    "            return x\n",
    "        else:\n",
    "            raise StopIteration\n",
    "        \n",
    "        \n",
    "myclass = MyNumbers()\n",
    "myiter = iter(myclass)\n",
    "for x in myiter:\n",
    "    print(x)"
   ]
  },
  {
   "cell_type": "code",
   "execution_count": null,
   "id": "33e55652",
   "metadata": {},
   "outputs": [],
   "source": []
  }
 ],
 "metadata": {
  "kernelspec": {
   "display_name": "Python 3 (ipykernel)",
   "language": "python",
   "name": "python3"
  },
  "language_info": {
   "codemirror_mode": {
    "name": "ipython",
    "version": 3
   },
   "file_extension": ".py",
   "mimetype": "text/x-python",
   "name": "python",
   "nbconvert_exporter": "python",
   "pygments_lexer": "ipython3",
   "version": "3.11.3"
  }
 },
 "nbformat": 4,
 "nbformat_minor": 5
}
