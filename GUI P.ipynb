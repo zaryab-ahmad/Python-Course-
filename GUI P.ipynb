{
 "cells": [
  {
   "cell_type": "code",
   "execution_count": 2,
   "id": "fa0a69f4",
   "metadata": {},
   "outputs": [],
   "source": [
    "import tkinter as tk \n",
    "\n",
    "\n",
    "root= tk.Tk() # creatig window object\n",
    "root.geometry(\"800x500\") # seting window size\n",
    "root.title(\"First GUI program Ever\") # assigning title to the window\n",
    "\n",
    "label = tk.Label(root, text=\"Hello world\", font=(\"Arial\", 18))\n",
    "# creating a label \n",
    "label.pack(padx = 20 , pady = 50 )\n",
    "# padding \n",
    "#creating a text box\n",
    "textbox = tk.Text(root,height=7, font=(\"Arial\", 18))\n",
    "textbox.pack(padx = 20)\n",
    "# geting entries from th users\n",
    "#myentry = tk.Entry(root)\n",
    "#myentry.pack()\n",
    "\n",
    "#button = tk.Button(root, text=\"click here\", font=(\"Arial\",18))\n",
    "#button.pack()\n",
    "\n",
    "buttonframe = tk.Frame(root)\n",
    "buttonframe.columnconfigure(0 , weight= 1)\n",
    "buttonframe.columnconfigure(1 , weight= 1)\n",
    "buttonframe.columnconfigure(2 , weight= 1)\n",
    "\n",
    "\n",
    "btn1 = tk.Button(buttonframe, text=\"1\", font=(\"Arial\",18))\n",
    "\n",
    "btn1.grid(row=0, column=0, sticky= tk.W+tk.E)\n",
    "\n",
    "btn2 = tk.Button(buttonframe, text=\"1\", font=(\"Arial\",18))\n",
    "\n",
    "btn2.grid(row=0, column=1, sticky= tk.W+tk.E)\n",
    "btn3 = tk.Button(buttonframe, text=\"1\", font=(\"Arial\",18))\n",
    "\n",
    "btn3.grid(row=0, column=2, sticky= tk.W+tk.E)\n",
    "btn4 = tk.Button(buttonframe, text=\"1\", font=(\"Arial\",18))\n",
    "\n",
    "btn4.grid(row=1, column=0, sticky=tk.W+tk.E)\n",
    "\n",
    "buttonframe.pack(fill=\"x\")\n",
    "\n",
    "btn6 = tk.Button(root, text=\"TEST\")\n",
    "btn6.place(x= 300, y = 200, height=60,width= 90) # using the place yoyu can place anything anyever\n",
    "\n",
    "\n",
    "root.mainloop()"
   ]
  },
  {
   "cell_type": "markdown",
   "id": "83cdc10b",
   "metadata": {},
   "source": [
    "### Now using of the above basic m"
   ]
  },
  {
   "cell_type": "code",
   "execution_count": 1,
   "id": "61a97d4f",
   "metadata": {},
   "outputs": [
    {
     "data": {
      "text/plain": [
       "<__main__.MyGUI at 0x28c9a8e2590>"
      ]
     },
     "execution_count": 1,
     "metadata": {},
     "output_type": "execute_result"
    }
   ],
   "source": [
    "import tkinter as tk\n",
    "from tkinter import messagebox\n",
    "\n",
    "class MyGUI:\n",
    "    def __init__(self):\n",
    "        self.root = tk.Tk()\n",
    "        self.root.geometry(\"400x400\")\n",
    "    \n",
    "        self.label = tk.Label(self.root, text=\"Your massage\", font=(\"Arial\",18) )\n",
    "        self.label.pack(padx= 10, pady = 10)\n",
    "    \n",
    "        self.text = tk.Text(self.root,height= 5, font=(\"Arial\",18))\n",
    "        self.text.pack(padx = 10, pady= 10)\n",
    "    \n",
    "    \n",
    "        self.root.mainloop()\n",
    "        \n",
    "        \n",
    "    \n",
    "MyGUI()"
   ]
  },
  {
   "cell_type": "code",
   "execution_count": null,
   "id": "18504609",
   "metadata": {},
   "outputs": [],
   "source": []
  },
  {
   "cell_type": "code",
   "execution_count": null,
   "id": "a1d9253b",
   "metadata": {},
   "outputs": [],
   "source": []
  }
 ],
 "metadata": {
  "kernelspec": {
   "display_name": "Python 3 (ipykernel)",
   "language": "python",
   "name": "python3"
  },
  "language_info": {
   "codemirror_mode": {
    "name": "ipython",
    "version": 3
   },
   "file_extension": ".py",
   "mimetype": "text/x-python",
   "name": "python",
   "nbconvert_exporter": "python",
   "pygments_lexer": "ipython3",
   "version": "3.11.3"
  }
 },
 "nbformat": 4,
 "nbformat_minor": 5
}
